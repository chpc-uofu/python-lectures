{
 "cells": [
  {
   "cell_type": "markdown",
   "id": "33c96dbe-8c75-40e6-bce5-e38c9bd0ccf0",
   "metadata": {},
   "source": [
    "# Python Punctuation Cheat Sheet\n",
    "\n",
    "Here is a quick overview of Python \"punctuation.\""
   ]
  },
  {
   "cell_type": "markdown",
   "id": "cd869f13-483a-4e1e-b353-544f9e838f39",
   "metadata": {},
   "source": [
    "## The hash symbol `#`"
   ]
  },
  {
   "cell_type": "code",
   "execution_count": null,
   "id": "5b3c5217-52a1-4310-a735-88b7c9caca78",
   "metadata": {},
   "outputs": [],
   "source": [
    "# The hash symbol '#' marks the beginning of a comment.\n",
    "# Python ignores everything after the # symbol up to the end of the line."
   ]
  },
  {
   "cell_type": "markdown",
   "id": "9eca5e2b-c977-42b8-aef7-67e6a16c4d12",
   "metadata": {
    "tags": []
   },
   "source": [
    "## Parentheses `(` and `)`"
   ]
  },
  {
   "cell_type": "code",
   "execution_count": null,
   "id": "d58e45ae-6ac4-4852-826a-c4c6aba09eda",
   "metadata": {},
   "outputs": [],
   "source": [
    "# Parentheses are used when defining functions - the parameters to the function are \n",
    "# enclosed within parentheses.\n",
    "def add_two_values(x, y):\n",
    "    return x + y\n",
    "\n",
    "# They are also also used when we call functions:\n",
    "z=add_two_values(5, 3)\n",
    "\n",
    "# In function definitions and function calls, the parentheses are required even if the \n",
    "# function takes no parameters.\n",
    "\n",
    "# Parentheses are used to define tuples:\n",
    "y = (\"Tuesday\", 42)\n",
    "\n",
    "# This is true for simple tuples or tuple comprehensions:\n",
    "z = (i for i in range(3))\n",
    "\n",
    "# Parentheses are used in class definitions when inheriting from a base class:\n",
    "class MyException(Exception):\n",
    "    pass\n",
    "\n",
    "# Parentheses are used to specify order of operations:\n",
    "(3 + 4) * 5 != 3 + 4 * 5"
   ]
  },
  {
   "cell_type": "markdown",
   "id": "7141582f-8b1f-42bb-bcd9-c0d7c3bf4d11",
   "metadata": {
    "tags": []
   },
   "source": [
    "## Curly braces `{` and `}`"
   ]
  },
  {
   "cell_type": "code",
   "execution_count": null,
   "id": "8fe5d9ba-558f-452e-bf69-1474b0a23e9e",
   "metadata": {},
   "outputs": [],
   "source": [
    "# Curly braces are used when creating sets:\n",
    "weekdays = {'Monday', 'Tuesday', 'Wednesday', 'Thursday', 'Friday'}\n",
    "\n",
    "# Curly braces are also used when creating dictionaries:\n",
    "some_elements = {'H': 'hydrogen', 'He': 'helium', 'Li': 'lithium', 'Be': 'berylium'}\n",
    "\n",
    "# Curly braces are used in f-string notation:\n",
    "print(f\"The number of week days is {len(weekdays)}.\")"
   ]
  },
  {
   "cell_type": "markdown",
   "id": "35985285-7796-4c79-b746-ebf95346b4a9",
   "metadata": {},
   "source": [
    "## Square brackets `[` and `]`"
   ]
  },
  {
   "cell_type": "code",
   "execution_count": null,
   "id": "5cda8400-65b4-404f-81ad-41091685012d",
   "metadata": {},
   "outputs": [],
   "source": [
    "# Square brackets are used when creating lists:\n",
    "x = ['a', 'b', 'c']\n",
    "\n",
    "# This is true for regular lists or list comprehensions:\n",
    "x = [i for i in range(10)]\n",
    "\n",
    "# They are also used to enclose the index when accessing objects in a sequence:\n",
    "print(\"Object number 2 of the list x is\", x[2])\n",
    "\n",
    "# And they are used to enclose the key when retrieving a value from a dictionary.\n",
    "print(\"The element whose symbol is 'He' is\", some_elements['He'])"
   ]
  },
  {
   "cell_type": "markdown",
   "id": "f464522c-b32c-4914-b9e8-2ee2962c67e4",
   "metadata": {},
   "source": [
    "## Statements ending in a colon `:`"
   ]
  },
  {
   "cell_type": "markdown",
   "id": "02e08446-7a62-4e5f-884e-7ec618c8434e",
   "metadata": {},
   "source": [
    "A number of statements end in a colon (`:`) and all of these statements are followed by an indented block of code. These statements include:\n",
    "* `def`\n",
    "* `if`, `elif`, and `else`\n",
    "* `for`\n",
    "* `while`\n",
    "* `try` and `except`\n",
    "* `class`\n",
    "* `with`"
   ]
  },
  {
   "cell_type": "markdown",
   "id": "d9b468a6-60fa-4f34-a297-d6fb5d2d7a2f",
   "metadata": {},
   "source": [
    "## At sign `@`"
   ]
  },
  {
   "cell_type": "markdown",
   "id": "e67b0a34-88c4-4a2d-a786-28d296b1c81e",
   "metadata": {},
   "source": [
    "The at sign (`@`) is used to decorate functions, an advanced topic we don't discuss in this\n",
    "introduction to Python, but is covered [here](https://realpython.com/search?q=decorators)."
   ]
  },
  {
   "cell_type": "code",
   "execution_count": null,
   "id": "fc54c71c-a21a-4a6d-a4a3-15228fdf37fb",
   "metadata": {},
   "outputs": [],
   "source": [
    "# Here is an example of a function decorator:\n",
    "@classmethod\n",
    "def method_name(argument1, argument2):\n",
    "    pass\n",
    "    # and so on..."
   ]
  },
  {
   "cell_type": "code",
   "execution_count": null,
   "id": "af9b0b64-dd8e-4384-8eb8-935a50b3b894",
   "metadata": {},
   "outputs": [],
   "source": [
    "def log_function_call(function):\n",
    "    print(f\"{function} was called!\")\n",
    "    return function\n",
    "\n",
    "@log_function_call\n",
    "def say_hello():\n",
    "    print(\"Hello!\")\n",
    "\n",
    "say_hello()"
   ]
  }
 ],
 "metadata": {
  "kernelspec": {
   "display_name": "Python 3 (ipykernel)",
   "language": "python",
   "name": "python3"
  },
  "language_info": {
   "codemirror_mode": {
    "name": "ipython",
    "version": 3
   },
   "file_extension": ".py",
   "mimetype": "text/x-python",
   "name": "python",
   "nbconvert_exporter": "python",
   "pygments_lexer": "ipython3",
   "version": "3.13.0"
  }
 },
 "nbformat": 4,
 "nbformat_minor": 5
}
