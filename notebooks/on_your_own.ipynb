{
 "cells": [
  {
   "cell_type": "markdown",
   "metadata": {},
   "source": [
    "# Exercises: On Your Own"
   ]
  },
  {
   "cell_type": "markdown",
   "metadata": {},
   "source": [
    "Learning a new language just takes lots and lots of practice. Here are some exercises, with solutions at the bottom of the page."
   ]
  },
  {
   "cell_type": "markdown",
   "metadata": {},
   "source": [
    "**Exercise 1:** Given a list of tuples with information about elements in the periodic table, create a function that prints the information in a nice tabular format, and then call your function passing it the list of elements. Try to print the element names and symbols in fixed-width columns, print the atomic numbers right-justified in a column, and print the atomic masses right-justified in a column with only 2 digits to the right of decimal point."
   ]
  },
  {
   "cell_type": "code",
   "execution_count": 4,
   "metadata": {},
   "outputs": [],
   "source": [
    "# Here is the list of elements. Each tuple contains the element name, its symbol, its atomic number, \n",
    "# and its atomic mass.\n",
    "elements = [\n",
    "    ( 'Hydrogen', 'H', 1, 1.008 ),\n",
    "    ( 'Helium', 'He', 2, 4.0026 ),\n",
    "    ( 'Lithium', 'Li', 3, 6.94 ),\n",
    "    ( 'Beryllium', 'Be', 4, 9.0122 ),\n",
    "    ( 'Boron', 'B', 5, 10.81 ),\n",
    "    ( 'Carbon', 'C', 6, 12.011 ),\n",
    "    ( 'Nitrogen', 'N', 7, 14.007 ),\n",
    "    ( 'Oxygen', 'O', 8, 15.999 ),\n",
    "    ( 'Fluorine', 'F', 9, 18.998 ),\n",
    "    ( 'Neon', 'Ne', 10, 20.180 ),\n",
    "]"
   ]
  },
  {
   "cell_type": "code",
   "execution_count": 13,
   "metadata": {},
   "outputs": [],
   "source": [
    "# Your solution:"
   ]
  },
  {
   "cell_type": "markdown",
   "metadata": {},
   "source": [
    "**Exercise 2:** A quadratic function is an algebraic function in the form y = ax<sup>2</sup> + bx + c. Implement this as a python function that takes arguments x, a, b, and c, and returns y. Then, create a second function that takes only x as an argument, and uses your first function to implement the algebraic function y = 1x<sup>2</sup> + 2x + 4. Call your second function with integer values of x from 0 up to and including 20, printing x and y."
   ]
  },
  {
   "cell_type": "code",
   "execution_count": null,
   "metadata": {},
   "outputs": [],
   "source": [
    "# Your solution:"
   ]
  },
  {
   "cell_type": "markdown",
   "metadata": {
    "tags": []
   },
   "source": [
    "**Exercise 3:** The provided file \"state_capitals.txt\" is a tab-delimited text file that lists all 50 US state capitals, along with their populations and some other information (thanks, Wikipedia! https://en.wikipedia.org/wiki/List_of_capitals_in_the_United_States ). If you look at the file you'll notice it has a header row, that the city name is in the 4th column (counting from 1), and the city population (not the metro area population) is in the 7th column. Write some python code that reads the file and prints the name of the capital city with the greatest population, and what that population is."
   ]
  },
  {
   "cell_type": "code",
   "execution_count": 1,
   "metadata": {},
   "outputs": [],
   "source": [
    "# Your solution:"
   ]
  },
  {
   "cell_type": "markdown",
   "metadata": {
    "tags": []
   },
   "source": [
    "**Exercise 4:** The python standard library module \"time\" contains a bunch of functions to get the time and date, and to format the time and date in useful ways ( https://docs.python.org/3.7/library/time.html ). Once you execute \"import time\" you have access to all those functions. The main function, time.time(), returns the number of seconds that have elapsed since January 1 1970 GMT, which is when time began (really!). \n",
    "\n",
    "First, import time, and then execute time.time() to see what time it is. Then, try \"time.ctime( time.time() )\". This returns a nicely formatted time and date, adjusted for your local time zone and daylight savings. \n",
    "\n",
    "Next, try \"time.localtime( time.time() )\". What is the type of object that is returned? That object contains the year, month, day_of_month, hour, minute, second, and other values, adjusted for your local time zone. Using time.localtime, create a function that returns the current date in the format \"year-month-day_of_month\". This can be useful when creating an output file whose name contains the date."
   ]
  },
  {
   "cell_type": "code",
   "execution_count": null,
   "metadata": {},
   "outputs": [],
   "source": [
    "# Your solution:"
   ]
  },
  {
   "cell_type": "markdown",
   "metadata": {},
   "source": [
    "# Solutions"
   ]
  },
  {
   "cell_type": "code",
   "execution_count": 15,
   "metadata": {},
   "outputs": [
    {
     "name": "stdout",
     "output_type": "stream",
     "text": [
      "Hydrogen        H       1   1.01\n",
      "Helium          He      2   4.00\n",
      "Lithium         Li      3   6.94\n",
      "Beryllium       Be      4   9.01\n",
      "Boron           B       5  10.81\n",
      "Carbon          C       6  12.01\n",
      "Nitrogen        N       7  14.01\n",
      "Oxygen          O       8  16.00\n",
      "Fluorine        F       9  19.00\n",
      "Neon            Ne     10  20.18\n"
     ]
    }
   ],
   "source": [
    "# Solution to exercise 1:\n",
    "def print_elements( element_list ):\n",
    "    for element in element_list:\n",
    "        print(f\"{element[0]:15s} {element[1]:5s} {element[2]:3d} {element[3]:6.2f}\")\n",
    "\n",
    "print_elements( elements )"
   ]
  },
  {
   "cell_type": "code",
   "execution_count": 16,
   "metadata": {},
   "outputs": [
    {
     "name": "stdout",
     "output_type": "stream",
     "text": [
      "0 4\n",
      "1 7\n",
      "2 12\n",
      "3 19\n",
      "4 28\n",
      "5 39\n",
      "6 52\n",
      "7 67\n",
      "8 84\n",
      "9 103\n",
      "10 124\n",
      "11 147\n",
      "12 172\n",
      "13 199\n",
      "14 228\n",
      "15 259\n",
      "16 292\n",
      "17 327\n",
      "18 364\n",
      "19 403\n",
      "20 444\n"
     ]
    }
   ],
   "source": [
    "# Solution to exercise 2:\n",
    "def quadratic(x,a,b,c):\n",
    "    return a * x ** 2 + b * x + c\n",
    "\n",
    "def myfunc(x):\n",
    "    return quadratic(x,1,2,4)\n",
    "\n",
    "for x in range(0,21):\n",
    "    print(x, myfunc(x))"
   ]
  },
  {
   "cell_type": "code",
   "execution_count": 7,
   "metadata": {},
   "outputs": [
    {
     "name": "stdout",
     "output_type": "stream",
     "text": [
      "Phoenix is the state capital with the largest population, and its population is 1660272.\n"
     ]
    }
   ],
   "source": [
    "# Solution to exercise 3:\n",
    "# Initialize some variables. As we traverse the file, we need to keep track of the city and population that\n",
    "# is the largest seen so far.\n",
    "max_population=0\n",
    "max_pop_city=\"Unknown\"\n",
    "# Open the file \"state_capitals.txt\"\n",
    "with open(\"state_capitals.txt\") as data_file:\n",
    "    # Iterate through all the rows in the file.\n",
    "    for row in data_file:\n",
    "        # Skip over the header row.\n",
    "        if row.startswith(\"State\"):\n",
    "            continue\n",
    "        # Split the row by tab characters into a list of values.\n",
    "        values = row.split(\"\\t\")\n",
    "        # Find the city population (not the metro population), and compare it with the maximum we've seen so far.\n",
    "        # Note: its important to convert the population value to an integer!\n",
    "        this_city_population = int(values[6])\n",
    "        if this_city_population > max_population:\n",
    "            # We just found a new biggest city. Record that information.\n",
    "            max_population = this_city_population\n",
    "            max_pop_city = values[3]\n",
    "# All done processing the file. Report the largest city found.\n",
    "print(f\"{max_pop_city} is the state capital with the largest population, and its population is {max_population}.\")"
   ]
  },
  {
   "cell_type": "code",
   "execution_count": 10,
   "metadata": {},
   "outputs": [
    {
     "name": "stdout",
     "output_type": "stream",
     "text": [
      "Phoenix is the state capital with the largest population, and its population is 1660272.\n"
     ]
    }
   ],
   "source": [
    "# Another solution to exercise 3:\n",
    "# Open the data file and read all the data into a list. This is safe to do because we know this is\n",
    "# a small file.\n",
    "with open(\"state_capitals.txt\") as data_file:\n",
    "    rows = data_file.readlines()\n",
    "    # Create a new list that will contain tuples with (population, city_name).\n",
    "    capitals = []\n",
    "    for row in rows[1:]:\n",
    "        values=row.split(\"\\t\")\n",
    "        capitals.append((int(values[6]),values[3]))\n",
    "    # Now sort the list, which will sort by the first element of each tuple.\n",
    "    capitals.sort()\n",
    "    # The last element in the list should be the city with the biggest population.\n",
    "    print(f\"{capitals[-1][1]} is the state capital with the largest population, and its population is {capitals[-1][0]}.\")"
   ]
  },
  {
   "cell_type": "code",
   "execution_count": 1,
   "metadata": {},
   "outputs": [
    {
     "name": "stdout",
     "output_type": "stream",
     "text": [
      "time.time() returned 1645052647.791307\n",
      "time.ctime(time.time()) returned 'Wed Feb 16 16:04:07 2022'\n",
      "time.localtime() returns an object of type <class 'time.struct_time'>\n"
     ]
    },
    {
     "data": {
      "text/plain": [
       "'2022-02-16'"
      ]
     },
     "execution_count": 1,
     "metadata": {},
     "output_type": "execute_result"
    }
   ],
   "source": [
    "# Solution to exercise 4:\n",
    "import time\n",
    "print(f\"time.time() returned {time.time()}\")\n",
    "print(f\"time.ctime(time.time()) returned '{time.ctime(time.time())}'\")\n",
    "print(f\"time.localtime() returns an object of type {type(time.localtime(time.time()))}\")\n",
    "\n",
    "def my_date():\n",
    "    cur_date = time.localtime( time.time() )\n",
    "    return f\"{cur_date.tm_year}-{cur_date.tm_mon:02d}-{cur_date.tm_mday:02d}\"\n",
    "\n",
    "my_date()"
   ]
  }
 ],
 "metadata": {
  "kernelspec": {
   "display_name": "Python 3 (ipykernel)",
   "language": "python",
   "name": "python3"
  },
  "language_info": {
   "codemirror_mode": {
    "name": "ipython",
    "version": 3
   },
   "file_extension": ".py",
   "mimetype": "text/x-python",
   "name": "python",
   "nbconvert_exporter": "python",
   "pygments_lexer": "ipython3",
   "version": "3.9.7"
  }
 },
 "nbformat": 4,
 "nbformat_minor": 4
}
