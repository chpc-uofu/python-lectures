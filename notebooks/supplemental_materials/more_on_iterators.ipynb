{
 "cells": [
  {
   "cell_type": "markdown",
   "metadata": {
    "tags": []
   },
   "source": [
    "<h1 style=\"color: #be0000; font-weight: bold; font-size: 4em;\">More on Iterators (and Generators)</h1>\n",
    "\n",
    "We discussed using iterators earlier. To create new objects that are iterable, you must give those objects two specific methods: `__iter__()` and `__next__()`."
   ]
  },
  {
   "cell_type": "code",
   "execution_count": null,
   "metadata": {
    "scrolled": true
   },
   "outputs": [],
   "source": [
    "class Fibonacci:\n",
    "    \"Generates a Fibonacci sequence.\"\n",
    "    def __init__(self):\n",
    "        \"Initializes the Fibonacci sequence with the first two values.\"\n",
    "        self.values = [0, 1]\n",
    "    \n",
    "    def __iter__(self):\n",
    "        \"__iter__() must return self - that's it.\"\n",
    "        return self\n",
    "    \n",
    "    def __next__(self):\n",
    "        \"__next__() must return the next value produced by the iterator.\"\n",
    "        self.values.append(self.values[0] + self.values[1])\n",
    "        return self.values.pop(0)\n",
    "\n",
    "fibonacci_sequence = Fibonacci()\n",
    "for value in fibonacci_sequence:\n",
    "    print(value)\n",
    "    if value > 100:\n",
    "        break        "
   ]
  },
  {
   "cell_type": "markdown",
   "metadata": {},
   "source": [
    "More on iterators here: https://docs.python.org/3.7/library/stdtypes.html#iterator-types."
   ]
  },
  {
   "cell_type": "markdown",
   "metadata": {},
   "source": [
    "This can also be implemented as a \"generator\" using the `yield` keyword:"
   ]
  },
  {
   "cell_type": "code",
   "execution_count": null,
   "metadata": {},
   "outputs": [],
   "source": [
    "def fibonacci_sequence():\n",
    "    \"fibonacci_sequence is a generator that produces the Fibonacci sequence.\"\n",
    "    values = [0, 1]\n",
    "    while True:\n",
    "        values.append(values[0] + values[1])\n",
    "        yield values.pop(0)\n",
    "\n",
    "for value in fibonacci_sequence():\n",
    "    print(value)\n",
    "    if value > 100:\n",
    "        break"
   ]
  },
  {
   "cell_type": "markdown",
   "metadata": {},
   "source": [
    "After a function **returns** a value the function's variables are deallocated (removed from memory) and the function's execution ends. But when a function **yields** a value it goes dormant - its state is saved, waiting at the point of the yield statement for the next time it gets called.\n",
    "\n",
    "One could rewrite the dog name finder using a generator:"
   ]
  },
  {
   "cell_type": "code",
   "execution_count": null,
   "metadata": {},
   "outputs": [],
   "source": [
    "def dog_name_data():\n",
    "    \"\"\"dog_name_data() is an iterable generator that yields a sequence of (name,gender,rank) tuples from\n",
    "    the popular_dog_names.txt file.\"\"\"\n",
    "    with open(\"popular_dog_names.txt\", \"r\") as dog_file:\n",
    "        for line in dog_file:\n",
    "            values = line.strip().split(',')\n",
    "            yield tuple(values)\n",
    "\n",
    "def check_dog_name(proposed_name):\n",
    "    \"Checks if proposed dog name is popular.\"\n",
    "    for (name, gender, rank) in dog_name_data():\n",
    "        if proposed_name == name:\n",
    "            print(f\"{proposed_name} is a popular dog name, and ranks number {rank} among {gender} dogs.\")\n",
    "            return\n",
    "    print(f\"{proposed_name} is not a popular name, but is interesting and unique!\")\n",
    "\n",
    "check_dog_name(\"Max\")\n",
    "check_dog_name(\"Spot\")"
   ]
  },
  {
   "cell_type": "markdown",
   "metadata": {},
   "source": [
    "More on generators here: https://docs.python.org/3.7/library/stdtypes.html#generator-types"
   ]
  }
 ],
 "metadata": {
  "kernelspec": {
   "display_name": "Python 3 (ipykernel)",
   "language": "python",
   "name": "python3"
  },
  "language_info": {
   "codemirror_mode": {
    "name": "ipython",
    "version": 3
   },
   "file_extension": ".py",
   "mimetype": "text/x-python",
   "name": "python",
   "nbconvert_exporter": "python",
   "pygments_lexer": "ipython3",
   "version": "3.13.2"
  }
 },
 "nbformat": 4,
 "nbformat_minor": 4
}
