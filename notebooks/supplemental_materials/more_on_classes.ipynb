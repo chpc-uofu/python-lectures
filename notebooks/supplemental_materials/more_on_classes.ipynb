{
 "cells": [
  {
   "cell_type": "markdown",
   "metadata": {
    "tags": []
   },
   "source": [
    "<h1 style=\"color: #be0000; font-weight: bold; font-size: 4em;\">More on Classes: Another Class Exercise</h1>"
   ]
  },
  {
   "cell_type": "markdown",
   "metadata": {},
   "source": [
    "Create a class named `Circle` that represents a circle. The class constructor should take three arguments: \n",
    "* the $x$-coordinate of the center\n",
    "* the $y$-coordinate of the center\n",
    "* the circle's radius\n",
    "\n",
    "Your `Circle` class needs three additional methods: \n",
    "* `Contains(x, y)` returns `True` or `False` depending on whether the circle contains point $(x, y)$\n",
    "* `Center()` returns the $(x, y)$ coordinates of the center as a tuple\n",
    "* `Radius()` returns the radius of the circle\n",
    "\n",
    "There is a solution in the file solutions/more_on_classes_solutions.ipynb."
   ]
  },
  {
   "cell_type": "code",
   "execution_count": null,
   "metadata": {},
   "outputs": [],
   "source": [
    "# Write your circle class solution here:"
   ]
  },
  {
   "cell_type": "code",
   "execution_count": null,
   "metadata": {
    "scrolled": true
   },
   "outputs": [],
   "source": [
    "# Here is some test code. Your Circle class should pass all the tests.\n",
    "def test_circle_class():\n",
    "    \"Tests whether the Circle class is working.\"\n",
    "    c = Circle(0.0, 0.0, 1.0)\n",
    "    tests = [\n",
    "        (0.0, 0.0, True),\n",
    "        (1.0, 0.0, True),\n",
    "        (2.0, 0.0, False),\n",
    "        (1.1, 0.0, False),\n",
    "        (0.0, 1.0, True),\n",
    "        (-2.0, -2.0, False),\n",
    "    ]\n",
    "    yes_or_no = {True: 'yes', False: 'no'}\n",
    "    correct_or_not = {True: 'correct!', False: 'failed!'}\n",
    "    # Test the Center method.\n",
    "    print(f\"Testing Center(): {correct_or_not[c.Center() == (0.0,0.0)]}\")\n",
    "    # Test the Radius method:\n",
    "    print(f\"Testing Radius(): {correct_or_not[c.Radius() == 1.0]}\")\n",
    "    # Test the Contains method.\n",
    "    for (x, y, result) in tests:\n",
    "        contains = c.Contains(x, y)\n",
    "        correct = (contains == result)\n",
    "        print(f\"Testing if ({x}, {y}) is in the circle: {yes_or_no[contains]}, {correct_or_not[correct]}\")\n",
    "\n",
    "test_circle_class()\n",
    "#help(Circle)"
   ]
  },
  {
   "cell_type": "markdown",
   "metadata": {},
   "source": [
    "If you wrote the class correctly, then the following code should draw some circles:"
   ]
  },
  {
   "cell_type": "code",
   "execution_count": null,
   "metadata": {},
   "outputs": [],
   "source": [
    "import random\n",
    "import matplotlib.pyplot as plt\n",
    "\n",
    "# Generate some random circles using the Circle class provided above:\n",
    "random_circles = {\n",
    "    Circle(\n",
    "        random.random(), random.random(), random.random() / 3.0\n",
    "    ) for i in range(10)\n",
    "}\n",
    "\n",
    "# Using example code from https://www.geeksforgeeks.org/how-to-draw-a-circle-using-matplotlib-in-python/ to\n",
    "# plot some circles:\n",
    "figure, axes = plt.subplots()\n",
    "axes.set_aspect(1)\n",
    "\n",
    "# Demonstrating use of matplotlib.patches.Circle() function to plot an un-colored Circle\n",
    "for c in random_circles:\n",
    "    axes.add_artist(plt.Circle(c.Center(), c.Radius(), fill=False))\n",
    "\n",
    "# Add some points.\n",
    "symbols = [\"b*\", \"m*\", \"r*\", \"y*\", \"g*\", \"c*\"]\n",
    "for i in range(100):\n",
    "    (x, y) = (random.random(), random.random())\n",
    "    count_containing_circles = 0\n",
    "    for c in random_circles:\n",
    "        if c.Contains(x, y):\n",
    "            count_containing_circles += 1\n",
    "    try:\n",
    "        plt.plot(x, y, symbols[count_containing_circles])\n",
    "    except IndexError:\n",
    "        plt.plot(x, y, symbols[-1])\n",
    "plt.title('Circles')\n",
    "print(plt.show())"
   ]
  }
 ],
 "metadata": {
  "kernelspec": {
   "display_name": "Python 3 (ipykernel)",
   "language": "python",
   "name": "python3"
  },
  "language_info": {
   "codemirror_mode": {
    "name": "ipython",
    "version": 3
   },
   "file_extension": ".py",
   "mimetype": "text/x-python",
   "name": "python",
   "nbconvert_exporter": "python",
   "pygments_lexer": "ipython3",
   "version": "3.13.2"
  }
 },
 "nbformat": 4,
 "nbformat_minor": 4
}
