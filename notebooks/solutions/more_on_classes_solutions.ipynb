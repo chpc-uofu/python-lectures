{
 "cells": [
  {
   "cell_type": "markdown",
   "metadata": {},
   "source": [
    "<h1 style=\"color: #be0000; font-weight: bold; font-size: 4em;\">Solutions to Exercises on Classes</h1>"
   ]
  },
  {
   "cell_type": "code",
   "execution_count": null,
   "metadata": {},
   "outputs": [],
   "source": [
    "# Here is a solution to the Circle class exercise.\n",
    "import math\n",
    "\n",
    "class Circle:\n",
    "    \"\"\"Circle represents a circle.\n",
    "    The arguments to the constructor are:\n",
    "    x: x-coordinate of the center\n",
    "    y: y-coordinate of the center\n",
    "    r: radius\"\"\"\n",
    "    def __init__(self,x,y,r):\n",
    "        self.center_x=x\n",
    "        self.center_y=y\n",
    "        self.radius=r\n",
    "    \n",
    "    def Contains(self,x,y):\n",
    "        \"Contains(x,y) returns True if the point (x,y) is within the circle, False otherwise.\"\n",
    "        return math.sqrt((self.center_x-x)**2 + (self.center_y-y)**2) <= self.radius\n",
    "    \n",
    "    def Center(self):\n",
    "        \"Center returns the (x,y) coordinates of the circle's center as a tuple.\"\n",
    "        return (self.center_x,self.center_y)\n",
    "    \n",
    "    def Radius(self):\n",
    "        \"Radius returns the circle's radius.\"\n",
    "        return self.radius"
   ]
  }
 ],
 "metadata": {
  "kernelspec": {
   "display_name": "Python 3 (ipykernel)",
   "language": "python",
   "name": "python3"
  },
  "language_info": {
   "codemirror_mode": {
    "name": "ipython",
    "version": 3
   },
   "file_extension": ".py",
   "mimetype": "text/x-python",
   "name": "python",
   "nbconvert_exporter": "python",
   "pygments_lexer": "ipython3",
   "version": "3.13.2"
  }
 },
 "nbformat": 4,
 "nbformat_minor": 4
}
