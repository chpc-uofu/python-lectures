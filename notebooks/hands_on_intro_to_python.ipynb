{
 "cells": [
  {
   "cell_type": "markdown",
   "metadata": {
    "editable": true,
    "slideshow": {
     "slide_type": "slide"
    },
    "tags": []
   },
   "source": [
    "<h1 style=\"color: #be0000; font-weight: bold; font-size: 4em;\">Hands-on Introduction to Python</h1>\n",
    "Welcome to the Hands-on Introduction to Python course from the Center for High Performance Computing at the University of Utah. This is an introduction to the Python language for beginners, written by Brett Milash, Wim Cardoen, and Robben Migacz."
   ]
  },
  {
   "cell_type": "code",
   "execution_count": null,
   "metadata": {
    "editable": true,
    "scrolled": true,
    "slideshow": {
     "slide_type": ""
    },
    "tags": []
   },
   "outputs": [],
   "source": [
    "def hands_on_intro_to_python():\n",
    "    \"\"\"\n",
    "    This is a hands-on introduction to the Python language from the Center for\n",
    "    High Performance Computing. You can run this code cell by typing Shift+Return.\n",
    "    \"\"\"\n",
    "    import sys\n",
    "    print(\"We will use Python version\", sys.version)\n",
    "    \n",
    "hands_on_intro_to_python()"
   ]
  },
  {
   "cell_type": "code",
   "execution_count": null,
   "metadata": {},
   "outputs": [],
   "source": [
    "help(hands_on_intro_to_python)"
   ]
  },
  {
   "cell_type": "markdown",
   "metadata": {
    "editable": true,
    "slideshow": {
     "slide_type": ""
    },
    "tags": []
   },
   "source": [
    "<div style=\"padding: 1em; border-radius: 0.5em; border: 0.1em solid #be0000; border-left: 1em solid #be0000;\">\n",
    "\n",
    "## Basics of Jupyter Notebooks\n",
    "\n",
    "**We are running Python scripts in a Jupyter Notebook. This is not a built-in feature of the Python language, but it is a common way to use Python. There are a few additional concepts we need to learn to use Jupyter Notebooks effectively.**\n",
    "\n",
    "Jupyter Notebooks (.ipynb files) have a series of cells, one of which is active, and that cell has a blue bar on the left. Notebooks have a modal user interface; depending on the mode, the keyboard operates in two different ways:\n",
    "\n",
    "1. In **command mode**, you manipulate cells using menus, toolbars, or keyboard shortcuts\n",
    "    * arrow keys (or <kbd>j</kbd>, <kbd>k</kbd>) to move up and down\n",
    "    * <kbd>s</kbd> saves the notebook\n",
    "    * <kbd>a</kbd> creates a cell above, <kbd>b</kbd> below\n",
    "    * <kbd>c</kbd> copies a cell, <kbd>x</kbd> cuts it, <kbd>v</kbd> pastes it\n",
    "    * <kbd>dd</kbd> deletes a cell\n",
    "    * <kbd>z</kbd> undeletes it\n",
    "    * change cell type to Markdown (<kbd>m</kbd>), code (<kbd>c</kbd>), or raw (<kbd>r</kbd>)\n",
    "2. In **edit mode**, you change cell contents; double-click to enter edit mode and press <kbd>Esc</kbd> or <kbd>Shift</kbd>+<kbd>Return</kbd> to exit\n",
    "    * in code cells, the cell acts as a Python syntax-aware editor\n",
    "    * in Markdown cells, the cell is a Markdown-aware editor\n",
    "\n",
    "</div>"
   ]
  },
  {
   "cell_type": "markdown",
   "metadata": {
    "editable": true,
    "slideshow": {
     "slide_type": "slide"
    },
    "tags": []
   },
   "source": [
    "## Characteristics of the Python language\n",
    "* **Interpreted**\n",
    "* **Object-oriented**\n",
    "  * Data and functions (called \"methods\") are packaged together into objects\n",
    "  * An object's methods are used to manipulate that object's data\n",
    "  * Objects are organized into \"classes,\" which define the objects' methods and data\n",
    "  * \"Inheritance\" makes it easy to create new classes from existing ones\n",
    "  * Great way to organize your code (and your thinking!)\n",
    "* **Modular**\n",
    "  * A lot of Python's functionality is found in *modules*\n",
    "    * We need to `import` those modules to use them\n",
    "  * Python comes installed with many modules; many, many more can be installed later\n",
    "* **Leading white space (indentation) is significant**\n",
    "  * Level of indentation defines \"blocks\" of code\n",
    "  * Either tabs *or* spaces; choose one *or* the other!\n",
    "  * Some editors take care of this for you"
   ]
  },
  {
   "cell_type": "markdown",
   "metadata": {
    "slideshow": {
     "slide_type": "slide"
    }
   },
   "source": [
    "## Running Python code\n",
    "* **Interactively** (typing Python statements at the interpreter)\n",
    "* In a **script**\n",
    "    * Run the interpreter with your script as an argument: `python scriptname.py` from the command line\n",
    "    * As an executable script\n",
    "        * Add `#!/usr/bin/env python` at the top of the script\n",
    "        * Make sure the script is executable: `chmod +x scriptname.py`\n",
    "        * Run the script from the command line: `./scriptname.py`\n",
    "* In a cell in a **Jupyter Notebook** (when you type <kbd>Shift</kbd>+<kbd>Return</kbd> or <kbd>Shift</kbd>+<kbd>Enter</kbd>)"
   ]
  },
  {
   "cell_type": "code",
   "execution_count": null,
   "metadata": {},
   "outputs": [],
   "source": [
    "# This is a comment; it doesn't get executed by Python!\n",
    "import math\n",
    "\n",
    "radius = 1.0\n",
    "area = math.pi * radius * radius\n",
    "print(\"The area of a circle with radius\", radius, \"unit is\", area, \"square units\")"
   ]
  },
  {
   "cell_type": "markdown",
   "metadata": {
    "editable": true,
    "jp-MarkdownHeadingCollapsed": true,
    "slideshow": {
     "slide_type": "slide"
    },
    "tags": []
   },
   "source": [
    "# Big concepts in Python\n",
    "* **Variables** are names for data, which can be\n",
    "  * a simple object like a number or a character string\n",
    "  * a complex object like a list of values or a dictionary of values\n",
    "* **Statements** (and **operators**), which are like are the verbs of the language and act on data\n",
    "* **Functions**, which are reusable blocks of code\n",
    "* **Classes**, which define all the different types of objects, including data and *methods* (more on this later)\n",
    "* **Modules**, which are entire files of Python code, containing variables, functions, and classes"
   ]
  },
  {
   "cell_type": "markdown",
   "metadata": {
    "slideshow": {
     "slide_type": "slide"
    }
   },
   "source": [
    "<img src=\"../images/variables.svg\" style=\"width: 5em; margin-top: 5em;\" />\n",
    "\n",
    "# Variables\n",
    "We will look more closely at different types as we proceed through the course. You don't need to try to memorize all of this information right now!\n",
    "\n",
    "* Simple values\n",
    "  * **Numbers** (integers like `1`, real numbers like `1.0`, complex numbers like `1+2.5j`)\n",
    "  * **Character strings** like `\"Hello, world!\"`\n",
    "  * **Boolean values** `True` and `False`\n",
    "  * `None` (the empty/unknown value)\n",
    "* Compound values\n",
    "  * **Lists** like `[1, 2.0, \"three\"]`\n",
    "    * Lists are *ordered*; the order of the elements in the list won't change\n",
    "  * **Dictionaries** like `{\"cat\": \"Felis catus\", \"dog\": \"Canis lupus familiaris\"}`\n",
    "  * **Sets** like `{1, 2.0, \"three\"}`\n",
    "    * Like a list, but *without repeats* and *unordered*\n",
    "  * **Tuples** like `(1, 2.0, \"three\")`\n",
    "    * Like a list, but *immutable* (tuples can't be changed after they are created)\n",
    "  * Complex or custom objects that we design"
   ]
  },
  {
   "cell_type": "markdown",
   "metadata": {
    "slideshow": {
     "slide_type": "slide"
    }
   },
   "source": [
    "## Create some variables"
   ]
  },
  {
   "cell_type": "code",
   "execution_count": null,
   "metadata": {
    "scrolled": true
   },
   "outputs": [],
   "source": [
    "# Let's define some variables using the assignment operator \"=\", then print their values and types.\n",
    "x = 1\n",
    "y = \"Here is a character string\"\n",
    "\n",
    "# What are the values assigned to x and y, what are the types of data assigned to x and y?\n",
    "print(\"The value of x is\", x, \"and its type is\", type(x))\n",
    "print(\"The value of y is\", y, \"and its type is\", type(y))\n",
    "\n",
    "# Assign the value of True or False to a variable. What data type is assigned to the variable?\n",
    "z = True\n",
    "print(\"The type of z is\", type(z))"
   ]
  },
  {
   "cell_type": "code",
   "execution_count": null,
   "metadata": {
    "scrolled": true
   },
   "outputs": [],
   "source": [
    "# Now assign the value \"Hello, world!\" to x. What is the type of x now?\n",
    "x = \"Hello, world!\"\n",
    "print(\"The type of data assigned to x is\", type(x))"
   ]
  },
  {
   "cell_type": "markdown",
   "metadata": {},
   "source": [
    "Notice how the type of value assigned to `x` has changed. Python is a **dynamically typed** language."
   ]
  },
  {
   "cell_type": "markdown",
   "metadata": {
    "slideshow": {
     "slide_type": "slide"
    }
   },
   "source": [
    "<div style=\"padding: 1.5em; margin-top: 1em; border-radius: 0.5em; box-shadow: 0 0 0.5em #ced4da;\">\n",
    "\n",
    "<img src=\"../images/exercise.svg\" style=\"height: 2.5em; margin-bottom: -1em;\" />\n",
    "\n",
    "## Exercise: Now it's your turn!\n",
    "In the cell below create the variables `favorite_food` and `favorite_number`, then assign your favorite food to `favorite_food` and your favorite number to `favorite_number`. Then, print them using the `print()` function to produce the output `My favorite food is … and my favorite number is …`.\n",
    "\n",
    "</div>"
   ]
  },
  {
   "cell_type": "code",
   "execution_count": null,
   "metadata": {},
   "outputs": [],
   "source": []
  },
  {
   "cell_type": "markdown",
   "metadata": {
    "slideshow": {
     "slide_type": "slide"
    },
    "tags": []
   },
   "source": [
    "<img src=\"../images/operators.svg\" style=\"width: 5em; margin-top: 5em;\" />\n",
    "\n",
    "# Operators\n",
    "\n",
    "Python has all the operators you typically find in a programming language. **We will use most of these as we learn more about the language, so you don't need to try to memorize them now.**\n",
    "\n",
    "* Assignment operator `=`\n",
    "* Arithmetic operators `+`, `-`, `*`, `/`, `+=`, `-=`, `*=`, `/=`, `**` (exponentiation), `%` (modulo), and `//` (floor division)\n",
    "* Comparison operators `==`, `!=`, `<`, `>`, `<=`, and `>=`\n",
    "* Logical operators `and`, `or`, and `not`\n",
    "  * the `and` and `or` operators use [short-circuit evaluation](https://en.wikipedia.org/wiki/Short-circuit_evaluation)\n",
    "* Bitwise operators `<<` (left shift), `>>` (right shift), `|` (bitwise or), `&` (bitwise and), and `^` (complement)\n",
    "* Identity/membership operators: `is` and `in`\n",
    "* Assignment expressions with `:=`  (new in Python 3.8; see [the release notes](https://docs.python.org/3/whatsnew/3.8.html))\n",
    "* Operator precedence with parentheses `(` and `)` (see https://docs.python.org/3/reference/expressions.html#operator-precedence)\n",
    "\n",
    "More information on operators can be found on the [Python documentation](https://docs.python.org/3/library/stdtypes.html)."
   ]
  },
  {
   "cell_type": "markdown",
   "metadata": {
    "jp-MarkdownHeadingCollapsed": true
   },
   "source": [
    "## Examples of using operators in practice"
   ]
  },
  {
   "cell_type": "code",
   "execution_count": null,
   "metadata": {},
   "outputs": [],
   "source": [
    "# Assignment\n",
    "my_variable = 12345"
   ]
  },
  {
   "cell_type": "code",
   "execution_count": null,
   "metadata": {},
   "outputs": [],
   "source": [
    "# Arithmetic operators\n",
    "my_variable = 1 + 1    # similar for - (subtraction), * (multiplication), / (division)\n",
    "my_variable += 1       # similar for -= (subtract from current value), *= (multiply current value by), /= (divide current value by)\n",
    "#           ^ shorthand for my_variable = my_variable + 1\n",
    "my_variable = 5**2\n",
    "my_variable = 23 % 5   # 23 / 5 = 4 remainder 3, and % keeps only the remainder, so 23 % 5 is 3\n",
    "my_variable = 23 // 5  # 23 / 5 = 4 remainder 3, and // drops the remainder, so 23 // 5 is 4"
   ]
  },
  {
   "cell_type": "code",
   "execution_count": null,
   "metadata": {},
   "outputs": [],
   "source": [
    "# Comparison operators\n",
    "my_variable = True and True       # True and True == True\n",
    "my_variable = True and not False  # True and (True) == True\n",
    "my_variable = True or not True    # True or (False) == True\n",
    "# See https://en.wikipedia.org/wiki/Boolean_algebra#Basic_operations for more information\n",
    "\n",
    "def infinite_loop():\n",
    "    while True:\n",
    "        pass\n",
    "\n",
    "my_variable = True or infinite_loop()  # This has been \"short-circuited\" to True because \"True or …\" will always be True\n",
    "                                       # The infinite loop never runs"
   ]
  },
  {
   "cell_type": "code",
   "execution_count": null,
   "metadata": {},
   "outputs": [],
   "source": [
    "# Bitwise operators\n",
    "# Unless you know you will be working with individual bits, you can likely ignore these altogether\n",
    "# Most new Python users, and perhaps most Python users more generally, do not need to know how to use bitwise operators\n",
    "my_variable = 1 << 5   # 1 * 2**5 = 32\n",
    "my_variable = 64 >> 1  # 64 // 2**1 = 32\n",
    "my_variable = 1 | 1    # 1 or 1 = 1\n",
    "my_variable = 1 & 1    # 1 and 1 = 1\n",
    "my_variable = 1 ^ 1    # 1 xor 1 = 0 (exclusive or)"
   ]
  },
  {
   "cell_type": "code",
   "execution_count": null,
   "metadata": {},
   "outputs": [],
   "source": [
    "my_variable = \"hello\"\n",
    "my_variable = \"h\" in my_variable  # \"h\" is in \"hello\", so this is True\n",
    "\n",
    "# Be careful! \"is\" tests whether two objects are the exact same object\n",
    "# Use == to test for equality\n",
    "a = (1,)\n",
    "b = (1,)\n",
    "print(f\"a: {a}; b: {b}; a is b: {a is b}; a == b: {a == b}; id(a): {id(a)}; id(b): {id(b)}\")\n",
    "\n",
    "b = a\n",
    "print(f\"a: {a}; b: {b}; a is b: {a is b}; a == b: {a == b}; id(a): {id(a)}; id(b): {id(b)}\")"
   ]
  },
  {
   "cell_type": "code",
   "execution_count": null,
   "metadata": {},
   "outputs": [],
   "source": [
    "my_variable = \"The quick brown fox jumps over the lazy dog\"\n",
    "\n",
    "# The walrus operator, :=, can be used to set a variable in the middle of an expression\n",
    "# It can make some scripts more concise, but it is never necessary to use the walrus operator (see example below*)\n",
    "if (index := my_variable.find(\"fox\")) != -1:  # -1 is the index .find() returns if there are no matches\n",
    "    print(my_variable[index:])\n",
    "\n",
    "# *This is identical to doing the following:\n",
    "index = my_variable.find(\"fox\")\n",
    "if index != -1:\n",
    "    print(my_variable[index:])\n",
    "\n",
    "# Note that parentheses are essential when using the walrus operator:\n",
    "if (a := True) and (b := False):\n",
    "    pass\n",
    "\n",
    "# Without the parentheses, Python doesn't know where the inline definition ends\n",
    "if a := True and b := False:\n",
    "    pass"
   ]
  },
  {
   "cell_type": "code",
   "execution_count": null,
   "metadata": {},
   "outputs": [],
   "source": [
    "# Operator precedence\n",
    "print(f\"{2 * 3 + 1}; {(2 * 3) + 1}; {2 * (3 + 1)}\")"
   ]
  },
  {
   "cell_type": "markdown",
   "metadata": {
    "slideshow": {
     "slide_type": "slide"
    }
   },
   "source": [
    "<img src=\"../images/strings.svg\" style=\"width: 5em; margin-top: 5em;\" />\n",
    "\n",
    "# Strings\n",
    "\n",
    "* A string is a sequence of characters enclosed in single quotes like `'…'` or double quotes like `\"…\"`\n",
    "  * The quotation marks themselves are not part of the string\n",
    "* \"Short\" strings fit onto one line, like `\"here is a string\"`\n",
    "* \"Long\" strings don't fit on one line, and are enclosed in triple quotes, `\"\"\"` and `\"\"\"`"
   ]
  },
  {
   "cell_type": "code",
   "execution_count": null,
   "metadata": {
    "editable": true,
    "slideshow": {
     "slide_type": ""
    },
    "tags": []
   },
   "outputs": [],
   "source": [
    "s1 = 'Here is a short string.'\n",
    "\n",
    "s2 = \"Here's another short string. Note that it contains a single quote (an apostrophe).\"\n",
    "\n",
    "s3 = 'Here\\'s another short string. It contains a single quote, but it has been \"escaped\" so it doesn\\'t end the string.'\n",
    "\n",
    "s4 = \"\"\"This is a long string.\n",
    "Its content includes multiple lines of text.\"\"\"\n",
    "\n",
    "print(s1 + s2 + s3)\n",
    "print(s4)"
   ]
  },
  {
   "cell_type": "markdown",
   "metadata": {
    "editable": true,
    "slideshow": {
     "slide_type": "slide"
    },
    "tags": []
   },
   "source": [
    "## Strings have some useful operators and methods"
   ]
  },
  {
   "cell_type": "code",
   "execution_count": null,
   "metadata": {},
   "outputs": [],
   "source": [
    "# You can multiply and add them:\n",
    "s1 = \"abc-\" * 3 + \"xyz\"\n",
    "print(\"s1:\", s1)\n",
    "\n",
    "# You can split them by some delimiter character using the string's split method:\n",
    "print(\"s1 split by - characters:\", s1.split(\"-\"))\n",
    "print(\"s1 converted to uppercase:\", s1.upper())\n",
    "\n",
    "# Strings have a length:\n",
    "print(\"s1 is\", len(s1), \"characters long\")\n",
    "print(\"s1 contains\", s1.count('a'), \"a characters\")"
   ]
  },
  {
   "cell_type": "code",
   "execution_count": null,
   "metadata": {},
   "outputs": [],
   "source": [
    "# help on class str shows all the methods available:\n",
    "help(str)"
   ]
  },
  {
   "cell_type": "code",
   "execution_count": null,
   "metadata": {},
   "outputs": [],
   "source": [
    "# You can also reveal the object's methods with the Tab key in a Jupyter Notebook:\n",
    "s1."
   ]
  },
  {
   "cell_type": "markdown",
   "metadata": {},
   "source": [
    "For more on strings, see the [Python documentation](https://docs.python.org/3/tutorial/introduction.html#strings)."
   ]
  },
  {
   "cell_type": "markdown",
   "metadata": {},
   "source": [
    "## f-strings\n",
    "f-strings provide a simple way to format text, and were introduced in Python version 3.6. f-strings are convenient, easy to read, and fast."
   ]
  },
  {
   "cell_type": "code",
   "execution_count": null,
   "metadata": {},
   "outputs": [],
   "source": [
    "# f-strings are an easy way to format text.\n",
    "version_number = 3.6\n",
    "s4 = f\"It's easy to format text with f-strings, which were added in Python {version_number}.\"\n",
    "print(s4)\n",
    "\n",
    "role = \"student\"\n",
    "organization = \"the University of Utah\"\n",
    "print(f\"I am a {role} at {organization}.\")"
   ]
  },
  {
   "cell_type": "markdown",
   "metadata": {},
   "source": [
    "Any Python expression can appear within the curly braces; you can call functions, use operators, and so on. More information on formatting is available on the [Python documentation](https://docs.python.org/3/tutorial/inputoutput.html)."
   ]
  },
  {
   "cell_type": "markdown",
   "metadata": {
    "slideshow": {
     "slide_type": "slide"
    },
    "tags": []
   },
   "source": [
    "<img src=\"../images/lists.svg\" style=\"width: 5em; margin-top: 5em;\" />\n",
    "\n",
    "# Lists\n",
    "Lists are denoted with square brackets, `[` and `]`.\n",
    "\n",
    "* Lists are an *ordered* collection of 0 or more elements\n",
    "    * `[]` is a valid list\n",
    "* Elements in a list don't have to be unique\n",
    "    * `[1, 1, 1]` is a valid list \n",
    "* Elements in a list can be various types—even other lists\n",
    "    * `[[1, 2, 3], [\"a\", \"b\", \"c\"]]` is a valid list of lists: <pre style=\"display: inline-block; color: black !important;\"><span style=\"padding: 0.5em; background-color: #e7f5ff; border-radius: 0.5em; border: 0.1em solid #a5d8ff;\">[<span style=\"padding: 0.15em; background-color: #fff9db; border-radius: 0.5em; border: 0.1em solid #ffec99;\">[1, 2, 3]</span>, <span style=\"padding: 0.15em; background-color: #fff0f6; border-radius: 0.5em; border: 0.1em solid #fcc2d7;\">[\"a\", \"b\", \"c\"]</span>]</span></pre>\n",
    "* Lists are mutable (you can change the order of elements and add and remove elements)\n",
    "* To create a list, you can use\n",
    "  * **Square brackets**, `[` and `]`, which denote a list\n",
    "  * `list()`, which turns its single argument into a list\n",
    "  * List comprehension, which we'll cover later\n",
    "* Lists are *very flexible* but can be *slow*"
   ]
  },
  {
   "cell_type": "markdown",
   "metadata": {
    "slideshow": {
     "slide_type": "subslide"
    }
   },
   "source": [
    "## List operators"
   ]
  },
  {
   "cell_type": "code",
   "execution_count": null,
   "metadata": {
    "slideshow": {
     "slide_type": "-"
    }
   },
   "outputs": [],
   "source": [
    "# Let's create some lists:\n",
    "a1 = ['a', 'x', 'b', 'w', 'd', 'e']\n",
    "a2 = list('z')\n",
    "print(f\"List a1 is: {a1}\")\n",
    "print(f\"List a2 is: {a2}\")\n",
    "\n",
    "# Lists have a length:\n",
    "print(f\"Length of a1 is {len(a1)}.\")\n",
    "\n",
    "# Some operators work on lists:\n",
    "print(f\"a1 + a2 = {a1 + a2}, a2 * 3 = {a2 * 3}\")"
   ]
  },
  {
   "cell_type": "code",
   "execution_count": null,
   "metadata": {},
   "outputs": [],
   "source": [
    "# And some operators don't:\n",
    "print(f\"a1 / 2 = {a1 / 2}\")"
   ]
  },
  {
   "cell_type": "markdown",
   "metadata": {
    "slideshow": {
     "slide_type": "subslide"
    }
   },
   "source": [
    "## List objects have some methods"
   ]
  },
  {
   "cell_type": "code",
   "execution_count": null,
   "metadata": {
    "scrolled": true
   },
   "outputs": [],
   "source": [
    "l = ['a', 'x', 'b', 'w', 'd', 'e']\n",
    "\n",
    "l.remove('a')\n",
    "print(\"With 'a' removed:\", l)\n",
    "\n",
    "l.sort()\n",
    "print(\"Sorted:\", l)\n",
    "\n",
    "l.reverse()\n",
    "print(\"Reversed:\", l)\n",
    "\n",
    "l.append('p')\n",
    "print(\"With 'p' appended:\", l)\n",
    "\n",
    "print(\"Last element (which has been removed):\", l.pop())\n",
    "print(\"First element (which has been removed):\", l.pop(0))"
   ]
  },
  {
   "cell_type": "markdown",
   "metadata": {},
   "source": [
    "## A note on performance\n",
    "Suppose you want to add an element to list l above. You could do it like this:\n",
    "```\n",
    "l = l + ['x']\n",
    "```\n",
    "or you could do it like this:\n",
    "```\n",
    "l.append('x')\n",
    "```\n",
    "Both lines of code accomplish the same thing, but the second is **much** faster."
   ]
  },
  {
   "cell_type": "markdown",
   "metadata": {},
   "source": [
    "For more on lists, see the [Python tutorial](https://docs.python.org/3/tutorial/datastructures.html#more-on-lists)."
   ]
  },
  {
   "cell_type": "markdown",
   "metadata": {
    "slideshow": {
     "slide_type": "slide"
    },
    "tags": []
   },
   "source": [
    "# Accessing sequence elements by index\n",
    "* Strings and lists are examples of **sequences**\n",
    "  * You can access one or more elements of a sequence with index numbers in square brackets, `[]` (this is contextual; square brackets mean *create a list* in some contexts and *get the element at a given index* in others)\n",
    "    * Indexes range from `0` up to `sequence length - 1`\n",
    "    * Negative indexes count backwards from the end: `-1` is the last element, `-2` the second from last, etc.\n",
    "    * Within the brackets, you can provide information as `[start:end + 1:stepsize]`, where `start` defaults to `0`, `end + 1` defaults to the end of the list, and `stepsize` defaults to `1`"
   ]
  },
  {
   "cell_type": "code",
   "execution_count": null,
   "metadata": {},
   "outputs": [],
   "source": [
    "letters = ['a', 'b', 'c', 'd', 'e', 'f', 'g', 'h', 'i', 'j', 'k', 'l', 'm']\n",
    "print(letters)\n",
    "print(letters[0])\n",
    "print(letters[-1])\n",
    "print(letters[0:3])\n",
    "print(letters[3:12:2])\n",
    "\n",
    "# You can use the default for one or more fields by omitting a value:\n",
    "print(letters[::3])  # Use the default start and end position, but use a step size of 3"
   ]
  },
  {
   "cell_type": "markdown",
   "metadata": {
    "slideshow": {
     "slide_type": "slide"
    },
    "tags": []
   },
   "source": [
    "<img src=\"../images/functions.svg\" style=\"width: 5em; margin-top: 5em;\" />\n",
    "\n",
    "# Functions\n",
    "Functions are reusable chunks of Python code. They (usually) have a name, they can take zero or more arguments, and they return a value. If you don't explicitly return a value, a function returns `None`.\n",
    "\n",
    "This is the general layout of a function definition in Python:"
   ]
  },
  {
   "cell_type": "code",
   "execution_count": null,
   "metadata": {},
   "outputs": [],
   "source": [
    "def test_function(argument1, argument2, argumentn=\"default_value\"):\n",
    "    \"This is the documentation string (or docstring) for the function\"\n",
    "    # The body of the function goes here:\n",
    "    print(\"Value of argument1:\", argument1)\n",
    "    print(\"Value of argument2:\", argument2)\n",
    "    print(\"Value of argumentn:\", argumentn)\n",
    "    \n",
    "x = test_function('a', 2)\n",
    "print(\"test_function returned\", x)\n",
    "help(test_function)"
   ]
  },
  {
   "cell_type": "markdown",
   "metadata": {
    "slideshow": {
     "slide_type": "-"
    }
   },
   "source": [
    "\n",
    "1. The function is announced with the `def` keyword;\n",
    "2. followed by the function name;\n",
    "3. followed by 0 or more arguments (inputs) in parentheses, `(…)`;\n",
    "   * positional arguments must come before \"keyword arguments\"; keyword arguments specify a default value and are optional when calling the function\n",
    "5. followed by a colon, `:`;\n",
    "6. followed by an optional (but recommended) documentation string;\n",
    "7. followed by the body of the function, indented relative to the `def` statement, which will\n",
    "    * `return` a value if specified, or\n",
    "    * `return None` automatically if no `return` statement is given"
   ]
  },
  {
   "cell_type": "markdown",
   "metadata": {},
   "source": [
    "## A quick note on *scope*"
   ]
  },
  {
   "cell_type": "code",
   "execution_count": null,
   "metadata": {},
   "outputs": [],
   "source": [
    "subject = \"The quick brown fox\"\n",
    "action = \"jumps over the lazy dog\"\n",
    "\n",
    "def tell_story(subject):\n",
    "    \"Tell a little story\"\n",
    "    note = \"This variable only exists within this function!\"\n",
    "    print(f\"{subject} {action}\")\n",
    "\n",
    "tell_story(subject=\"The slow tortoise\")  # What does \"subject=…\" do?\n",
    "tell_story(subject)                      # Did we reassign the variable subject?"
   ]
  },
  {
   "cell_type": "code",
   "execution_count": null,
   "metadata": {},
   "outputs": [],
   "source": [
    "# Let's confirm the statement in the \"note\" variable!\n",
    "print(note)"
   ]
  },
  {
   "cell_type": "markdown",
   "metadata": {},
   "source": [
    "Wait! Didn't we *change* the value of `subject` when we called the function the first time? What happened here? This is related to the **scope** of the variables.\n",
    "\n",
    "<code style=\"line-height: 2em; color: black !important;\">\n",
    "<div style=\"display: inline-block; border: 0.1em solid #228be6; border-left: 0.2em solid #228be6; margin: 0.2em 0; background-color: #e7f5ff; box-sizing: border-box; padding: 1em; border-radius: 0.2em;\"><span style=\"border-left: 0.2em solid #228be6; background-color: #a5d8ff; border-radius: 0.2em; padding: 0.1em 0.2em;\">subject</span> = \"The quick brown fox\"\n",
    "<span style=\"border-left: 0.2em solid #228be6; background-color: #a5d8ff; border-radius: 0.2em; padding: 0.1em 0.2em;\">action</span> = \"jumps over the lazy dog\"<br>\n",
    "def <span style=\"border-left: 0.2em solid #228be6; background-color: #a5d8ff; border-radius: 0.2em; padding: 0.1em 0.2em;\">tell_story</span>(<span style=\"border-left: 0.2em dashed #fab005; background-color: #ffec99; border-radius: 0.2em; padding: 0.1em 0.2em;\">subject</span>):\n",
    "<div style=\"display: inline-block; border: 0.1em solid #fab005; border-left: 0.2em dashed #fab005; margin: 0.2em 0; background-color: #fff9db; width: 100%; box-sizing: border-box; padding: 1em; border-radius: 0.2em;\">\"Tell a little story\"\n",
    "<span style=\"border-left: 0.2em dashed #fab005; background-color: #ffec99; border-radius: 0.2em; padding: 0.1em 0.2em;\">note</span> = \"This variable only exists within this function!\"\n",
    "print(f\"{<span style=\"border-left: 0.2em dashed #fab005; background-color: #ffec99; border-radius: 0.2em; padding: 0.1em 0.2em;\">subject</span>} {<span style=\"border-left: 0.2em solid #228be6; background-color: #a5d8ff; border-radius: 0.2em; padding: 0.1em 0.2em;\">action</span>}\")</div><br>\n",
    "<span style=\"border-left: 0.2em solid #228be6; background-color: #a5d8ff; border-radius: 0.2em; padding: 0.1em 0.2em;\">tell_story</span>(<span style=\"border-left: 0.2em dashed #fab005; background-color: #ffec99; border-radius: 0.2em; padding: 0.1em 0.2em;\">subject</span>=\"The slow tortoise\")\n",
    "<span style=\"border-left: 0.2em solid #228be6; background-color: #a5d8ff; border-radius: 0.2em; padding: 0.1em 0.2em;\">tell_story</span>(<span style=\"border-left: 0.2em solid #228be6; background-color: #a5d8ff; border-radius: 0.2em; padding: 0.1em 0.2em;\">subject</span>)\n",
    "</div>\n",
    "</code>"
   ]
  },
  {
   "cell_type": "markdown",
   "metadata": {},
   "source": [
    "Since `subject` is a variable *within* `tell_story()`, its value is the argument passed to the function, but *only within the scope of the function*. Note that this does *not* overwrite the `subject` variable outside of the function. **In the above example, the variable `action` *is* accessible in the scope of the function; however, the variable `note` *is not* accessible outside of the scope of the function. This is a one-way relationship.** The inner scope is aware of variables defined in the outer scope, but the outer scope is not aware of variables defined in the inner scope.\n",
    "\n",
    "This concept of scope applies to **functions** and **classes**; we'll talk about classes later! The concept of scope does not apply to loops or `if` statements.\n",
    "\n",
    "<span style=\"border-left: 0.2em solid #228be6; background-color: #a5d8ff; color: black !important; border-radius: 0.2em; padding: 0.1em 0.2em;\">tell_story</span>(<span style=\"border-left: 0.2em dashed #fab005; background-color: #ffec99; color: black !important; border-radius: 0.2em; padding: 0.1em 0.2em;\">subject</span>=<span style=\"border-left: 0.2em solid #228be6; background-color: #a5d8ff; color: black !important; border-radius: 0.2em; padding: 0.1em 0.2em;\">subject</span>) is something you might see; it may look a little strange, but it is perfectly valid in Python for managing scope. It's assigning the value of <span style=\"border-left: 0.2em solid #228be6; background-color: #a5d8ff; color: black !important; border-radius: 0.2em; padding: 0.1em 0.2em;\">subject</span> to the variable <span style=\"border-left: 0.2em dashed #fab005; background-color: #ffec99; color: black !important; border-radius: 0.2em; padding: 0.1em 0.2em;\">subject</span>, which is used in the other scope.\n",
    "\n",
    "Note that this concept of scope also means that\n",
    "\n",
    "<code style=\"line-height: 2em; color: black !important;\">\n",
    "<div style=\"display: inline-block; border: 0.1em solid #228be6; border-left: 0.2em solid #228be6; margin: 0.2em 0; background-color: #e7f5ff; box-sizing: border-box; padding: 1em; border-radius: 0.2em;\">def <span style=\"border-left: 0.2em solid #228be6; background-color: #a5d8ff; border-radius: 0.2em; padding: 0.1em 0.2em;\">x</span>():\n",
    "<div style=\"display: inline-block; border: 0.1em solid #fab005; border-left: 0.2em dashed #fab005; margin: 0.2em 0; background-color: #fff9db; width: 100%; box-sizing: border-box; padding: 1em; border-radius: 0.2em;\"><span style=\"border-left: 0.2em dashed #fab005; background-color: #ffec99; border-radius: 0.2em; padding: 0.1em 0.2em;\">message</span> = \"Hello!\"\n",
    "def <span style=\"border-left: 0.2em dashed #fab005; background-color: #ffec99; border-radius: 0.2em; padding: 0.1em 0.2em;\">y</span>():\n",
    "<div style=\"display: inline-block; border: 0.1em solid #fa5252; border-left: 0.2em dotted #fa5252; margin: 0.2em 0; background-color: #fff5f5; width: 100%; box-sizing: border-box; padding: 1em; border-radius: 0.2em;\">print(<span style=\"border-left: 0.2em dashed #fab005; background-color: #ffec99; border-radius: 0.2em; padding: 0.1em 0.2em;\">message</span>)</div>\n",
    "</div>\n",
    "<span style=\"border-left: 0.2em dashed #fab005; background-color: #ffec99; border-radius: 0.2em; padding: 0.1em 0.2em;\">y</span>()\n",
    "</div>\n",
    "</code>\n",
    "\n",
    "will not work because `y` is out of scope on the last line:"
   ]
  },
  {
   "cell_type": "code",
   "execution_count": null,
   "metadata": {},
   "outputs": [],
   "source": [
    "def x():\n",
    "    message = \"Hello!\"\n",
    "    def y():\n",
    "        print(message)\n",
    "y()"
   ]
  },
  {
   "cell_type": "markdown",
   "metadata": {},
   "source": [
    "but\n",
    "\n",
    "<code style=\"line-height: 2em; color: black !important;\">\n",
    "<div style=\"display: inline-block; border: 0.1em solid #228be6; border-left: 0.2em solid #228be6; margin: 0.2em 0; background-color: #e7f5ff; box-sizing: border-box; padding: 1em; border-radius: 0.2em;\">def <span style=\"border-left: 0.2em solid #228be6; background-color: #a5d8ff; border-radius: 0.2em; padding: 0.1em 0.2em;\">x</span>():\n",
    "<div style=\"display: inline-block; border: 0.1em solid #fab005; border-left: 0.2em solid #fab005; margin: 0.2em 0; background-color: #fff9db; width: 100%; box-sizing: border-box; padding: 1em; border-radius: 0.2em;\"><span style=\"border-left: 0.2em dashed #fab005; background-color: #ffec99; border-radius: 0.2em; padding: 0.1em 0.2em;\">message</span> = \"Hello!\"\n",
    "def <span style=\"border-left: 0.2em dashed #fab005; background-color: #ffec99; border-radius: 0.2em; padding: 0.1em 0.2em;\">y</span>():\n",
    "<div style=\"display: inline-block; border: 0.1em solid #fa5252; border-left: 0.2em dotted #fa5252; margin: 0.2em 0; background-color: #fff5f5; width: 100%; box-sizing: border-box; padding: 1em; border-radius: 0.2em;\">print(<span style=\"border-left: 0.2em dashed #fab005; background-color: #ffec99; border-radius: 0.2em; padding: 0.1em 0.2em;\">message</span>)</div>\n",
    "<span style=\"border-left: 0.2em dashed #fab005; background-color: #ffec99; border-radius: 0.2em; padding: 0.1em 0.2em;\">y</span>()\n",
    "</div>\n",
    "<span style=\"border-left: 0.2em solid #228be6; background-color: #a5d8ff; border-radius: 0.2em; padding: 0.1em 0.2em;\">x</span>()\n",
    "</div>\n",
    "</code>\n",
    "\n",
    "will work:"
   ]
  },
  {
   "cell_type": "code",
   "execution_count": null,
   "metadata": {},
   "outputs": [],
   "source": [
    "def x():\n",
    "    message = \"Hello!\"\n",
    "    def y():\n",
    "        print(message)\n",
    "    y()\n",
    "x()"
   ]
  },
  {
   "cell_type": "markdown",
   "metadata": {
    "slideshow": {
     "slide_type": "slide"
    },
    "tags": []
   },
   "source": [
    "## `return` statement\n",
    "You will often want to return one or more values from a function back to the code that called it. To do this, we use the `return` statement:"
   ]
  },
  {
   "cell_type": "raw",
   "metadata": {},
   "source": [
    "# Return a single value:\n",
    "return x\n",
    "\n",
    "# Return multiple values as a tuple (more on tuples later):\n",
    "return (mean, std_deviation)\n",
    "\n",
    "# Return the outcome of a logical test as a True or False value:\n",
    "return x < 5"
   ]
  },
  {
   "cell_type": "markdown",
   "metadata": {},
   "source": [
    "You have probably seen functions before in your math classes, even if you didn't have a name for them. For example, perhaps you've seen something like $y=f(x)$, where $f(x)=x^2$. In this example, $f$ is the *function*, $x$ is the *argument* (the input), and $x^2$ is the value the function outputs or *returns*. Python functions are a little different than the functions from your math classes because they can do things like read from or write to files and print results to the screen, like `test_function()` above. Otherwise, they're quite similar. In Python, the example $y=f(x)$ where $f(x)=x^2$ and $x=5$ might look like"
   ]
  },
  {
   "cell_type": "code",
   "execution_count": null,
   "metadata": {},
   "outputs": [],
   "source": [
    "def f(x):\n",
    "    \"This function squares the argument\"\n",
    "    return x**2\n",
    "\n",
    "y = f(x=5)\n",
    "print(y)"
   ]
  },
  {
   "cell_type": "markdown",
   "metadata": {},
   "source": [
    "This is a trivial function, but it illustrates that functions may be something you've seen before in another context."
   ]
  },
  {
   "cell_type": "markdown",
   "metadata": {},
   "source": [
    "For more on functions and the `return` statement, see the [Python tutorial](https://docs.python.org/3/tutorial/controlflow.html#defining-functions)."
   ]
  },
  {
   "cell_type": "markdown",
   "metadata": {
    "slideshow": {
     "slide_type": "slide"
    },
    "tags": []
   },
   "source": [
    "<div style=\"padding: 1.5em; margin-top: 1em; border-radius: 0.5em; box-shadow: 0 0 0.5em #ced4da;\">\n",
    "\n",
    "<img src=\"../images/exercise.svg\" style=\"height: 2.5em; margin-bottom: -1em;\" />\n",
    "\n",
    "## Exercise: *Hello, world* function\n",
    "In the following cell, create a function named `hello_world()` that takes no arguments. It should print `\"Hello, world!\"` when you call the function.\n",
    "\n",
    "Then, modify your function to take one optional argument that defaults to `\"world\"`. If called without an argument, your function should print `\"Hello, world!\"`. If you pass a value to the function, like `\"Bob\"`, your function should print `\"Hello, Bob!\"`.\n",
    "\n",
    "</div>"
   ]
  },
  {
   "cell_type": "code",
   "execution_count": null,
   "metadata": {},
   "outputs": [],
   "source": []
  },
  {
   "cell_type": "markdown",
   "metadata": {
    "slideshow": {
     "slide_type": "slide"
    }
   },
   "source": [
    "<img src=\"../images/flow_control.svg\" style=\"width: 5em; margin-top: 5em;\" />\n",
    "\n",
    "## Flow control: `if`, `elif`, and `else`\n",
    "\n",
    "It is imperative that your code can *branch* depending on certain critera, so you can handle different situations in different ways. The `if` statement lets you do this:"
   ]
  },
  {
   "cell_type": "code",
   "execution_count": null,
   "metadata": {},
   "outputs": [],
   "source": [
    "animal = 'dog'\n",
    "\n",
    "if animal == 'dog':\n",
    "    print(\"The animal is a dog\")\n",
    "elif animal == 'cat':\n",
    "    print(\"The animal is a cat\")\n",
    "else:\n",
    "    print(\"The animal is neither dog nor cat!\")"
   ]
  },
  {
   "cell_type": "markdown",
   "metadata": {},
   "source": [
    "Both the `elif` (a contraction of \"else if\") and `else` clauses are optional. Note the whitespace before the `print` statements; that indentation is significant!"
   ]
  },
  {
   "cell_type": "markdown",
   "metadata": {
    "slideshow": {
     "slide_type": "slide"
    }
   },
   "source": [
    "<div style=\"padding: 1.5em; margin-top: 1em; border-radius: 0.5em; box-shadow: 0 0 0.5em #ced4da;\">\n",
    "\n",
    "<img src=\"../images/exercise.svg\" style=\"height: 2.5em; margin-bottom: -1em;\" />\n",
    "\n",
    "## Exercise: *Odd or even* function\n",
    "Create a function that takes one argument and returns the string `\"odd\"` or `\"even\"`, depending on whether the argument is an odd number or an even number. Assume for now that the argument is a positive integer.\n",
    "\n",
    "</div>"
   ]
  },
  {
   "cell_type": "code",
   "execution_count": null,
   "metadata": {},
   "outputs": [],
   "source": []
  },
  {
   "cell_type": "markdown",
   "metadata": {
    "slideshow": {
     "slide_type": "slide"
    }
   },
   "source": [
    "<img src=\"../images/lambda.svg\" style=\"width: 5em; margin-top: 5em;\" />\n",
    "\n",
    "## Anonymous functions (lambda expressions)\n",
    "Functions are objects, like everything else in Python. Most functions are associated with an identifier, like `hello_world()`. There are situations where we want to pass a function as an argument to another function, and one way to do that is with the function's name. Here is an example using the `map()` function, which applies a function to each element of a list:"
   ]
  },
  {
   "cell_type": "code",
   "execution_count": null,
   "metadata": {
    "scrolled": true
   },
   "outputs": [],
   "source": [
    "def divide_by_ten(x):\n",
    "    \"This function takes a number as an argument and returns that number divided by 10\"\n",
    "    return x / 10.0\n",
    "\n",
    "# Here is a list of numbers we want to divide by 10:\n",
    "numbers = [0, 1, 2, 3, 4, 5, 6, 7, 8, 9]\n",
    "\n",
    "# Now we use the map() statement to apply the divide_by_ten() function to each element in the list:\n",
    "tenths = list(map(divide_by_ten, numbers))\n",
    "\n",
    "# Print out the original numbers, and those numbers divided by 10:\n",
    "print(numbers)\n",
    "print(tenths)"
   ]
  },
  {
   "cell_type": "markdown",
   "metadata": {},
   "source": [
    "But defining a new function for something so trivial, that may only be used once, is unnecessary. Instead, we can use a \"lambda expression\" to create an anonymous function right where we need it:"
   ]
  },
  {
   "cell_type": "code",
   "execution_count": null,
   "metadata": {
    "scrolled": true
   },
   "outputs": [],
   "source": [
    "numbers = [0, 1, 2, 3, 4, 5, 6, 7, 8, 9]\n",
    "\n",
    "# As above, use map() on the list of numbers\n",
    "# Note the extra whitespace here, which is added for clarity\n",
    "# This is possible, even though Python is whitespace-dependent, because Python will look for a ) to close (\n",
    "tenths = list(\n",
    "    map(\n",
    "        lambda x: x / 10.0,  # An unnamed function of x\n",
    "        numbers\n",
    "    )\n",
    ")\n",
    "\n",
    "print(numbers)\n",
    "print(tenths)"
   ]
  },
  {
   "cell_type": "markdown",
   "metadata": {
    "slideshow": {
     "slide_type": "subslide"
    }
   },
   "source": [
    "### Assigning a lambda expression to an identifier"
   ]
  },
  {
   "cell_type": "code",
   "execution_count": null,
   "metadata": {},
   "outputs": [],
   "source": [
    "divide_by_ten = lambda x: x / 10.0\n",
    "divide_by_ten(3)"
   ]
  },
  {
   "cell_type": "markdown",
   "metadata": {},
   "source": [
    "Unlike functions defined with `def`, `lambda` can only create \"one-liners.\" More on lambda and anonymous functions can be found in the [Python tutorial](https://docs.python.org/3/tutorial/controlflow.html#lambda-expressions \"Python Tutorial\")."
   ]
  },
  {
   "cell_type": "markdown",
   "metadata": {
    "slideshow": {
     "slide_type": "slide"
    }
   },
   "source": [
    "<img src=\"../images/io.svg\" style=\"width: 5em; margin-top: 5em;\" />\n",
    "\n",
    "# File input/output (I/O)\n",
    "It is useful to read data from files or write data to files. This is done through file objects, which are created using the `open()` function. Files can be opened for reading (`\"r\"`), writing (`\"w\"`), or appending (`\"a\"`):"
   ]
  },
  {
   "cell_type": "code",
   "execution_count": null,
   "metadata": {},
   "outputs": [],
   "source": [
    "input_file = open(\"popular_dog_names.txt\", \"r\")  # Open a file for reading.\n",
    "first_line = input_file.readline()               # Read one line.\n",
    "input_file.close()                               # Close the input file.\n",
    "print(f\"Read this data from the file: '{first_line}'\")\n",
    "\n",
    "output_file = open(\"tmpfile.txt\", \"w\")           # Open another file for writing. This overwrites the file if it exists.\n",
    "output_file.write(first_line)\n",
    "output_file.close()"
   ]
  },
  {
   "cell_type": "markdown",
   "metadata": {},
   "source": [
    "You can also read all the lines of a file into a list with `input_file.readlines()`, but be careful! The file might be big!\n",
    "\n",
    "If you are working with binary data files (rather than text files) you need to open them in the `\"rb\"`, `\"wb\"`, or `\"ab\"` modes, and you may find the [struct](https://docs.python.org/3/library/struct.html) library helpful."
   ]
  },
  {
   "cell_type": "markdown",
   "metadata": {
    "slideshow": {
     "slide_type": "subslide"
    },
    "tags": []
   },
   "source": [
    "## File I/O and the `with` statement\n",
    "A common pattern in Python is\n",
    "\n",
    "```\n",
    "1. Try to open a file; if that works,\n",
    "   2. Read from or write to the file\n",
    "   3. Close the file\n",
    "```\n",
    "\n",
    "This pattern is so common that Python provides a statement to simplify this: the `with` statement does everything!"
   ]
  },
  {
   "cell_type": "code",
   "execution_count": null,
   "metadata": {
    "scrolled": true
   },
   "outputs": [],
   "source": [
    "with open(\"popular_dog_names.txt\", \"r\") as input_file:\n",
    "    all_lines = input_file.readlines()\n",
    "    print(f\"The file contains {len(all_lines)} lines of data.\")\n",
    "    print(f\"The first line is '{all_lines[0]}'\")\n",
    "    print(f\"The last line is '{all_lines[-1]}'\")"
   ]
  },
  {
   "cell_type": "markdown",
   "metadata": {},
   "source": [
    "At the end of the `with` clause, the file is closed.\n",
    "\n",
    "You can use `with` for more than just file I/O. For all this to work, the object created in the `with` statement must have the methods `__enter__()` and `__exit__()`. See the documentation [here](https://docs.python.org/3/reference/compound_stmts.html#with)."
   ]
  },
  {
   "cell_type": "markdown",
   "metadata": {},
   "source": [
    "<img src=\"../images/loop.svg\" style=\"width: 5em; margin-top: 5em;\" />\n",
    "\n",
    "# Looping\n",
    "Python provides two different types of loop statements: `while` loops and `for` loops."
   ]
  },
  {
   "cell_type": "markdown",
   "metadata": {
    "slideshow": {
     "slide_type": "slide"
    }
   },
   "source": [
    "## `while` loops\n",
    "A `while` loop tests some logical condition and executes the body of the loop while that condition evaluates to `True`:"
   ]
  },
  {
   "cell_type": "code",
   "execution_count": null,
   "metadata": {},
   "outputs": [],
   "source": [
    "# Calculate the first 10 elements of the Fibonacci sequence:\n",
    "fibonacci = [0, 1]\n",
    "while len(fibonacci) < 10:\n",
    "    fibonacci.append(fibonacci[-2] + fibonacci[-1])\n",
    "print(fibonacci)"
   ]
  },
  {
   "cell_type": "markdown",
   "metadata": {
    "slideshow": {
     "slide_type": "slide"
    }
   },
   "source": [
    "## `for` loops\n",
    "`for` loops let you process each item in a sequence of items, like each item in a list:"
   ]
  },
  {
   "cell_type": "code",
   "execution_count": null,
   "metadata": {
    "scrolled": true
   },
   "outputs": [],
   "source": [
    "for letter in ['a', 'e', 'i', 'o', 'u']:\n",
    "    print(letter)"
   ]
  },
  {
   "cell_type": "markdown",
   "metadata": {},
   "source": [
    "There are many other functions and statements that are useful in the context of loops."
   ]
  },
  {
   "cell_type": "markdown",
   "metadata": {
    "slideshow": {
     "slide_type": "slide"
    }
   },
   "source": [
    "## The `range()` function\n",
    "`range(start, stop, [stepsize=1])` returns a list-like object containing integers from `start` to `stop - 1`. This is useful for all kinds of list processing and `for`-loop control:"
   ]
  },
  {
   "cell_type": "code",
   "execution_count": null,
   "metadata": {},
   "outputs": [],
   "source": [
    "element_names = [\n",
    "    'hydrogen',\n",
    "    'helium',\n",
    "    'lithium',\n",
    "    'berylium',\n",
    "    'boron',\n",
    "    'carbon',\n",
    "    'nitrogen',\n",
    "    'oxygen',\n",
    "    'fluorine'\n",
    "]\n",
    "for i in range(0, len(element_names)):\n",
    "    print(f\"Item {i} in the list is {element_names[i]}.\")"
   ]
  },
  {
   "cell_type": "code",
   "execution_count": null,
   "metadata": {
    "scrolled": true
   },
   "outputs": [],
   "source": [
    "# The stepsize defaults to 1 and the start value defaults to 0:\n",
    "print(list(range(3)))"
   ]
  },
  {
   "cell_type": "markdown",
   "metadata": {
    "slideshow": {
     "slide_type": "slide"
    }
   },
   "source": [
    "<div style=\"padding: 1.5em; margin-top: 1em; border-radius: 0.5em; box-shadow: 0 0 0.5em #ced4da;\">\n",
    "\n",
    "<img src=\"../images/exercise.svg\" style=\"height: 2.5em; margin-bottom: -1em;\" />\n",
    "\n",
    "## Exercise: *Factorial* function\n",
    "Create a function named `factorial()` that takes one argument, `n`, and returns $n!$ (or $1 \\times 2 \\times 3 \\times \\ldots \\times (n-2) \\times (n-1) \\times n$). This is easy to implement with a `for` loop.\n",
    "\n",
    "For this exercise, you can assume that the argument is a positive integer. Write the `factorial()` function and try calling it with a few different positive integer values.\n",
    "\n",
    "(You could also get fancy and write a recursive function, a function that calls itself. If you do this, **make sure** your code tests when to end the recursion!)\n",
    "\n",
    "</div>"
   ]
  },
  {
   "cell_type": "code",
   "execution_count": null,
   "metadata": {},
   "outputs": [],
   "source": []
  },
  {
   "cell_type": "markdown",
   "metadata": {
    "slideshow": {
     "slide_type": "slide"
    },
    "tags": []
   },
   "source": [
    "## Looping flow control: the `continue` statement\n",
    "Sometimes you want to skip the rest of the body of a loop, and `continue` with the next iteration:"
   ]
  },
  {
   "cell_type": "code",
   "execution_count": null,
   "metadata": {},
   "outputs": [],
   "source": [
    "consonants = []\n",
    "vowels = ['a', 'e', 'i', 'o', 'u']\n",
    "\n",
    "for letter in \"abcdefghijklmnopqrstuvwxyz\":\n",
    "    if letter in vowels:\n",
    "        continue  # Go back to the top of the loop and look at the next item;\n",
    "                  # don't go any further in the body of the loop for this particular iteration\n",
    "\n",
    "    # This line won't be run if the letter is a vowel, since we \"continue\" above for all vowels\n",
    "    consonants.append(letter)\n",
    "\n",
    "print(len(consonants))"
   ]
  },
  {
   "cell_type": "markdown",
   "metadata": {
    "slideshow": {
     "slide_type": "subslide"
    },
    "tags": []
   },
   "source": [
    "## Looping flow control: the `break` statement\n",
    "Sometimes you need to `break` out of a loop completely, before you've reached the last iteration:"
   ]
  },
  {
   "cell_type": "code",
   "execution_count": null,
   "metadata": {},
   "outputs": [],
   "source": [
    "i = 100\n",
    "\n",
    "while i > 0:\n",
    "    print(i)\n",
    "    if i % 7 == 0:\n",
    "        break\n",
    "\n",
    "    i -= 1  # Decrement operator, equivalent to i = i - 1\n",
    "\n",
    "print(f\"The biggest multiple of 7 less than 100 is {i}.\")"
   ]
  },
  {
   "cell_type": "markdown",
   "metadata": {
    "slideshow": {
     "slide_type": "slide"
    }
   },
   "source": [
    "## List comprehension\n",
    "`for` loops are handy for populating lists. Let's say we want a list of integers from 0 to 9 squared. You could write this as"
   ]
  },
  {
   "cell_type": "code",
   "execution_count": null,
   "metadata": {},
   "outputs": [],
   "source": [
    "squared_integers = []\n",
    "for i in range(0, 10):\n",
    "    squared_integers.append(i**2)\n",
    "print(squared_integers)"
   ]
  },
  {
   "cell_type": "markdown",
   "metadata": {},
   "source": [
    "However, it is also possible to write this loop in one line:"
   ]
  },
  {
   "cell_type": "code",
   "execution_count": null,
   "metadata": {},
   "outputs": [],
   "source": [
    "squared_integers = [i**2 for i in range(0, 10)]\n",
    "print(squared_integers)"
   ]
  },
  {
   "cell_type": "markdown",
   "metadata": {},
   "source": [
    "This is \"list comprehension,\" first introduced in Python version 2.0.\n",
    "For more details, see the [Python tutorial](https://docs.python.org/3/tutorial/datastructures.html#list-comprehensions \"Python Tutorial\"). List comprehension can also include simple `if` statements:"
   ]
  },
  {
   "cell_type": "code",
   "execution_count": null,
   "metadata": {},
   "outputs": [],
   "source": [
    "values = [-100, -50, 50, 100]\n",
    "\n",
    "negative_values = [\n",
    "    value\n",
    "    for value in values\n",
    "    if value < 0\n",
    "]\n",
    "\n",
    "descriptive_strings = [\n",
    "    \"negative\" if value < 0\n",
    "    else \"positive\"\n",
    "    for value in values\n",
    "]\n",
    "\n",
    "print(negative_values)\n",
    "print(descriptive_strings)"
   ]
  },
  {
   "cell_type": "markdown",
   "metadata": {
    "slideshow": {
     "slide_type": "slide"
    },
    "tags": []
   },
   "source": [
    "## Iterators\n",
    "For loops can iterate across a variety of objects, such as strings, lists, `range()` objects, or open files. These objects are all iterators. More on iterators [here](https://docs.python.org/3/tutorial/classes.html#iterators \"Python Tutorial\")."
   ]
  },
  {
   "cell_type": "code",
   "execution_count": null,
   "metadata": {
    "scrolled": true
   },
   "outputs": [],
   "source": [
    "for letter in \"ABC\":\n",
    "    print(letter)\n",
    "\n",
    "for vowel in ['a', 'e', 'i', 'o', 'u']:\n",
    "    print(vowel)\n",
    "\n",
    "for number in range(0, 5):\n",
    "    print(number)\n",
    "\n",
    "with open(\"popular_dog_names.txt\", \"r\") as dog_file:\n",
    "    for line in dog_file:\n",
    "        if line.startswith('M'):\n",
    "            print(line.strip())"
   ]
  },
  {
   "cell_type": "markdown",
   "metadata": {
    "slideshow": {
     "slide_type": "slide"
    }
   },
   "source": [
    "<div style=\"padding: 1.5em; margin-top: 1em; border-radius: 0.5em; box-shadow: 0 0 0.5em #ced4da;\">\n",
    "\n",
    "<img src=\"../images/exercise.svg\" style=\"height: 2.5em; margin-bottom: -1em;\" />\n",
    "\n",
    "## Exercise: Dog name finder\n",
    "The file \"popular_dog_names.txt\" lists the 10 most popular names for female and male dogs in 2016 (according to the [American Kennel Club](https://www.akc.org/expert-advice/news/popular-dog-names-2016/)). Write a function that accepts a proposed dog name and checks the popular_dog_names.txt file to see whether that name is popular. If it is, print that the proposed name is popular, its rank, and for what gender of dog. If the proposed name is not found, print that the name wasn't found.\n",
    "\n",
    "</div>"
   ]
  },
  {
   "cell_type": "code",
   "execution_count": null,
   "metadata": {},
   "outputs": [],
   "source": []
  },
  {
   "cell_type": "markdown",
   "metadata": {
    "slideshow": {
     "slide_type": "slide"
    },
    "tags": []
   },
   "source": [
    "<img src=\"../images/module.svg\" style=\"width: 5em; margin-top: 5em;\" />\n",
    "\n",
    "# Modules\n",
    "* Modules are files of Python code (functions, classes, etc.) with names that end in \".py\"\n",
    "* Modules are a great mechanism for code re-use\n",
    "* To use a module, you must `import` it:"
   ]
  },
  {
   "cell_type": "code",
   "execution_count": null,
   "metadata": {},
   "outputs": [],
   "source": [
    "# Assume we want to use the cos function from the math module (within Python Standard Library)\n",
    "import math\n",
    "print(f\"The cosine of pi is: {math.cos(math.pi)}\")\n",
    "\n",
    "# Renaming the module name\n",
    "import math as m\n",
    "print(f\"Euler's constant e has the following value: {m.e}\")\n",
    "\n",
    "# We can also proceed as follows (rather dangerous)\n",
    "from math import sin, pi\n",
    "print(f\"The sine of pi/4 is: {sin(pi / 4)}\")\n",
    "\n",
    "# And almost never do this:\n",
    "from math import *"
   ]
  },
  {
   "cell_type": "markdown",
   "metadata": {
    "slideshow": {
     "slide_type": "subslide"
    }
   },
   "source": [
    "## Where does Python find the modules my code imports?\n",
    "* `sys.path`, a list of directories that are searched for modules\n",
    "* This path is defined when Python installed, and is augmented by the `PYTHONPATH` environment variable"
   ]
  },
  {
   "cell_type": "code",
   "execution_count": null,
   "metadata": {
    "scrolled": true
   },
   "outputs": [],
   "source": [
    "import sys\n",
    "for directory in sys.path:\n",
    "    print(directory)"
   ]
  },
  {
   "cell_type": "markdown",
   "metadata": {
    "slideshow": {
     "slide_type": "subslide"
    },
    "tags": []
   },
   "source": [
    "## The Python Standard Library\n",
    "* Extensive collection of modules that is installed with Python\n",
    "* Most commonly used:\n",
    "    * `sys`, especially `sys.argv` (the list of command-line arguments)\n",
    "    * `os`, especially `os.path` (tools for manipulating file names)\n",
    "    * `time` (tools for getting and formatting the system time)\n",
    "    * `math`\n",
    "    * `string`\n",
    "    * `random`\n",
    "* Documented here: https://docs.python.org/3/library/index.html"
   ]
  },
  {
   "cell_type": "markdown",
   "metadata": {},
   "source": [
    "If that isn't overwhelming enough, take a look at the [Python Package Index](https://pypi.org/)."
   ]
  },
  {
   "cell_type": "markdown",
   "metadata": {
    "slideshow": {
     "slide_type": "subslide"
    }
   },
   "source": [
    "## What modules are available on my system?\n",
    "```\n",
    "help(\"modules\")\n",
    "```"
   ]
  },
  {
   "cell_type": "markdown",
   "metadata": {
    "slideshow": {
     "slide_type": "slide"
    }
   },
   "source": [
    "## Module or script?\n",
    "* Is a .py file a module that I import or a script that I run? *It can be both!*\n",
    "* Common practice: include test code in your modules, such that\n",
    "  * if the file is executed as a script, the test code will run\n",
    "  * if the file is imported, the test code will not run\n",
    "* Has file been executed as script or imported as a module? *The `__name__` variable will tell you.*"
   ]
  },
  {
   "cell_type": "raw",
   "metadata": {},
   "source": [
    "# Example module code\n",
    "\n",
    "# Imports go here\n",
    "\n",
    "# Function definitions\n",
    "# Maybe some class or variable definitions\n",
    "\n",
    "if __name__ == \"__main__\":\n",
    "    # This .py file is getting executed as a script, not imported as a module\n",
    "    execute_test_code_here()"
   ]
  },
  {
   "cell_type": "markdown",
   "metadata": {
    "slideshow": {
     "slide_type": "slide"
    },
    "tags": []
   },
   "source": [
    "<img src=\"../images/sets.svg\" style=\"width: 5em; margin-top: 5em;\" />\n",
    "\n",
    "# Sets\n",
    "* A set is a collection of *unique* objects\n",
    "* You can create sets with the `set()` command or with the `{` and `}` (**curly brace**) symbols\n",
    "* You can also do set comprehensions\n",
    "* Sets have all the methods and operators you'd expect: union, intersect, difference, etc.\n",
    "* More on sets [here](https://docs.python.org/3/tutorial/datastructures.html#sets)"
   ]
  },
  {
   "cell_type": "code",
   "execution_count": null,
   "metadata": {},
   "outputs": [],
   "source": [
    "vowels = set(['a', 'e', 'i', 'o', 'u'])\n",
    "\n",
    "import random, string\n",
    "# What does this next line do?\n",
    "random_letters = {\n",
    "    random.choice(string.ascii_lowercase)\n",
    "    for i in range(20)\n",
    "}\n",
    "\n",
    "print(f\"The random_letters set contains {len(random_letters)} unique letters.\")\n",
    "print(f\"random_letters contains these vowels: {random_letters.intersection(vowels)}.\")\n",
    "print(f\"random_letters contains these consonants: {random_letters.difference(vowels)}.\")"
   ]
  },
  {
   "cell_type": "markdown",
   "metadata": {
    "slideshow": {
     "slide_type": "slide"
    },
    "tags": []
   },
   "source": [
    "<div style=\"padding: 1.5em; margin-top: 1em; border-radius: 0.5em; box-shadow: 0 0 0.5em #ced4da;\">\n",
    "\n",
    "<img src=\"../images/exercise.svg\" style=\"height: 2.5em; margin-bottom: -1em;\" />\n",
    "\n",
    "## Exercise: Password generator\n",
    "Write a function named `random_password()` that uses the string and random modules, and returns a string of 10 random letters, numbers, and symbols. If you want to get fancy, you could give your function an optional password length argument.\n",
    "\n",
    "\n",
    "*Please note that this is intended only as an exercise. If you want to create cryptographically secure passwords in Python, you will want to use the [secrets module](https://docs.python.org/3/library/secrets.html). It is a better idea to use an existing, well tested password manager.*\n",
    "\n",
    "</div>"
   ]
  },
  {
   "cell_type": "code",
   "execution_count": null,
   "metadata": {},
   "outputs": [],
   "source": []
  },
  {
   "cell_type": "markdown",
   "metadata": {},
   "source": [
    "**Extra credit!** Make a copy of your original `random_password()` function, and rewrite it to make it as compact as you can. Check its performance against the original version using the `%timeit` feature ([described on this page](https://ipython.readthedocs.io/en/stable/interactive/magics.html#line-magics)) of Jupyter Notebook. Does your compact code run any faster?"
   ]
  },
  {
   "cell_type": "markdown",
   "metadata": {
    "slideshow": {
     "slide_type": "slide"
    }
   },
   "source": [
    "<img src=\"../images/tuples.svg\" style=\"width: 5em; margin-top: 5em;\" />\n",
    "\n",
    "# Tuples\n",
    "* Tuples are immutable ordered collections of objects\n",
    "* The objects can be of various types\n",
    "* You can create them with the `(` and `)` symbols (**parentheses**), or with the `tuple()` function\n",
    "* Tuples are sequences, so we can\n",
    "   * iterate through them\n",
    "   * access elements by index"
   ]
  },
  {
   "cell_type": "code",
   "execution_count": null,
   "metadata": {},
   "outputs": [],
   "source": [
    "days_of_the_week = ('Sunday', 'Monday', 'Tuesday', 'Wednesday', 'Thursday', 'Friday', 'Saturday')\n",
    "print(f\"Day 6 is {days_of_the_week[6]}\")\n",
    "\n",
    "# Tuples are immutable! We can't change them.\n",
    "days_of_the_week[3] = 'Mittwoch'"
   ]
  },
  {
   "cell_type": "markdown",
   "metadata": {},
   "source": [
    "These are handy for returning multiple values from a function: `return (mean + sd, mean - sd)`\n",
    "\n",
    "One oddity about tuple syntax: A tuple with a single element must be defined using a comma, such as `(5,)`. The expression `(5)` is the same as `5`, whereas `(5,)` is a tuple with the single element `5`. In other words, a comma is necessary to initialize a tuple, as parentheses are used *both* to define operation precedence and to initialize tuples."
   ]
  },
  {
   "cell_type": "markdown",
   "metadata": {
    "slideshow": {
     "slide_type": "slide"
    }
   },
   "source": [
    "<img src=\"../images/dictionaries.svg\" style=\"width: 5em; margin-top: 5em;\" />\n",
    "\n",
    "# Dictionaries\n",
    "* A dictionary (also known as a \"hash\" or \"associative array\") is a collection of `key:value` pairs\n",
    "* You can create dictionaries with the `dict()` command or with `key:value` pairs between the `{`and `}` (**curly brace**) symbols\n",
    "  * Recall that `{` and `}` were also used to define a set; dictionaries and sets are distinct, and you can tell them apart because dictionaries *always* have pairs of associated values separated by `:`\n",
    "    * `{1, 2, 3, 4}` is a set\n",
    "    * `{1: 2, 3: 4}` is a dictionary\n",
    "* The keys in a dictionary must be unique\n",
    "* The values can be of any type\n",
    "* The lookup on a key is **extremely** fast"
   ]
  },
  {
   "cell_type": "code",
   "execution_count": null,
   "metadata": {},
   "outputs": [],
   "source": [
    "elements = {\n",
    "    'H': 'hydrogen',\n",
    "    'He': 'helium',\n",
    "    'Li': 'lithium',\n",
    "    'Be': 'berylium'\n",
    "}\n",
    "elements['B'] = 'boron'\n",
    "print(f\"The element whose symbol is H is {elements['H']}.\")\n",
    "print(f\"Does the dictionary include carbon? {'C' in elements}.\")\n",
    "print(\"Here are the symbols:\", list(elements.keys()))\n",
    "print(f\"The element name for symbol 'Po' is: {elements.get('Po', 'unknown')}.\")"
   ]
  },
  {
   "cell_type": "markdown",
   "metadata": {
    "slideshow": {
     "slide_type": "subslide"
    }
   },
   "source": [
    "## What if the key isn't in the dictionary?"
   ]
  },
  {
   "cell_type": "code",
   "execution_count": null,
   "metadata": {},
   "outputs": [],
   "source": [
    "print(f\"The element whose symbol is N is {elements['N']}.\")"
   ]
  },
  {
   "cell_type": "markdown",
   "metadata": {},
   "source": [
    "An attempt to access a missing key generates a `KeyError` exception. We'll learn about exception handling next.\n",
    "\n",
    "For more on dictionaries, see the [Python tutorial](https://docs.python.org/3/tutorial/datastructures.html#dictionaries)."
   ]
  },
  {
   "cell_type": "markdown",
   "metadata": {
    "slideshow": {
     "slide_type": "slide"
    }
   },
   "source": [
    "<div style=\"padding: 1.5em; margin-top: 1em; border-radius: 0.5em; box-shadow: 0 0 0.5em #ced4da;\">\n",
    "\n",
    "<img src=\"../images/exercise.svg\" style=\"height: 2.5em; margin-bottom: -1em;\" />\n",
    "\n",
    "## Exercise: Improved *Hello, world* function\n",
    "\n",
    "Revise this hello_world() function so that it can greet you in several different languages. Your function must accept one argument, which is the name of the language to use for the greeting, and that argument should default to some language if no value is given. \n",
    "\n",
    "*Hint: this is a nice use case for a dictionary.*\n",
    "\n",
    "</div>"
   ]
  },
  {
   "cell_type": "code",
   "execution_count": null,
   "metadata": {},
   "outputs": [],
   "source": [
    "def hello_world():\n",
    "    print(\"Hello, world!\")"
   ]
  },
  {
   "cell_type": "markdown",
   "metadata": {
    "slideshow": {
     "slide_type": "slide"
    }
   },
   "source": [
    "<div style=\"padding: 1.5em; margin-top: 1em; border-radius: 0.5em; box-shadow: 0 0 0.5em #ced4da;\">\n",
    "\n",
    "<img src=\"../images/exercise.svg\" style=\"height: 2.5em; margin-bottom: -1em;\" />\n",
    "\n",
    "## Exercise: Bioinformatics! DNA to protein translation\n",
    "This exercise puts it all together: functions, strings, modules, and dictionaries.\n",
    "\n",
    "The [genetic code](https://en.wikipedia.org/wiki/Genetic_code \"Wikipedia\") provides a mapping from the 4-letter alphabet of DNA (A, C, G, and T) to the 20-letter code of amino acids, that make up proteins. Three consecutive DNA \"letters,\" called a codon, maps onto a single amino acid letter. For example, the DNA string \"ATG\" maps onto the amino acid letter \"M.\" Using the provided module geneticcode.py, which defines the genetic code as a dictionary named `codons`, write a function that translates a DNA string to its amino acid sequence.\n",
    "\n",
    "</div>"
   ]
  },
  {
   "cell_type": "code",
   "execution_count": null,
   "metadata": {},
   "outputs": [],
   "source": [
    "# Here's a DNA sequence to translate:\n",
    "dna_sequence = \"ATGGAGGAGCCGCAGTCAGATCCTAGCGTCGAGCCC\"\n",
    "# Write a function that translates this into an amino acid sequence using the codons dictionary from the \n",
    "# geneticcode module and call your function with this sequence. This 36-letter DNA sequence should translate\n",
    "# into a 12-letter amino acid sequence."
   ]
  },
  {
   "cell_type": "code",
   "execution_count": null,
   "metadata": {},
   "outputs": [],
   "source": []
  },
  {
   "cell_type": "markdown",
   "metadata": {
    "slideshow": {
     "slide_type": "slide"
    },
    "tags": []
   },
   "source": [
    "<img src=\"../images/exceptions.svg\" style=\"width: 5em; margin-top: 5em;\" />\n",
    "\n",
    "# Exceptions\n",
    "When something goes wrong, Python \"raises\" an `Exception` object."
   ]
  },
  {
   "cell_type": "code",
   "execution_count": null,
   "metadata": {},
   "outputs": [],
   "source": [
    "elements = {'H': 'hydrogen', 'He': 'helium', 'Li': 'lithium', 'Be': 'berylium'}\n",
    "elements"
   ]
  },
  {
   "cell_type": "code",
   "execution_count": null,
   "metadata": {},
   "outputs": [],
   "source": [
    "# Depending on the value of 'symbol' this code might raise an exception:\n",
    "for symbol in ('H', 'S'):\n",
    "    print(f\"The name of element {symbol} is {elements[symbol]}.\")"
   ]
  },
  {
   "cell_type": "code",
   "execution_count": null,
   "metadata": {},
   "outputs": [],
   "source": [
    "# Rather than testing \"if symbol in elements\", just wrap the code in a try / except statement:\n",
    "for symbol in ('H', 'S'):\n",
    "    try:\n",
    "        print(f\"The name of element {symbol} is {elements[symbol]}.\")\n",
    "    except KeyError:\n",
    "        print(f\"Symbol {symbol} not found in elements dictionary!\")"
   ]
  },
  {
   "cell_type": "markdown",
   "metadata": {
    "slideshow": {
     "slide_type": "subslide"
    }
   },
   "source": [
    "## Generic exceptions\n",
    "Python defines [lots of exceptions](https://docs.python.org/3/library/exceptions.html), but you may not know what kind of exception to handle, so you can do it \"generically\":"
   ]
  },
  {
   "cell_type": "code",
   "execution_count": null,
   "metadata": {},
   "outputs": [],
   "source": [
    "try:\n",
    "    quotient = 17 / 0\n",
    "except Exception as e:\n",
    "    print(f\"Whoa, just caught unexpected exception: {type(e)}, '{e}'!\")"
   ]
  },
  {
   "cell_type": "markdown",
   "metadata": {},
   "source": [
    "You can also define your own custom exceptions; we will discuss this later."
   ]
  },
  {
   "cell_type": "markdown",
   "metadata": {
    "slideshow": {
     "slide_type": "slide"
    },
    "tags": []
   },
   "source": [
    "<img src=\"../images/classes.svg\" style=\"width: 5em; margin-top: 5em;\" />\n",
    "\n",
    "# Classes\n",
    "\n",
    "* A class is the definition of a data type\n",
    "* **Every** object in Python belongs to a class\n",
    "* Each class is a collection of data values and methods\n",
    "* A single object that belongs to a class is an *instance* of that class\n",
    "* Classes provide\n",
    "  * a namespace inside which your code is isolated from outside complexity \n",
    "  * a mechanism for code reuse through *inheritance* (more on this later)"
   ]
  },
  {
   "cell_type": "markdown",
   "metadata": {
    "jp-MarkdownHeadingCollapsed": true,
    "tags": []
   },
   "source": [
    "## Creating new instances of a class\n",
    "When a class is defined, Python creates a function with the same name as the class, and that function creates new objects belonging to that class. For example, the function `list()` creates new `list` objects. Typically, the arguments to that function provide the data that is stored within the new object. Initializing the new object with that data is handled by a special method named `__init__()`.\n",
    "\n",
    "When we write the code for our own classes we need to provide that `__init__()` method to do the initialization, and it looks like this:"
   ]
  },
  {
   "cell_type": "markdown",
   "metadata": {
    "slideshow": {
     "slide_type": "subslide"
    }
   },
   "source": [
    "## Class example\n",
    "Let's write a simple class that represents a person:"
   ]
  },
  {
   "cell_type": "code",
   "execution_count": null,
   "metadata": {},
   "outputs": [],
   "source": [
    "class Person:\n",
    "    \"This class represents a person. (This is the docstring for the whole class.)\"\n",
    "    def __init__(self, first_name, last_name, year_of_birth):\n",
    "        \"Initialization method of the class Person. (This is the docstring for this method.)\"\n",
    "        self.fname = first_name\n",
    "        self.lname = last_name\n",
    "        self.year_born = year_of_birth\n",
    "\n",
    "p = Person(\"George\", \"Washington\", 1732)  # Creating an instance of class Person by calling the Person() function.\n",
    "print(p.fname)\n",
    "print(type(p))\n",
    "print(p)"
   ]
  },
  {
   "cell_type": "markdown",
   "metadata": {},
   "source": [
    "Note the first argument to the `__init__()` method: `self`. Every method (with the exception of [staticmethods](https://docs.python.org/3/library/functions.html#staticmethod), not discussed here) will have an argument like this, and that argument refers to the object that is getting initialized or otherwise operated on by the method."
   ]
  },
  {
   "cell_type": "markdown",
   "metadata": {
    "slideshow": {
     "slide_type": "subslide"
    },
    "tags": []
   },
   "source": [
    "## Special class methods\n",
    "Objects have a variety of special methods that are called behind the scenes:\n",
    "* `__init__()`: class constructor, or initializer\n",
    "* `__str__()`: provides string representation of object, used when printing an object\n",
    "* `__lt__()`: required for the `<` operator, used when comparing objects for sorting\n",
    "* `__add__()`: required for the `+` operator\n",
    "* `__del__()`: class deconstructor. Called during garbage collection, or when using `del`\n",
    "* `__enter__()`: Context manager enter function, used by `with` statement\n",
    "* `__exit__()`: Conect manager exit function, used by `with` statement\n",
    "* `__iter__()`: Required for an object to be an iterator\n",
    "* `__next__()`: Required for an object to be an iterator\n",
    "\n",
    "`__enter__` and `__exit__` are not provided; you need to write these if you intend to use your object in a `with` statement.\n",
    "\n",
    "`__iter__` and `__next__` are not provided; you must write these if you intend to use your object as an iterator.\n",
    "\n",
    "These methods are all detailed [on the Python documentation](https://docs.python.org/3.7/reference/datamodel.html#special-method-names).\n",
    "\n",
    "Let's improve on our `Person` class:"
   ]
  },
  {
   "cell_type": "code",
   "execution_count": null,
   "metadata": {
    "scrolled": true,
    "slideshow": {
     "slide_type": "subslide"
    }
   },
   "outputs": [],
   "source": [
    "import time\n",
    "\n",
    "class Person:\n",
    "    \"Here's an improved Person example.\"\n",
    "    def __init__(\n",
    "        self,  # This is a required argument!\n",
    "        first_name,\n",
    "        last_name,\n",
    "        year_of_birth\n",
    "    ):\n",
    "        \"Constructor method of the class Person. (This is the docstring for this method.)\"\n",
    "        self.fname = first_name\n",
    "        self.lname = last_name\n",
    "        self.year_born = year_of_birth\n",
    "\n",
    "    def __str__(self):\n",
    "        \"Returns the string representation of the object\"\n",
    "        return f\"{self.lname}, {self.fname}: born {self.year_born}\"\n",
    "\n",
    "    def __lt__(self, other):\n",
    "        \"Used to compare this Person object with another Person object for sorting.\"\n",
    "        return self.lname < other.lname\n",
    "    \n",
    "    def age(self):\n",
    "        \"Returns person's (approximate) age in years\"\n",
    "        # Calculate the current year.\n",
    "        current_year = time.localtime(time.time()).tm_year\n",
    "        # Calculate this person's age by subtracting the year they were born from\n",
    "        # the current year. (Not exactly right, but close enough for our purposes.)\n",
    "        return current_year - self.year_born\n",
    "\n",
    "rockstars = [\n",
    "    Person(\"Lou\",   \"Reed\",  1942),\n",
    "    Person(\"Iggy\",  \"Pop\",   1947),\n",
    "    Person(\"David\", \"Bowie\", 1947)\n",
    "]\n",
    "rockstars.sort()\n",
    "for musician in rockstars:\n",
    "    print(f\"{musician}, age {musician.age()} years\")"
   ]
  },
  {
   "cell_type": "markdown",
   "metadata": {
    "slideshow": {
     "slide_type": "subslide"
    }
   },
   "source": [
    "<img src=\"../images/inheritance.svg\" style=\"width: 5em; margin-top: 5em;\" />\n",
    "\n",
    "# Inheritance\n",
    "- Inheritance lets you create a new class using an existing class as a foundation\n",
    "  - The new class \"inherits\" data and methods from the existing class\n",
    "  - This new class is a \"child\" class derived from a \"parent\" class\n",
    "- Parent classes are also called \"base\" classes or \"super\" classes\n",
    "  - You can add or replace methods and data values of the parent class in the child class\n",
    "  - A child class can be derived from one (single inheritance) or several (multiple inheritance) base classes"
   ]
  },
  {
   "cell_type": "markdown",
   "metadata": {
    "slideshow": {
     "slide_type": "subslide"
    }
   },
   "source": [
    "## Inheritance example"
   ]
  },
  {
   "cell_type": "code",
   "execution_count": null,
   "metadata": {
    "scrolled": true
   },
   "outputs": [],
   "source": [
    "class Student(Person):\n",
    "    \"A Student is a Person with a GPA.\"\n",
    "    def __init__(self, first_name, last_name, year_of_birth, grade_point_average):\n",
    "        # Call the parent class constructor.\n",
    "        Person.__init__(self, first_name, last_name, year_of_birth) \n",
    "        # You can also do it like this:\n",
    "        # super().__init__(first_name, last_name, year_of_birth)\n",
    "        self.gpa = grade_point_average\n",
    "\n",
    "    def __str__(self):\n",
    "        return f\"{self.lname}, {self.fname}: born {self.year_born}, GPA {self.gpa}\"\n",
    "\n",
    "s = Student(\"Alice\", \"Pythoncoder\", 2001, 4.0)\n",
    "print(s)\n",
    "print(f\"{s.fname} is {s.age()} years old.\")"
   ]
  },
  {
   "cell_type": "markdown",
   "metadata": {},
   "source": [
    "Notice that the `Student` class definition replaces only the base class (`Person`) methods that need to be modified.  \n",
    "\n",
    "Also notice that `Student` class objects have an `age()` method; where does that come from?"
   ]
  },
  {
   "cell_type": "markdown",
   "metadata": {},
   "source": [
    "## Other uses for inheritance\n",
    "Besides creating new classes from our own base classes, inheritance is essential in some other situations:"
   ]
  },
  {
   "cell_type": "markdown",
   "metadata": {
    "jp-MarkdownHeadingCollapsed": true,
    "slideshow": {
     "slide_type": "subslide"
    },
    "tags": []
   },
   "source": [
    "### The Python Standard Library and inheritance\n",
    "The Python Standard Library includes many modules that define base classes from which you derive new classes:\n",
    "* thread (for multithreaded parallel programming)\n",
    "* xml.sax (for parsing XML documents)\n",
    "* html.parser (for parsing HTML documents)\n",
    "* httpserver (for writing your own web server)\n",
    "* unittest (for implementing testing frameworks)"
   ]
  },
  {
   "cell_type": "markdown",
   "metadata": {
    "slideshow": {
     "slide_type": "subslide"
    },
    "tags": []
   },
   "source": [
    "### User-defined exceptions\n",
    "Python defines [lots of exceptions](https://docs.python.org/3/library/exceptions.html), but you can create your own custom exceptions too:"
   ]
  },
  {
   "cell_type": "code",
   "execution_count": null,
   "metadata": {},
   "outputs": [],
   "source": [
    "class MyException(Exception):\n",
    "    pass\n",
    "\n",
    "raise MyException(\"Something bad happened. Here's some information to help you sort it out.\")"
   ]
  },
  {
   "cell_type": "markdown",
   "metadata": {},
   "source": [
    "The `pass` statement is used when you want a block of code that does nothing at all. Here, we are creating a new class named `MyException` which is derived from the Python class `Exception`."
   ]
  },
  {
   "cell_type": "markdown",
   "metadata": {
    "slideshow": {
     "slide_type": "subslide"
    },
    "tags": []
   },
   "source": [
    "<div style=\"padding: 1.5em; margin-top: 1em; border-radius: 0.5em; box-shadow: 0 0 0.5em #ced4da;\">\n",
    "\n",
    "<img src=\"../images/exercise.svg\" style=\"height: 2.5em; margin-bottom: -1em;\" />\n",
    "\n",
    "## Exercise: Classes and inheritance\n",
    "1. In the cell below, create a class named `Dog` that represents dogs. The constructor, `__init__()`, should take one argument in addition to `self`: the dog's name. The class should implement one additional method, which is `speak()`. The `speak()` method should `return` some dog-appropriate sound, for example `\"Arf!\"`.\n",
    "2. Create a list of several instances of the `Dog` class, and iterate through the list printing each dog's name and the sound they return when you call the `speak()` method.\n",
    "3. Derive a `Poodle` class from the `Dog` class such that instances of the `Poodle` class return a more poodle-appropriate sound, like `\"Yip!\"`, when you call the `speak()` method.\n",
    "4. Add some instances of the `Poodle` class to your list of dogs, so list contains some `Dog` instances and some `Poodle` instances, and then re-run the code that iterates through the list.\n",
    "\n",
    "</div>"
   ]
  },
  {
   "cell_type": "code",
   "execution_count": null,
   "metadata": {},
   "outputs": [],
   "source": []
  },
  {
   "cell_type": "markdown",
   "metadata": {},
   "source": [
    "<img src=\"../images/thanks.svg\" style=\"width: 5em; margin-top: 5em;\" />\n",
    "\n",
    "# Wrapping up\n",
    "\n",
    "We've made it to the end of the course!"
   ]
  },
  {
   "cell_type": "markdown",
   "metadata": {},
   "source": [
    "## What *haven't* we discussed?\n",
    "* Creating iterators and generators (see more_on_iterators.ipynb)\n",
    "* Decorators (touched on here: https://github.com/bmilash/dataclasses-and-yaml)\n",
    "* Type checking in Python ([good article here](https://realpython.com/python-type-checking))\n",
    "* IDEs (integrated development environments)\n",
    "* Debugging\n",
    "* Benchmarking\n",
    "* Unit testing\n",
    "* Defining functions using `*args` and `**kwargs`\n",
    "* Parallel programming"
   ]
  },
  {
   "cell_type": "markdown",
   "metadata": {
    "slideshow": {
     "slide_type": "slide"
    },
    "tags": []
   },
   "source": [
    "## Programming advice\n",
    "* Don't rely on the operating system's Python; it's old, and you don't control it\n",
    "    * At the CHPC, load a `python` module with, for example, `module load python/3.10.3`\n",
    "* Use Python 3; Python 2 support ended on January 1, 2020\n",
    "* When editing, save early and save often\n",
    "* Save versions of your scripts with [Git](https://www.chpc.utah.edu/documentation/software/git-scm.php) locally, and ideally into a remote software repository\n",
    "* Write test code and consider using testing frameworks\n",
    "* Learn to use a debugger ([pdb](https://docs.python.org/3/library/pdb.html), [PyCharm](https://www.jetbrains.com/pycharm/), [IDLE](https://docs.python.org/3.10/library/idle.html), [Jupyter Lab](https://jupyterlab.readthedocs.io/en/stable/user/debugger.html), [VSCode](https://www.chpc.utah.edu/documentation/software/vscode.php)); this can be much quicker than `print()` statements!"
   ]
  },
  {
   "cell_type": "markdown",
   "metadata": {
    "slideshow": {
     "slide_type": "slide"
    },
    "tags": []
   },
   "source": [
    "## Resources\n",
    "* Python Tutorial: https://docs.python.org/3/tutorial/index.html\n",
    "* Python Standard Library: https://docs.python.org/3/library/index.html\n",
    "* PyCon: excellent meeting! \n",
    "  - https://us.pycon.org\n",
    "  - YouTube channel: https://www.youtube.com/@PyConUS\n",
    "\n",
    "## Questions?\n",
    "Please contact us at helpdesk@chpc.utah.edu if you have any questions.\n",
    "\n",
    "**Have fun coding, and thank you for attending!**"
   ]
  }
 ],
 "metadata": {
  "kernelspec": {
   "display_name": "Python 3 (ipykernel)",
   "language": "python",
   "name": "python3"
  },
  "language_info": {
   "codemirror_mode": {
    "name": "ipython",
    "version": 3
   },
   "file_extension": ".py",
   "mimetype": "text/x-python",
   "name": "python",
   "nbconvert_exporter": "python",
   "pygments_lexer": "ipython3",
   "version": "3.13.1"
  },
  "toc-autonumbering": false,
  "toc-showmarkdowntxt": false,
  "toc-showtags": false
 },
 "nbformat": 4,
 "nbformat_minor": 4
}
