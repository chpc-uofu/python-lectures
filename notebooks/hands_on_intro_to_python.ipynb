{
 "cells": [
  {
   "cell_type": "markdown",
   "metadata": {
    "slideshow": {
     "slide_type": "slide"
    },
    "tags": []
   },
   "source": [
    "# Hands-on Introduction to Python\n",
    "Presented by Brett Milash, brett.milash@utah.edu"
   ]
  },
  {
   "cell_type": "code",
   "execution_count": null,
   "metadata": {
    "scrolled": true
   },
   "outputs": [],
   "source": [
    "def hands_on_intro_to_python():\n",
    "    \"\"\"\n",
    "    This is a hands-on introduction to python.\n",
    "    Your instuctors are Brett Milash and Robben Migacz of the CHPC.\n",
    "    You can run this code cell by typing Shift+Return \n",
    "    \"\"\"\n",
    "    import sys\n",
    "    print(\"We will use python version\", sys.version)\n",
    "    \n",
    "hands_on_intro_to_python()"
   ]
  },
  {
   "cell_type": "code",
   "execution_count": null,
   "metadata": {},
   "outputs": [],
   "source": [
    "help(hands_on_intro_to_python)"
   ]
  },
  {
   "cell_type": "markdown",
   "metadata": {
    "jp-MarkdownHeadingCollapsed": true,
    "slideshow": {
     "slide_type": "slide"
    },
    "tags": []
   },
   "source": [
    "## Characteristics of the language\n",
    "* Interpreted\n",
    "* Object-oriented\n",
    "  * Data and functions (called \"methods\") are packaged together into objects\n",
    "  * An object's methods are used to manipulate that object's data\n",
    "  * Objects are organized into \"classes\", which define the objects' methods & data\n",
    "  * \"Inheritance\" makes it easy to create new classes from existing ones\n",
    "  * Great way to organize your code (and your thinking!)\n",
    "* Modular\n",
    "  * A lot of python's functionality is found in modules\n",
    "  * We need to bring those modules in to use that functionality\n",
    "  * Python comes installed with many modules, many many more can be installed later\n",
    "* Leading white space (indentation) is significant\n",
    "  * Level of indentation defines \"blocks\" of code\n",
    "  * Either tabs OR spaces - choose one or the other!\n",
    "  * Some editors take care of this for you"
   ]
  },
  {
   "cell_type": "markdown",
   "metadata": {
    "slideshow": {
     "slide_type": "slide"
    }
   },
   "source": [
    "## Running python code\n",
    "* Interactively (typing python statements at the interpreter)\n",
    "* In a script\n",
    "    * Run the interpreter with your script as an argument: \"python scriptname.py ...\"\n",
    "    * As an executable script: \"#!/usr/bin/env python\"\n",
    "* In a cell in a notebook in JupyterLab (when you type Shift+Return or Shift+Enter)"
   ]
  },
  {
   "cell_type": "code",
   "execution_count": null,
   "metadata": {},
   "outputs": [],
   "source": [
    "# This is a comment - it doesn't get executed by python.\n",
    "import math\n",
    "radius = 1.0\n",
    "area = math.pi * radius * radius\n",
    "print(\"The area of a circle with radius\", radius,\"is\", area, \".\")\n",
    "# Try changing the radius and re-running the code."
   ]
  },
  {
   "cell_type": "markdown",
   "metadata": {
    "jp-MarkdownHeadingCollapsed": true
   },
   "source": [
    "## Jupyter Lab Basics\n",
    "\n",
    "Python Jupyter Notebook files (.ipynb files) have a series of cells, one of which is active, and that cell has a blue bar on the left.\n",
    "\n",
    "Jupyter Notebooks have a modal user interface: depending on the mode the keyboard operates in 2 different ways:\n",
    "\n",
    "**Command mode:** manipulate cells using menus, toolbar, or keyboard shortcuts:\n",
    "  * arrow keys (or \"j\", \"k\") to move up and down.\n",
    "  * \"s\" saves the notebook\n",
    "  * \"a\" creates a cell above, \"b\" below\n",
    "  * \"c\" copies a cell, \"x\" cuts it, \"v\" pastes it\n",
    "  * \"dd\" deletes a cell\n",
    "  * \"z\" undeletes it\n",
    "  * change cell type to markdown (\"m\"), code (\"c\"), or raw (\"r\")\n",
    "  \n",
    "**Edit mode:** change cell contents. Double-click to enter edit mode, Escape or Shift+Return to exit.\n",
    "  * in code cells, the cell acts as a python syntax-aware editor\n",
    "  * in markdown cells, the cell is a markdown-aware editor"
   ]
  },
  {
   "cell_type": "markdown",
   "metadata": {
    "slideshow": {
     "slide_type": "slide"
    },
    "tags": []
   },
   "source": [
    "# Big Concepts in Python\n",
    "* Variables - a variable points to a data object\n",
    "  * a simple object like a number or a character string\n",
    "  * a complex object like a list of values or a dictionary of values\n",
    "* Statements (and operators) - these do stuff, they are the verbs of the language\n",
    "* Functions - these are reusable blocks of code\n",
    "* Classes - these define all the different types of objects: their data, methods, etc.\n",
    "* Modules - entire files of python code, containing variables, functions, and classes"
   ]
  },
  {
   "cell_type": "markdown",
   "metadata": {
    "slideshow": {
     "slide_type": "slide"
    }
   },
   "source": [
    "# Variables\n",
    "* Simple values\n",
    "  * Numbers (integers, real numbers, complex numbers)\n",
    "  * Character strings\n",
    "  * Boolean values (True, False)\n",
    "  * None (the empty/unknown value)\n",
    "* Compound values\n",
    "  * Lists\n",
    "  * Dictionaries\n",
    "  * Sets\n",
    "  * Tuples\n",
    "  * Complex or custom objects that we design"
   ]
  },
  {
   "cell_type": "markdown",
   "metadata": {
    "slideshow": {
     "slide_type": "slide"
    }
   },
   "source": [
    "## Create some variables"
   ]
  },
  {
   "cell_type": "code",
   "execution_count": null,
   "metadata": {
    "scrolled": true
   },
   "outputs": [],
   "source": [
    "# Lets define some variables using the assignment operator \"=\", print their values and types.\n",
    "x=1\n",
    "y=\"Here is a character string\"\n",
    "\n",
    "# What are the values assigned to x and y, what are the types of data assigned to x and y?\n",
    "print(\"The value of x is\", x, \"and its type is\", type(x))\n",
    "print(\"The value of y is \", y, \" and its type is\", type(y))\n",
    "\n",
    "# Assign the value of True or False to a variable. What data type is assigned to the variable?\n",
    "z=True\n",
    "print(\"The type of z is\", type(z))"
   ]
  },
  {
   "cell_type": "code",
   "execution_count": null,
   "metadata": {
    "scrolled": true
   },
   "outputs": [],
   "source": [
    "# Now assign the value \"hello world\" to x. What is the type of x now?\n",
    "x=\"hello world\"\n",
    "print(\"The type of data assigned to x is\", type(x))"
   ]
  },
  {
   "cell_type": "markdown",
   "metadata": {},
   "source": [
    "Notice how the type of value assigned to x has changed - python is a **dynamically typed** language."
   ]
  },
  {
   "cell_type": "markdown",
   "metadata": {
    "slideshow": {
     "slide_type": "slide"
    }
   },
   "source": [
    "## Now its your turn\n",
    "In the cell below create the variables \"name\" and \"age\", assign your name to \"name\", and your age to \"age\". Then print them using the print() function to produce the output, \"My name is _______ and I am _______ years old.\""
   ]
  },
  {
   "cell_type": "code",
   "execution_count": null,
   "metadata": {},
   "outputs": [],
   "source": []
  },
  {
   "cell_type": "markdown",
   "metadata": {
    "jp-MarkdownHeadingCollapsed": true,
    "slideshow": {
     "slide_type": "slide"
    },
    "tags": []
   },
   "source": [
    "# Operators\n",
    "\n",
    "Python has all the operators you typically find in a programming language.\n",
    "\n",
    "* Assignment operator: =\n",
    "* Arithmetic operators: +, -, \\*, /, +=, -=, \\*=, /=, \\*\\* (exponentiation), % (modulo), // (floor division)\n",
    "* Comparison operators: ==, !=, <, >, <=, >=\n",
    "* Logical operators: and, or, not\n",
    "  * the \"and\" and \"or\" operators use [short-circuit evaluation](https://en.wikipedia.org/wiki/Short-circuit_evaluation)\n",
    "* Bitwise operators: << (left shift), >> (right shift), | (bitwise or), & (bitwise and), ^ (complement)\n",
    "* Identity / membership operators: is, in\n",
    "* Assignment expressions: :=  (New in python 3.8. See https://realpython.com/python-walrus-operator/)\n",
    "* Operator precedence: parentheses ( and ) (See https://docs.python.org/3/reference/expressions.html#operator-precedence)\n",
    "\n",
    "More on operators here: https://docs.python.org/3/library/stdtypes.html#"
   ]
  },
  {
   "cell_type": "markdown",
   "metadata": {
    "slideshow": {
     "slide_type": "slide"
    }
   },
   "source": [
    "# Strings\n",
    "\n",
    "* A string is a sequence of characters enclosed in single quotes or double quotes. The quotes themselves are not part of the string.\n",
    "* \"Short\" strings fit onto one line, like \"here is a string\".\n",
    "* \"Long\" strings don't fit on one line, and are enclosed in \"triple\" quotes."
   ]
  },
  {
   "cell_type": "code",
   "execution_count": null,
   "metadata": {},
   "outputs": [],
   "source": [
    "s1 = 'Here is a short string.'\n",
    "s2 = \"Here's another short string. Note it contains a single quote.\"\n",
    "s3 = \"\"\"This is a long string.\n",
    "It's content includes multiple lines of text.\"\"\"\n",
    "print(s1 + s2)\n",
    "print(s3)"
   ]
  },
  {
   "cell_type": "markdown",
   "metadata": {
    "slideshow": {
     "slide_type": "slide"
    }
   },
   "source": [
    "## Strings have some useful operators and methods."
   ]
  },
  {
   "cell_type": "code",
   "execution_count": null,
   "metadata": {},
   "outputs": [],
   "source": [
    "# You can multiply and add them:\n",
    "s1=\"abc-\" * 3 + \"xyz\"\n",
    "print(\"s1:\", s1)\n",
    "# You can split them by some delimiter character using the string's split method:\n",
    "print(\"s1 split by - characters:\", s1.split(\"-\"))\n",
    "print(\"s1 converted to upper case:\", s1.upper())\n",
    "# Strings have a length:\n",
    "print(\"s1 is\", len(s1), \"characters long.\")\n",
    "print(\"s1 contains\", s1.count('a'), \"a's\")"
   ]
  },
  {
   "cell_type": "code",
   "execution_count": null,
   "metadata": {},
   "outputs": [],
   "source": [
    "# help on class str shows all the methods available:\n",
    "help(str)"
   ]
  },
  {
   "cell_type": "code",
   "execution_count": null,
   "metadata": {},
   "outputs": [],
   "source": [
    "# You can also reveal the objects methods with the <tab> key:\n",
    "s1."
   ]
  },
  {
   "cell_type": "markdown",
   "metadata": {},
   "source": [
    "For more on strings see the [Python Tutorial](https://docs.python.org/3/tutorial/introduction.html#strings) ."
   ]
  },
  {
   "cell_type": "markdown",
   "metadata": {},
   "source": [
    "# f-strings\n",
    "f-strings provide a simple way to format text, and were introduced in python version 3.6. f-strings are convenient, easy to read, and they are fast."
   ]
  },
  {
   "cell_type": "code",
   "execution_count": null,
   "metadata": {},
   "outputs": [],
   "source": [
    "# f-strings are an easy way to format text.\n",
    "version_number = 3.6\n",
    "s4 = f\"Its easy to format text with f-strings, which were added in python version {version_number}.\"\n",
    "print(s4)\n",
    "# One could re-write the little exercise above like this:\n",
    "name=\"Brett\"\n",
    "age=61\n",
    "print(f\"My name is {name} and my age is {age}.\")"
   ]
  },
  {
   "cell_type": "markdown",
   "metadata": {},
   "source": [
    "Any python expression can appear within the curly braces - you can call functions, use operators, and so on. More on formatting in the [Python Tutorial](https://docs.python.org/3/tutorial/inputoutput.html) ."
   ]
  },
  {
   "cell_type": "markdown",
   "metadata": {
    "slideshow": {
     "slide_type": "slide"
    },
    "tags": []
   },
   "source": [
    "# Lists\n",
    "\n",
    "* Ordered collection of 0 or more elements\n",
    "* Elements don't have to be unique\n",
    "* Elements can be various types, even other lists\n",
    "* Mutable (ie you can add and remove elements, change order, etc)\n",
    "* To create a list:\n",
    "  * **\\[** element1, element2, element3, ... **\\]** creates a new list\n",
    "  * list() turns its single argument into a list\n",
    "  * List comprehension - we'll get to this later\n",
    "* Pros - incredibly flexible. Cons - slow."
   ]
  },
  {
   "cell_type": "markdown",
   "metadata": {
    "slideshow": {
     "slide_type": "subslide"
    }
   },
   "source": [
    "## List operators"
   ]
  },
  {
   "cell_type": "code",
   "execution_count": null,
   "metadata": {
    "slideshow": {
     "slide_type": "-"
    }
   },
   "outputs": [],
   "source": [
    "# Lets create some lists:\n",
    "a1=['a','x','b','w','d','e']\n",
    "a2=list('z')\n",
    "print(f\"List a1 is: {a1}\")\n",
    "print(f\"List a2 is: {a2}\")\n",
    "# Lists have a length:\n",
    "print( f\"Length of a1 is {len(a1)}.\")\n",
    "# Some operators work on lists:\n",
    "print(f\"a1+a2={a1+a2}, a2*3={a2*3}\")"
   ]
  },
  {
   "cell_type": "code",
   "execution_count": null,
   "metadata": {},
   "outputs": [],
   "source": [
    "# And some operators don't:\n",
    "print(f\"a1/2={a1/2}\")"
   ]
  },
  {
   "cell_type": "markdown",
   "metadata": {
    "slideshow": {
     "slide_type": "subslide"
    }
   },
   "source": [
    "## List objects have some methods"
   ]
  },
  {
   "cell_type": "code",
   "execution_count": null,
   "metadata": {
    "scrolled": true
   },
   "outputs": [],
   "source": [
    "l=['a','x','b','w','d','e']\n",
    "l.remove('a')\n",
    "print(\"With 'a' removed:\", l)\n",
    "l.sort()\n",
    "print(\"Sorted:\",l)\n",
    "l.reverse()\n",
    "print(\"Reversed:\",l)\n",
    "l.append('p')\n",
    "print(\"With 'p' appended:\",l)\n",
    "print(\"Last element (which has been removed):\", l.pop())\n",
    "print(\"First element (which has been removed):\", l.pop(0))"
   ]
  },
  {
   "cell_type": "markdown",
   "metadata": {},
   "source": [
    "## A note on performance\n",
    "Suppose you want to add an element to list l above. You could do it like this:\n",
    "```\n",
    "l = l + ['x']\n",
    "```\n",
    "or you could do it like this:\n",
    "```\n",
    "l.append('x')\n",
    "```\n",
    "Both lines of code accomplish the same thing, but the second is **much** faster."
   ]
  },
  {
   "cell_type": "markdown",
   "metadata": {},
   "source": [
    "For more on lists see the [Python Tutorial](https://docs.python.org/3/tutorial/datastructures.html#more-on-lists) ."
   ]
  },
  {
   "cell_type": "markdown",
   "metadata": {
    "slideshow": {
     "slide_type": "slide"
    },
    "tags": []
   },
   "source": [
    "# Accessing sequence elements by index\n",
    "* Strings and lists are examples of **sequences**.\n",
    "* You can access one or more elements of a sequence with their index number in square brackets: [ ]\n",
    "* Indexes range from 0 up to (sequence length - 1)\n",
    "* Negative indexes count backwards from the end: -1 is the last element, -2 the second from last, etc.\n",
    "* Within the brackets you can provide the [start:end+1:stepsize] where start defaults to 0, end+1 defaults to the end of the list, and stepsize defaults to 1."
   ]
  },
  {
   "cell_type": "code",
   "execution_count": null,
   "metadata": {},
   "outputs": [],
   "source": [
    "letters = ['a','b','c','d','e','f','g','h','i','j','k','l','m']\n",
    "print(letters)\n",
    "print(letters[0])\n",
    "print(letters[-1])\n",
    "print(letters[0:3])\n",
    "print(letters[3:12:2])"
   ]
  },
  {
   "cell_type": "markdown",
   "metadata": {
    "slideshow": {
     "slide_type": "slide"
    },
    "tags": []
   },
   "source": [
    "# Functions\n",
    "Functions are reusable chunks of python code. They (usually) have a name, they can take 0 or more arguments, and they  return a value.<br>\n",
    "If you don't explicitly return a value, a function returns \"None\".\n",
    "This is the general layout of a function definition in Python:"
   ]
  },
  {
   "cell_type": "code",
   "execution_count": null,
   "metadata": {},
   "outputs": [],
   "source": [
    "def test_function( argument1, argument2, argumentn=\"default_value\"):\n",
    "    \"This is the documentation string (or docstring) for the function\"\n",
    "    # The body of the function goes here:\n",
    "    print(\"Value of argument1:\",argument1)\n",
    "    print(\"Value of argument2:\",argument2)\n",
    "    print(\"Value of argumentn:\",argumentn)\n",
    "    \n",
    "x=test_function('a',2)\n",
    "print(\"test_function returned\",x)\n",
    "help(test_function)"
   ]
  },
  {
   "cell_type": "markdown",
   "metadata": {
    "slideshow": {
     "slide_type": "-"
    }
   },
   "source": [
    "\n",
    "* Function announced with the <font color=\"green\"><b>def</b></font> keyword\n",
    "* Followed by the function name\n",
    "* Followed by 0 or more arguments in parentheses, and a colon.\n",
    "* Followed by optional documentation string. <font color=\"red\"><b>Recommendation</b></font> :: use doc strings\n",
    "* Body of the function (which is indented relative to the 'def' statement).\n",
    "* Optional return of a return value, for example:  return value1\n",
    "* If there is no return statement then the function returns <font color=\"red\"><b>None</b></font>"
   ]
  },
  {
   "cell_type": "markdown",
   "metadata": {
    "slideshow": {
     "slide_type": "slide"
    },
    "tags": []
   },
   "source": [
    "## Exercise: Hello World function\n",
    "In the following cell, create a function named hello_world() that takes no arguments. It should print \"Hello, World!\" when you call the function.\n",
    "Then, modify your function to take one optional argument that defaults to \"World\". If called without an argument your function should print \"Hello, World!\". If you pass a value to the function, for example \"Bob\", your function should print \"Hello, Bob!\"."
   ]
  },
  {
   "cell_type": "code",
   "execution_count": null,
   "metadata": {},
   "outputs": [],
   "source": []
  },
  {
   "cell_type": "markdown",
   "metadata": {
    "slideshow": {
     "slide_type": "slide"
    }
   },
   "source": [
    "## Flow control: the if / elif / else statement\n",
    "Its imperative that your code can branch depending on different situations that arise. The **if** statement lets you do this:"
   ]
  },
  {
   "cell_type": "code",
   "execution_count": null,
   "metadata": {},
   "outputs": [],
   "source": [
    "animal='dog'\n",
    "if animal == 'dog':\n",
    "    print(\"The animal is a dog.\")\n",
    "elif animal == 'cat':\n",
    "    print(\"The animal is a cat\")\n",
    "else:\n",
    "    print(\"The animal is neither dog nor cat!\")"
   ]
  },
  {
   "cell_type": "markdown",
   "metadata": {},
   "source": [
    "Both the `elif` and `else` clauses are optional. Note the white space before the `print` statements - that indentation is significant!"
   ]
  },
  {
   "cell_type": "markdown",
   "metadata": {
    "slideshow": {
     "slide_type": "slide"
    },
    "tags": []
   },
   "source": [
    "## Return statement\n",
    "Frequently you want to return one or more values from a function back to the code that called it. To do this we use the **return** statement:"
   ]
  },
  {
   "cell_type": "raw",
   "metadata": {},
   "source": [
    "# Return a single value:\n",
    "return x\n",
    "# Return multiple values as a tuple (more on tuples later):\n",
    "return ( mean, std_deviation )\n",
    "# Return the outcome of a logical test as a True or False value:\n",
    "return x < 5"
   ]
  },
  {
   "cell_type": "markdown",
   "metadata": {},
   "source": [
    "For more on functions and the return statement see the [Python Tutorial](https://docs.python.org/3/tutorial/controlflow.html#defining-functions)."
   ]
  },
  {
   "cell_type": "markdown",
   "metadata": {
    "slideshow": {
     "slide_type": "slide"
    }
   },
   "source": [
    "## Exercise: Odd or Even function\n",
    "Create a function that takes one argument and returns the string \"odd\" or \"even\", depending on whether the argument is an odd number or an even number. Assume for now that the argument is a positive integer."
   ]
  },
  {
   "cell_type": "code",
   "execution_count": null,
   "metadata": {},
   "outputs": [],
   "source": []
  },
  {
   "cell_type": "markdown",
   "metadata": {
    "slideshow": {
     "slide_type": "slide"
    }
   },
   "source": [
    "# Anonymous functions (lambda expressions)\n",
    "Functions are objects, like everything else in Python. Most functions are associated with an identifier, like hello_world.  \n",
    "There are situations where we want to pass a function as an argument to another function, and one way to do that is with the function's name. Here is an example using the **map()** function, which applies a function to each element of a list:"
   ]
  },
  {
   "cell_type": "code",
   "execution_count": null,
   "metadata": {
    "scrolled": true
   },
   "outputs": [],
   "source": [
    "def divide_by_ten(x):\n",
    "    \"This function takes a number as an argument and returns that number divided by 10.\"\n",
    "    return x/10.0\n",
    "\n",
    "# Here is a list of numbers we want to divide by 10:\n",
    "numbers = [0,1,2,3,4,5,6,7,8,9]\n",
    "\n",
    "# Now we use the map() statement to apply the divide_by_ten function to each element in the list:\n",
    "tenths = list( map( divide_by_ten, numbers ))\n",
    "\n",
    "# Print out the original numbers, and those numbers divided by 10:\n",
    "print(numbers)\n",
    "print(tenths)"
   ]
  },
  {
   "cell_type": "markdown",
   "metadata": {},
   "source": [
    "But defining a new function for something so trivial, that I may only use once, is really klunky. So I can use a \"lambda expression\" to create an anonymous function right where I need it:"
   ]
  },
  {
   "cell_type": "code",
   "execution_count": null,
   "metadata": {
    "scrolled": true
   },
   "outputs": [],
   "source": [
    "numbers = [0,1,2,3,4,5,6,7,8,9]\n",
    "tenths = list( map( lambda x: x/10.0, numbers ))\n",
    "print(numbers)\n",
    "print(tenths)"
   ]
  },
  {
   "cell_type": "markdown",
   "metadata": {
    "slideshow": {
     "slide_type": "subslide"
    }
   },
   "source": [
    "## You can assign a lambda expression to an identifier"
   ]
  },
  {
   "cell_type": "code",
   "execution_count": null,
   "metadata": {},
   "outputs": [],
   "source": [
    "divide_by_ten = lambda x: x/10.0\n",
    "divide_by_ten(3)"
   ]
  },
  {
   "cell_type": "markdown",
   "metadata": {},
   "source": [
    "Unlike functions defined with \"def\", lambda can only create \"one-liners\".\n",
    "\n",
    "More on lambda and anonymous functions in the [Python Tutorial](https://docs.python.org/3/tutorial/controlflow.html#lambda-expressions \"Python Tutorial\") ."
   ]
  },
  {
   "cell_type": "markdown",
   "metadata": {
    "slideshow": {
     "slide_type": "slide"
    }
   },
   "source": [
    "# File input / output (I/O)\n",
    "Its useful to read data from files, or write data to files. This is done through file objects, which are created using the `open()` function. Files can be opened for reading (\"r\"), writing (\"w\"), or appending (\"a\"):"
   ]
  },
  {
   "cell_type": "code",
   "execution_count": null,
   "metadata": {},
   "outputs": [],
   "source": [
    "input_file = open(\"popular_dog_names.txt\",\"r\")    # Open a file for reading.\n",
    "first_line = input_file.readline()                # Read one line.\n",
    "input_file.close()                                # Close the input file.\n",
    "print(f\"Read this data from the file: '{first_line}'\")\n",
    "output_file = open(\"tmpfile.txt\",\"w\")             # Open another file for writing. This erases the file if it exists.\n",
    "output_file.write(first_line)\n",
    "output_file.close()"
   ]
  },
  {
   "cell_type": "markdown",
   "metadata": {},
   "source": [
    "You can also read all the lines of a file into a list with input_file.readlines(), but be careful! The file might be big!\n",
    "\n",
    "**Note:** If you are working with binary data files (rather than text files) you need to open them in the \"rb\", \"wb\", or \"ab\" mode, and you may find the [struct](https://docs.python.org/3/library/struct.html) library helpful."
   ]
  },
  {
   "cell_type": "markdown",
   "metadata": {
    "slideshow": {
     "slide_type": "subslide"
    },
    "tags": []
   },
   "source": [
    "## File I/O and the with statement\n",
    "A common pattern in Python is:\n",
    "> Try to open a file. <br>\n",
    "> If that worked, read from or write to the file. <br>\n",
    "> Close the file.\n",
    "\n",
    "This is so common that Python provides a statement to simplify this: `with`"
   ]
  },
  {
   "cell_type": "code",
   "execution_count": null,
   "metadata": {
    "scrolled": true
   },
   "outputs": [],
   "source": [
    "with open(\"popular_dog_names.txt\",\"r\") as input_file:\n",
    "    all_lines = input_file.readlines()\n",
    "    print(f\"The file contains {len(all_lines)} lines of data.\")\n",
    "    print(f\"The first line is '{all_lines[0]}'\")\n",
    "    print(f\"The last line is '{all_lines[-1]}'\")"
   ]
  },
  {
   "cell_type": "markdown",
   "metadata": {},
   "source": [
    "At the end of the **with** clause the file is closed.\n",
    "\n",
    "You can use **with** for more than just file I/O. For all this to work, the object created in the **with** statement must have the methods **\\_\\_enter\\_\\_** and **\\_\\_exit\\_\\_**. See the documentation [here](https://docs.python.org/3/reference/compound_stmts.html#with)."
   ]
  },
  {
   "cell_type": "markdown",
   "metadata": {},
   "source": [
    "# Looping\n",
    "Python provides two different types of loop statements: while loops and for loops."
   ]
  },
  {
   "cell_type": "markdown",
   "metadata": {
    "slideshow": {
     "slide_type": "slide"
    }
   },
   "source": [
    "## While loops\n",
    "A while loop tests some logical condition, and executes the body of the loop while that condition evaluates to True:"
   ]
  },
  {
   "cell_type": "code",
   "execution_count": null,
   "metadata": {},
   "outputs": [],
   "source": [
    "# Calculate the first 10 elements of the Fibonacci sequence:\n",
    "fibonacci=[0,1]\n",
    "while len(fibonacci) < 10:\n",
    "    fibonacci.append( fibonacci[-2] + fibonacci[-1] )\n",
    "print(fibonacci)"
   ]
  },
  {
   "cell_type": "markdown",
   "metadata": {
    "slideshow": {
     "slide_type": "slide"
    }
   },
   "source": [
    "## For loops\n",
    "For loops let you process each item in a sequence of items, for example each item in a list:"
   ]
  },
  {
   "cell_type": "code",
   "execution_count": null,
   "metadata": {
    "scrolled": true
   },
   "outputs": [],
   "source": [
    "for letter in ['a', 'e', 'i', 'o', 'u']:\n",
    "    print(letter)"
   ]
  },
  {
   "cell_type": "markdown",
   "metadata": {},
   "source": [
    "There are a number of other functions and statements that are useful in the context of loops."
   ]
  },
  {
   "cell_type": "markdown",
   "metadata": {
    "slideshow": {
     "slide_type": "slide"
    }
   },
   "source": [
    "## The range() function\n",
    "`range(start,stop,[stepsize=1])` returns a list-like object containing integers from start to stop-1. This is useful for all kinds of list processing and for-loop control:"
   ]
  },
  {
   "cell_type": "code",
   "execution_count": null,
   "metadata": {},
   "outputs": [],
   "source": [
    "element_names=['hydrogen','helium','lithium','berylium','boron','carbon','nitrogen','oxygen','fluorine']\n",
    "for i in range(0,len(element_names)):\n",
    "    print( f\"Item {i} in the list is {element_names[i]}.\")"
   ]
  },
  {
   "cell_type": "code",
   "execution_count": null,
   "metadata": {
    "scrolled": true
   },
   "outputs": [],
   "source": [
    "# The stepsize defaults to 1 and the start value defaults to 0:\n",
    "print(list(range(3)))"
   ]
  },
  {
   "cell_type": "markdown",
   "metadata": {
    "slideshow": {
     "slide_type": "slide"
    }
   },
   "source": [
    "## Exercise: Factorial function\n",
    "Create a function named \"factorial\" that takes one argument, n, and returns n! (ie 1 * 2 * 3 * ... * (n-2) * (n-1) * n). This is easy to implement with a for loop.\n",
    "\n",
    "For this exercise, you can assume that the argument is a positive integer. Write the factorial function, and try calling it with a few different positive integer values.\n",
    "\n",
    "(You could also get fancy and write a recursive function, a function that calls itself. **If you do this** make sure your code tests when to end the recursion!)"
   ]
  },
  {
   "cell_type": "code",
   "execution_count": null,
   "metadata": {},
   "outputs": [],
   "source": []
  },
  {
   "cell_type": "markdown",
   "metadata": {
    "slideshow": {
     "slide_type": "slide"
    },
    "tags": []
   },
   "source": [
    "## Looping flow control: the continue statement\n",
    "Sometimes you want to skip the rest of the body of a loop, and **continue** with the next iteration:"
   ]
  },
  {
   "cell_type": "code",
   "execution_count": null,
   "metadata": {},
   "outputs": [],
   "source": [
    "consonants = []\n",
    "vowels = ['a','e','i','o','u']\n",
    "for letter in \"abcdefghijklmnopqrstuvwxyz\":\n",
    "    if letter in vowels:\n",
    "        continue\n",
    "    consonants.append(letter)\n",
    "len(consonants)"
   ]
  },
  {
   "cell_type": "markdown",
   "metadata": {
    "slideshow": {
     "slide_type": "subslide"
    },
    "tags": []
   },
   "source": [
    "## Looping flow control: the break statement\n",
    "Sometimes you need to **break** out of a loop completely, before you've reached the last iteration:"
   ]
  },
  {
   "cell_type": "code",
   "execution_count": null,
   "metadata": {},
   "outputs": [],
   "source": [
    "i=100\n",
    "while i > 0:\n",
    "    print(i)\n",
    "    if i % 7 == 0:\n",
    "        break\n",
    "    i-=1\n",
    "print(f\"The biggest multiple of 7 less than 100 is {i}.\")"
   ]
  },
  {
   "cell_type": "markdown",
   "metadata": {
    "slideshow": {
     "slide_type": "slide"
    }
   },
   "source": [
    "## List comprehension\n",
    "For loops are handy for populating lists. Let's say we want a list of integers from 0 to 9 squared. You could write this:"
   ]
  },
  {
   "cell_type": "code",
   "execution_count": null,
   "metadata": {},
   "outputs": [],
   "source": [
    "squared_integers = []\n",
    "for i in range(0,10):\n",
    "    squared_integers.append( i * i )\n",
    "squared_integers"
   ]
  },
  {
   "cell_type": "markdown",
   "metadata": {},
   "source": [
    "But its easier to write this:"
   ]
  },
  {
   "cell_type": "code",
   "execution_count": null,
   "metadata": {},
   "outputs": [],
   "source": [
    "squared_integers = [ i * i for i in range(0,10) ]\n",
    "squared_integers"
   ]
  },
  {
   "cell_type": "markdown",
   "metadata": {},
   "source": [
    "This is \"list comprehension\", first introduced in Python version 2.0.\n",
    "For more details see the [Python Tutorial](https://docs.python.org/3/tutorial/datastructures.html#list-comprehensions \"Python Tutorial\") ."
   ]
  },
  {
   "cell_type": "markdown",
   "metadata": {
    "slideshow": {
     "slide_type": "slide"
    },
    "tags": []
   },
   "source": [
    "## Iterators\n",
    "For loops can iterate across a variety of objects, such as strings, lists, range() objects, or open files. These objects are all iterators. More on iterators [here](https://docs.python.org/3/tutorial/classes.html#iterators \"Python Tutorial\")."
   ]
  },
  {
   "cell_type": "code",
   "execution_count": null,
   "metadata": {
    "scrolled": true
   },
   "outputs": [],
   "source": [
    "for letter in \"ABC\":\n",
    "    print(letter)\n",
    "for vowel in ['a','e','i','o','u']:\n",
    "    print(vowel)\n",
    "for number in range(0,5):\n",
    "    print(number)\n",
    "with open(\"popular_dog_names.txt\",\"r\") as dog_file:\n",
    "    for line in dog_file:\n",
    "        if line.startswith('M'):\n",
    "            print(line.strip())"
   ]
  },
  {
   "cell_type": "markdown",
   "metadata": {
    "slideshow": {
     "slide_type": "slide"
    }
   },
   "source": [
    "## Exercise: Dog name finder\n",
    "The file \"popular_dog_names.txt\" lists the 10 most popular names for female and male dogs in 2016 (according to the [American Kennel Club](https://www.akc.org/expert-advice/news/popular-dog-names-2016/)). Write a function that accepts a proposed dog name, and checks the popular_dog_names.txt file to see if that name is popular. If it is, print that the proposed name is popular, its rank, and for what gender of dog. If the proposed name is not found, print that the name wasn't found."
   ]
  },
  {
   "cell_type": "code",
   "execution_count": null,
   "metadata": {},
   "outputs": [],
   "source": []
  },
  {
   "cell_type": "markdown",
   "metadata": {
    "slideshow": {
     "slide_type": "slide"
    },
    "tags": []
   },
   "source": [
    "# Modules\n",
    "* Modules are files of python code (functions, classes, etc) whose names end in \".py\"\n",
    "* They are a great mechanism for code re-use\n",
    "* To use a module you must `import` it:"
   ]
  },
  {
   "cell_type": "code",
   "execution_count": null,
   "metadata": {},
   "outputs": [],
   "source": [
    "# Assume we want to use the cos function from the math module (within Python Standard Library)\n",
    "import math\n",
    "print(f\"The cosine of pi is: {math.cos(math.pi)}\")\n",
    "# Renaming the module name\n",
    "import math as m\n",
    "print(f\"Euler's constant e has the following value: {m.e}\")\n",
    "# We can also proceed as follows (rather dangerous)\n",
    "from math import sin, pi\n",
    "print(f\"The sine of pi/4 is: {sin(pi/4)}\")\n",
    "# And almost never do this:\n",
    "from math import *"
   ]
  },
  {
   "cell_type": "markdown",
   "metadata": {
    "slideshow": {
     "slide_type": "subslide"
    }
   },
   "source": [
    "## Where does python find the modules my code imports?\n",
    "* sys.path - list of directories that are searched for modules\n",
    "* This path is defined when python installed, and is augmented by PYTHONPATH environment variable"
   ]
  },
  {
   "cell_type": "code",
   "execution_count": null,
   "metadata": {
    "scrolled": true
   },
   "outputs": [],
   "source": [
    "import sys\n",
    "for directory in sys.path:\n",
    "    print(directory)"
   ]
  },
  {
   "cell_type": "markdown",
   "metadata": {
    "slideshow": {
     "slide_type": "subslide"
    },
    "tags": []
   },
   "source": [
    "## The Python Standard Library\n",
    "* Extensive collection of modules that is installed with python\n",
    "* Most commonly used:\n",
    "    * sys, especially sys.argv (the list of command-line arguments)\n",
    "    * os, especially os.path (tools for manipulating file names)\n",
    "    * time (tools for getting and formatting the system time)\n",
    "    * math\n",
    "    * string\n",
    "    * random\n",
    "* Documented here: https://docs.python.org/3/library/index.html"
   ]
  },
  {
   "cell_type": "markdown",
   "metadata": {},
   "source": [
    "**Note:** If that isn't overwhelming enough, take a look at the Python Package Index: https://pypi.org/ ."
   ]
  },
  {
   "cell_type": "markdown",
   "metadata": {
    "slideshow": {
     "slide_type": "subslide"
    }
   },
   "source": [
    "## What modules are available on my system?\n",
    "<code>\n",
    "help(\"modules\")\n",
    "</code>"
   ]
  },
  {
   "cell_type": "markdown",
   "metadata": {
    "slideshow": {
     "slide_type": "slide"
    }
   },
   "source": [
    "## Module or script?\n",
    "* Is a .py file a module that I import or a script that I run? It can be both.\n",
    "* Common practice: include test code in your modules s.t. if the file is executed as a script the test code will run, and if imported the test code will not run.\n",
    "* Has file been executed as script or imported as a module? The `__name__` variable will tell you."
   ]
  },
  {
   "cell_type": "raw",
   "metadata": {},
   "source": [
    "# Example module code:\n",
    "\n",
    "# Function definitions:\n",
    "# Maybe some class definitions:\n",
    "# Yada yada yada:\n",
    "\n",
    "if __name__ == \"__main__\":\n",
    "    # This .py file is getting executed as a script, not imported as a module.\n",
    "    execute_test_code_here()"
   ]
  },
  {
   "cell_type": "markdown",
   "metadata": {
    "slideshow": {
     "slide_type": "slide"
    },
    "tags": []
   },
   "source": [
    "# Sets\n",
    "* A set is a collection of **unique** objects.\n",
    "* You can create sets with the **set()** command or with the **\\{** and **\\}** symbols.\n",
    "* You can also do set comprehensions.\n",
    "* Sets have all the methods and operators you'd expect: union, intersect, difference, etc.\n",
    "* More on sets [here](https://docs.python.org/3/tutorial/datastructures.html#sets \"Python Tutorial\") ."
   ]
  },
  {
   "cell_type": "code",
   "execution_count": null,
   "metadata": {},
   "outputs": [],
   "source": [
    "vowels = set(['a', 'e', 'i', 'o', 'u'])\n",
    "import random, string\n",
    "# What does this next line do?\n",
    "random_letters = { random.choice( string.ascii_lowercase) for i in range(20) }\n",
    "print( f\"The random_letters set contains {len(random_letters)} unique letters.\")\n",
    "print( f\"random_letters contains these vowels: {random_letters.intersection(vowels)}.\")\n",
    "print( f\"random_letters contains these consonants: {random_letters.difference(vowels)}.\")"
   ]
  },
  {
   "cell_type": "markdown",
   "metadata": {
    "slideshow": {
     "slide_type": "slide"
    },
    "tags": []
   },
   "source": [
    "## Exercise: Password generator\n",
    "Write a function named random_password() that uses the string and random modules, and returns a string of 10 random letters, numbers, and symbols. If you want to get fancy, you could give your function an optional password length argument."
   ]
  },
  {
   "cell_type": "code",
   "execution_count": null,
   "metadata": {},
   "outputs": [],
   "source": []
  },
  {
   "cell_type": "markdown",
   "metadata": {},
   "source": [
    "**Extra credit!** Make a copy of your original random_password() function, and rewrite it to make it as compact as you can. Check its performance against the original version using the **%timeit** feature ([described on this page](https://ipython.readthedocs.io/en/stable/interactive/magics.html#line-magics)) of Jupyter Notebook. Does your compact code run any faster?"
   ]
  },
  {
   "cell_type": "markdown",
   "metadata": {
    "slideshow": {
     "slide_type": "slide"
    }
   },
   "source": [
    "# Tuples\n",
    "* Tuples are immutable ordered collections of objects\n",
    "* The objects can be of various types\n",
    "* You can create them with the **\\(** and **\\)** symbols, or with the tuple() command\n",
    "* Tuples are sequences, so we can\n",
    "   * iterate through them\n",
    "   * access elements by index"
   ]
  },
  {
   "cell_type": "code",
   "execution_count": null,
   "metadata": {},
   "outputs": [],
   "source": [
    "days_of_the_week=('mon','tue','wed','thur','fri','sat','sun')\n",
    "print(f\"Day 6 is {days_of_the_week[6]}\")\n",
    "days_of_the_week[2]='hump_day'"
   ]
  },
  {
   "cell_type": "markdown",
   "metadata": {},
   "source": [
    "These are handy for returning multiple values from a function: `return ( mean + sd, mean - sd )`\n",
    "\n",
    "One oddity about tuple syntax: a tuple with a single element must be defined using a comma, for example `( 5, )` . The expression `( 5 )` is the same as `5`, whereas `( 5, )` is a tuple with the single element 5."
   ]
  },
  {
   "cell_type": "markdown",
   "metadata": {
    "slideshow": {
     "slide_type": "slide"
    }
   },
   "source": [
    "# Dictionaries\n",
    "* A dictionary (also known as a \"hash\" or \"associative array\") is a collection of key:value pairs. \n",
    "* You can create dictionaries with the **dict()** command or with key:value pairs between the **\\{** and **\\}** symbols.\n",
    "* The keys must be unique, and must belong to an immutable data type, for example strings, numbers, tuples, or frozen data classes.\n",
    "* The values can be of any type.\n",
    "* The lookup on a key is **extremely** fast."
   ]
  },
  {
   "cell_type": "code",
   "execution_count": null,
   "metadata": {},
   "outputs": [],
   "source": [
    "elements = { 'H':'hydrogen', 'He':'helium', 'Li':'lithium', 'Be':'berylium'}\n",
    "elements['B'] = 'boron'\n",
    "print( f\"The element whose symbol is H is {elements['H']}.\")\n",
    "print( f\"Does the dictionary include carbon? {'C' in elements} .\")\n",
    "print( \"Here are the symbols:\", list(elements.keys()) )\n",
    "print( f\"The element name for symbol 'Po' is: {elements.get('Po','unknown')}.\")"
   ]
  },
  {
   "cell_type": "markdown",
   "metadata": {
    "slideshow": {
     "slide_type": "subslide"
    }
   },
   "source": [
    "## More dictionaries"
   ]
  },
  {
   "cell_type": "code",
   "execution_count": null,
   "metadata": {},
   "outputs": [],
   "source": [
    "print( f\"The element whose symbol is N is {elements['N']}.\")"
   ]
  },
  {
   "cell_type": "markdown",
   "metadata": {},
   "source": [
    "An attempt to access a missing key generates a KeyError exception. We'll learn about exception handling next.<br>\n",
    "For more on dictionaries see the [Python Tutorial](https://docs.python.org/3/tutorial/datastructures.html#dictionaries \"Python Tutorial\") ."
   ]
  },
  {
   "cell_type": "markdown",
   "metadata": {
    "slideshow": {
     "slide_type": "slide"
    }
   },
   "source": [
    "## Exercise: Improved Hello World function"
   ]
  },
  {
   "cell_type": "code",
   "execution_count": null,
   "metadata": {},
   "outputs": [],
   "source": [
    "# Revise this hello_world function so that it can greet you in several different languages. \n",
    "# Your function must accept one argument, which is the name of the language to use for the \n",
    "# greeting, and that argument should default to some language if no value is given. \n",
    "# Hint: this is a nice use case for a dictionary.\n",
    "def hello_world():\n",
    "    print(\"Hello, world!\")"
   ]
  },
  {
   "cell_type": "markdown",
   "metadata": {
    "slideshow": {
     "slide_type": "slide"
    }
   },
   "source": [
    "## Exercise: Bioinformatics! DNA to protein translation\n",
    "This exercise puts it all together: functions, strings, modules, and dictionaries. <br>\n",
    "The [genetic code](https://en.wikipedia.org/wiki/Genetic_code \"Wikipedia\") provides a mapping from the 4-letter alphabet of DNA (A, C, G, and T) to the 20-letter code of amino acids, that make up proteins. Three consecutive DNA \"letters\", called a codon, maps onto a single amino acid letter. For example, the DNA string \"ATG\" maps onto the amino acid letter \"M\". Using the provided module \"geneticcode.py\" which defines the genetic code as a dictionary named \"codons\", write a function that translates a DNA string to its amino acid sequence."
   ]
  },
  {
   "cell_type": "code",
   "execution_count": null,
   "metadata": {},
   "outputs": [],
   "source": [
    "# Here's a DNA sequence to translate:\n",
    "dna_sequence = \"ATGGAGGAGCCGCAGTCAGATCCTAGCGTCGAGCCC\"\n",
    "# Write a function that translates this into an amino acid sequence using the codons dictionary from the \n",
    "# geneticcode module and call your function with this sequence. This 36-letter DNA sequence should translate\n",
    "# into a 12-letter amino acid sequence."
   ]
  },
  {
   "cell_type": "code",
   "execution_count": null,
   "metadata": {},
   "outputs": [],
   "source": []
  },
  {
   "cell_type": "markdown",
   "metadata": {
    "slideshow": {
     "slide_type": "slide"
    },
    "tags": []
   },
   "source": [
    "# Exceptions\n",
    "When something goes wrong, python \"raises\" an exception object."
   ]
  },
  {
   "cell_type": "code",
   "execution_count": null,
   "metadata": {},
   "outputs": [],
   "source": [
    "elements = { 'H':'hydrogen', 'He':'helium', 'Li':'lithium', 'Be':'berylium'}\n",
    "elements"
   ]
  },
  {
   "cell_type": "code",
   "execution_count": null,
   "metadata": {},
   "outputs": [],
   "source": [
    "# Depending on the value of 'symbol' this code might raise an exception:\n",
    "for symbol in ('H', 'S'):\n",
    "    print(f\"The name of element {symbol} is {elements[symbol]}.\")"
   ]
  },
  {
   "cell_type": "code",
   "execution_count": null,
   "metadata": {},
   "outputs": [],
   "source": [
    "# Rather than testing \"if symbol in elements\", just wrap the code in a try / except statement:\n",
    "for symbol in ('H', 'S'):\n",
    "    try:\n",
    "        print(f\"The name of element {symbol} is {elements[symbol]}.\")\n",
    "    except KeyError:\n",
    "        print( f\"Symbol {symbol} not found in elements dictionary!\")"
   ]
  },
  {
   "cell_type": "markdown",
   "metadata": {
    "slideshow": {
     "slide_type": "subslide"
    }
   },
   "source": [
    "## More exceptions\n",
    "Python defines [lots of exceptions](https://docs.python.org/3/library/exceptions.html), but you may not know what kind of exception to handle, so you can do it \"generically\":"
   ]
  },
  {
   "cell_type": "code",
   "execution_count": null,
   "metadata": {},
   "outputs": [],
   "source": [
    "try:\n",
    "    quotient = 17 / 0\n",
    "except Exception as e:\n",
    "    print(f\"Whoa, just caught unexpected exception: {type(e)},'{e}'!\")"
   ]
  },
  {
   "cell_type": "markdown",
   "metadata": {},
   "source": [
    "You can also define your own custom exceptions - more on that later."
   ]
  },
  {
   "cell_type": "markdown",
   "metadata": {
    "slideshow": {
     "slide_type": "slide"
    },
    "tags": []
   },
   "source": [
    "# Classes\n",
    "\n",
    "* A class is the definition of a data type.\n",
    "* **Every** object in Python belongs to a class.\n",
    "* Each class is a collection of data values and methods.\n",
    "* A single object that belongs to a class is an 'instance' of that class.\n",
    "* Classes provide:\n",
    "  * a namespace inside which your code is isolated from outside complexity \n",
    "  * a mechanism for code reuse through **inheritance** (more on this later)"
   ]
  },
  {
   "cell_type": "markdown",
   "metadata": {
    "jp-MarkdownHeadingCollapsed": true,
    "tags": []
   },
   "source": [
    "## Creating new instances of a class\n",
    "When a class is defined, python creates a function with the same name as the class, and that function creates new objects belonging to that class. For example the function **list()** creates new list objects.  \n",
    "Typically the arguments to that function provide the data that is stored within the new object. Initializing the new object with that data is handled by a special method named **\\_\\_init\\_\\_()**.   \n",
    "When we write the code for our own classes we need to provide that **\\_\\_init\\_\\_()** method to do the initialization, and it looks like this:"
   ]
  },
  {
   "cell_type": "markdown",
   "metadata": {
    "slideshow": {
     "slide_type": "subslide"
    }
   },
   "source": [
    "## Class example\n",
    "Let's write a simple class that represents a person:"
   ]
  },
  {
   "cell_type": "code",
   "execution_count": null,
   "metadata": {},
   "outputs": [],
   "source": [
    "class Person:\n",
    "    \"This class represents a person. (This is the docstring for the whole class.)\"\n",
    "    def __init__(self,first_name,last_name,year_of_birth):\n",
    "        \"Initialization method of the class Person. (This is the docstring for this method.)\"\n",
    "        self.fname = first_name\n",
    "        self.lname = last_name\n",
    "        self.year_born = year_of_birth\n",
    "\n",
    "p = Person(\"Brett\",\"Milash\",1962) # Creating an instance of class Person by calling the Person() function.\n",
    "print(p.fname)\n",
    "print(type(p))\n",
    "print(p)"
   ]
  },
  {
   "cell_type": "markdown",
   "metadata": {},
   "source": [
    "Note the first argument to the **\\_\\_init\\_\\_()** method: self. Every method will have an argument like this, and that argument refers to the object that is getting initialized or otherwise operated on by the method."
   ]
  },
  {
   "cell_type": "markdown",
   "metadata": {
    "slideshow": {
     "slide_type": "subslide"
    },
    "tags": []
   },
   "source": [
    "## Special class methods\n",
    "Objects have a variety of special methods that are called behind the scenes:\n",
    "* `__init__()`: class constructor, or initializer\n",
    "* `__str__()`: provides string representation of object, used when printing an object\n",
    "* `__lt__()`: required for the < operator, used when comparing objects for sorting\n",
    "* `__add__()`: required for the + operator\n",
    "* `__del__()`: class deconstructor. Called during garbage collection, or at 'del *variable*'\n",
    "* `__enter__()`: Context manager enter function, used by **with** statement\n",
    "* `__exit__()`: Conect manager exit function, used by **with** statement\n",
    "* `__iter__()`: Required for an object to be an **iterator**\n",
    "* `__next__()`: Required for an object to be an **iterator**\n",
    "\n",
    "`__enter__` and `__exit__` are not provided - you need to write these if you intend to use your object in a **with** statement.  \n",
    "`__iter__` and `__next__` are not provided - you must write these if you intend to use your object as an **iterator**.\n",
    "\n",
    "These methods are all detailed here: https://docs.python.org/3.7/reference/datamodel.html#special-method-names\n",
    "\n",
    "Lets improve on our Person class:"
   ]
  },
  {
   "cell_type": "code",
   "execution_count": null,
   "metadata": {
    "scrolled": true,
    "slideshow": {
     "slide_type": "subslide"
    }
   },
   "outputs": [],
   "source": [
    "import time\n",
    "\n",
    "class Person:\n",
    "    \"Here's an improved Person example.\"\n",
    "    def __init__(self,first_name,last_name,year_of_birth):\n",
    "        \"Constructor method of the class Person. (This is the docstring for this method.)\"\n",
    "        self.fname = first_name\n",
    "        self.lname = last_name\n",
    "        self.year_born = year_of_birth\n",
    "\n",
    "    def __str__(self):\n",
    "        \"Returns the string representation of the object\"\n",
    "        return f\"{self.lname}, {self.fname}: born {self.year_born}\"\n",
    "\n",
    "    def __lt__(self,other):\n",
    "        \"Used to compare this Person object with another Person object for sorting.\"\n",
    "        return self.lname < other.lname\n",
    "    \n",
    "    def age(self):\n",
    "        \"Returns person's (approximate) age in years\"\n",
    "        # Calculate the current year.\n",
    "        current_year= time.localtime( time.time() ).tm_year\n",
    "        # Calculate this person's age by subtracting the year they were born from\n",
    "        # the current year. (Not exactly right, but close enough for our purposes.)\n",
    "        return current_year - self.year_born\n",
    "\n",
    "rockstars = [ Person(\"Lou\",\"Reed\",1942), Person(\"Iggy\",\"Pop\",1947), Person(\"David\",\"Bowie\",1947) ]\n",
    "rockstars.sort()\n",
    "for musician in rockstars:\n",
    "    print(f\"{musician}, age {musician.age()} years\")"
   ]
  },
  {
   "cell_type": "markdown",
   "metadata": {
    "slideshow": {
     "slide_type": "subslide"
    }
   },
   "source": [
    "# Inheritance\n",
    "- Inheritance lets you create a new class using an existing class as a foundation.\n",
    "- The new class \"inherits\" data and methods from the existing class.\n",
    "- This new class is a \"child\" class derived from a \"parent\" class.\n",
    "- Parent classes are also called \"base\" classes or \"super\" classes.\n",
    "- You can add or replace methods and data values of the parent class in the child class.\n",
    "- A child class can be derived from one (single inheritance) or several (multiple inheritance) base classes."
   ]
  },
  {
   "cell_type": "markdown",
   "metadata": {
    "slideshow": {
     "slide_type": "subslide"
    }
   },
   "source": [
    "## Inheritance example"
   ]
  },
  {
   "cell_type": "code",
   "execution_count": null,
   "metadata": {
    "scrolled": true
   },
   "outputs": [],
   "source": [
    "class Student(Person):\n",
    "    \"A Student is a Person with a GPA.\"\n",
    "    def __init__(self,first_name,last_name,year_of_birth,grade_point_average):\n",
    "        # Call the parent class constructor.\n",
    "        Person.__init__(self,first_name,last_name,year_of_birth) \n",
    "        # You can also do it like this:\n",
    "        # super().__init__(first_name,last_name,year_of_birth)\n",
    "        self.gpa = grade_point_average\n",
    "\n",
    "    def __str__(self):\n",
    "        return f\"{self.lname}, {self.fname}: born {self.year_born}, GPA {self.gpa}\"\n",
    "\n",
    "s = Student(\"Alice\",\"Pythoncoder\",2001,4.0)\n",
    "print(s)\n",
    "print(f\"{s.fname} is {s.age()} years old.\")"
   ]
  },
  {
   "cell_type": "markdown",
   "metadata": {},
   "source": [
    "Notice that the Student class definition replaces only the base class (Person) methods that need to be modified.  \n",
    "Also notice that Student class objects have an age() method - where does that come from?"
   ]
  },
  {
   "cell_type": "markdown",
   "metadata": {},
   "source": [
    "## Other uses for inheritance\n",
    "Besides creating new classes from our own base classes, inheritance is essential in some other situations:"
   ]
  },
  {
   "cell_type": "markdown",
   "metadata": {
    "jp-MarkdownHeadingCollapsed": true,
    "slideshow": {
     "slide_type": "subslide"
    },
    "tags": []
   },
   "source": [
    "### The python standard library and inheritance\n",
    "The python standard library includes many modules that define base classes from which you derive new classes:\n",
    "* thread (for multithreaded parallel programming)\n",
    "* xml.sax (for parsing XML documents)\n",
    "* html.parser (for parsing HTML documents)\n",
    "* httpserver (for writing your own web server)\n",
    "* unittest (for implementing testing frameworks)"
   ]
  },
  {
   "cell_type": "markdown",
   "metadata": {
    "slideshow": {
     "slide_type": "subslide"
    },
    "tags": []
   },
   "source": [
    "### User-defined exceptions\n",
    "Python defines [lots of exceptions](https://docs.python.org/3/library/exceptions.html), but you can create your own custom exceptions too:"
   ]
  },
  {
   "cell_type": "code",
   "execution_count": null,
   "metadata": {},
   "outputs": [],
   "source": [
    "class MyException(Exception):\n",
    "    pass\n",
    "\n",
    "raise MyException(\"Something bad happened. Here's some information to help you sort it out.\")"
   ]
  },
  {
   "cell_type": "markdown",
   "metadata": {},
   "source": [
    "The \"pass\" statement is used when you want a block of code that does nothing at all. Here, we are creating a new class named \"MyException\" which is derived from the python class \"Exception\"."
   ]
  },
  {
   "cell_type": "markdown",
   "metadata": {
    "slideshow": {
     "slide_type": "subslide"
    },
    "tags": []
   },
   "source": [
    "## Exercise: classes and inheritance\n",
    "1. In the cell below, create a class named Dog that represents dogs. The constructor (\\_\\_init\\_\\_) should take one argument in addition to self: the dog's name. The class should implement one additional method, which is \"speak()\". The speak() method should **return** some dog-appropriate sound, for example \"Arf!\".\n",
    "2. Create a list of several instances of the Dog class, and iterate through the list printing each dog's name and the sound they return when you call the speak() method.\n",
    "3. Derive a Poodle class from the Dog class such that instances of the Poodle class return a more poodle-appropriate sound, e.g. \"Yip!\", when you call the speak() method.\n",
    "4. Add some instances of the Poodle class to your list of dogs, so list contains some Dog instances and some Poodle instances, and then re-run the code that iterates through the list."
   ]
  },
  {
   "cell_type": "code",
   "execution_count": null,
   "metadata": {},
   "outputs": [],
   "source": []
  },
  {
   "cell_type": "markdown",
   "metadata": {},
   "source": [
    "# What haven't we discussed?\n",
    "* Creating iterators and generators - see \"more_on_iterators.ipynb\"\n",
    "* Decorators ( touched on here: https://github.com/bmilash/dataclasses-and-yaml )\n",
    "* Type checking in python ( [good article here](https://realpython.com/python-type-checking) )\n",
    "* IDEs (integrated development environments)\n",
    "* Debugging\n",
    "* Benchmarking\n",
    "* Unit testing\n",
    "* Defining functions using *args and **kwargs\n",
    "* Parallel programming"
   ]
  },
  {
   "cell_type": "markdown",
   "metadata": {
    "slideshow": {
     "slide_type": "slide"
    },
    "tags": []
   },
   "source": [
    "# Programming advice\n",
    "* Don't rely on the operating system's python. Its old, and you don't control it.\n",
    "    * At CHPC load a python module, e.g. \"module load python/3.11.3\".\n",
    "    * [Or install your own](https://www.chpc.utah.edu/documentation/software/python-anaconda.php) with micromamba or miniforge.\n",
    "* Use python 3. Python 2 support ended 1/1/2020. https://python-release-cycle.glitch.me/\n",
    "* When editing, save early and save often.\n",
    "* Back your code up with [git](https://www.chpc.utah.edu/documentation/software/git-scm.php) locally, and ideally into a remote software repository.\n",
    "* Write test code, use [assert()](https://docs.python.org/3.6/reference/simple_stmts.html?highlight=assert#the-assert-statement \"Python Docs\"), and learn to use [coverage.py](https://coverage.readthedocs.io/).\n",
    "* Learn to use a debugger ([pdb](https://docs.python.org/3/library/pdb.html), [PyCharm](https://www.jetbrains.com/pycharm/), [IDLE](https://docs.python.org/3.10/library/idle.html), [Jupyter Lab](https://jupyterlab.readthedocs.io/en/stable/user/debugger.html), [VSCode](https://www.chpc.utah.edu/documentation/software/vscode.php)) - much quicker than print() statements!"
   ]
  },
  {
   "cell_type": "markdown",
   "metadata": {
    "slideshow": {
     "slide_type": "slide"
    },
    "tags": []
   },
   "source": [
    "# Resources:\n",
    "* Python Tutorial: https://docs.python.org/3/tutorial/index.html\n",
    "* Python Standard Library: https://docs.python.org/3/library/index.html\n",
    "* Real Python: https://realpython.com\n",
    "* PyCon: excellent meeting! \n",
    "  - https://us.pycon.org\n",
    "  - Youtube channel: https://www.youtube.com/@PyConUS\n",
    "\n",
    "## Questions?\n",
    "* brett.milash@utah.edu\n",
    "* wim.cardoen@utah.edu\n",
    "* robben.migacz@utah.edu\n",
    "* helpdesk@chpc.utah.edu\n",
    "\n",
    "## Have fun coding, and thank you for coming!"
   ]
  },
  {
   "cell_type": "code",
   "execution_count": null,
   "metadata": {},
   "outputs": [],
   "source": []
  }
 ],
 "metadata": {
  "kernelspec": {
   "display_name": "Python 3 (ipykernel)",
   "language": "python",
   "name": "python3"
  },
  "language_info": {
   "codemirror_mode": {
    "name": "ipython",
    "version": 3
   },
   "file_extension": ".py",
   "mimetype": "text/x-python",
   "name": "python",
   "nbconvert_exporter": "python",
   "pygments_lexer": "ipython3",
   "version": "3.11.9"
  },
  "toc-autonumbering": false,
  "toc-showmarkdowntxt": false,
  "toc-showtags": false
 },
 "nbformat": 4,
 "nbformat_minor": 4
}
