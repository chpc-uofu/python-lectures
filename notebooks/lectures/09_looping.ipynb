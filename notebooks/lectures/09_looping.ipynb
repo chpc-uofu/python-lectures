{
 "cells": [
  {
   "cell_type": "markdown",
   "metadata": {},
   "source": [
    "<img src=\"../../images/loop.svg\" style=\"width: 5em;\" />\n",
    "\n",
    "# Looping\n",
    "Python provides two different types of loop statements: `while` loops and `for` loops."
   ]
  },
  {
   "cell_type": "markdown",
   "metadata": {
    "slideshow": {
     "slide_type": "slide"
    }
   },
   "source": [
    "## `while` loops\n",
    "A `while` loop tests some logical condition and executes the body of the loop while that condition evaluates to `True`:"
   ]
  },
  {
   "cell_type": "code",
   "execution_count": null,
   "metadata": {},
   "outputs": [],
   "source": [
    "# Calculate the first 10 elements of the Fibonacci sequence:\n",
    "fibonacci = [0, 1]\n",
    "while len(fibonacci) < 10:\n",
    "    fibonacci.append(fibonacci[-2] + fibonacci[-1])\n",
    "print(fibonacci)"
   ]
  },
  {
   "cell_type": "markdown",
   "metadata": {
    "slideshow": {
     "slide_type": "slide"
    }
   },
   "source": [
    "## `for` loops\n",
    "`for` loops let you process each item in a sequence of items, like each item in a list:"
   ]
  },
  {
   "cell_type": "code",
   "execution_count": null,
   "metadata": {
    "scrolled": true
   },
   "outputs": [],
   "source": [
    "for letter in ['a', 'e', 'i', 'o', 'u']:\n",
    "    print(letter)"
   ]
  },
  {
   "cell_type": "markdown",
   "metadata": {},
   "source": [
    "There are many other functions and statements that are useful in the context of loops."
   ]
  },
  {
   "cell_type": "markdown",
   "metadata": {
    "slideshow": {
     "slide_type": "slide"
    }
   },
   "source": [
    "## The `range()` function\n",
    "`range(start, stop, [stepsize=1])` returns a list-like object containing integers from `start` to `stop - 1`. This is useful for all kinds of list processing and `for`-loop control:"
   ]
  },
  {
   "cell_type": "code",
   "execution_count": null,
   "metadata": {},
   "outputs": [],
   "source": [
    "element_names = [\n",
    "    'hydrogen',\n",
    "    'helium',\n",
    "    'lithium',\n",
    "    'berylium',\n",
    "    'boron',\n",
    "    'carbon',\n",
    "    'nitrogen',\n",
    "    'oxygen',\n",
    "    'fluorine'\n",
    "]\n",
    "for i in range(0, len(element_names)):\n",
    "    print(f\"Item {i} in the list is {element_names[i]}.\")"
   ]
  },
  {
   "cell_type": "code",
   "execution_count": null,
   "metadata": {
    "scrolled": true
   },
   "outputs": [],
   "source": [
    "# The stepsize defaults to 1 and the start value defaults to 0:\n",
    "print(list(range(3)))"
   ]
  },
  {
   "cell_type": "markdown",
   "metadata": {
    "slideshow": {
     "slide_type": "slide"
    }
   },
   "source": [
    "<div style=\"padding: 1.5em; margin-top: 1em; border-radius: 0.5em; box-shadow: 0 0 0.5em #ced4da;\">\n",
    "\n",
    "<img src=\"../../images/exercise.svg\" style=\"height: 2.5em; margin-bottom: -1em;\" />\n",
    "\n",
    "## Exercise: *Factorial* function\n",
    "Create a function named `factorial()` that takes one argument, `n`, and returns $n!$ (or $1 \\times 2 \\times 3 \\times \\ldots \\times (n-2) \\times (n-1) \\times n$). This is easy to implement with a `for` loop.\n",
    "\n",
    "For this exercise, you can assume that the argument is a positive integer. Write the `factorial()` function and try calling it with a few different positive integer values.\n",
    "\n",
    "(You could also get fancy and write a recursive function, a function that calls itself. If you do this, **make sure** your code tests when to end the recursion!)\n",
    "\n",
    "</div>"
   ]
  },
  {
   "cell_type": "code",
   "execution_count": null,
   "metadata": {},
   "outputs": [],
   "source": []
  },
  {
   "cell_type": "markdown",
   "metadata": {
    "slideshow": {
     "slide_type": "slide"
    },
    "tags": []
   },
   "source": [
    "## Looping flow control: the `continue` statement\n",
    "Sometimes you want to skip the rest of the body of a loop, and `continue` with the next iteration:"
   ]
  },
  {
   "cell_type": "code",
   "execution_count": null,
   "metadata": {},
   "outputs": [],
   "source": [
    "consonants = []\n",
    "vowels = ['a', 'e', 'i', 'o', 'u']\n",
    "\n",
    "for letter in \"abcdefghijklmnopqrstuvwxyz\":\n",
    "    if letter in vowels:\n",
    "        continue  # Go back to the top of the loop and look at the next item;\n",
    "                  # don't go any further in the body of the loop for this particular iteration\n",
    "\n",
    "    # This line won't be run if the letter is a vowel, since we \"continue\" above for all vowels\n",
    "    consonants.append(letter)\n",
    "\n",
    "print(len(consonants))"
   ]
  },
  {
   "cell_type": "markdown",
   "metadata": {
    "slideshow": {
     "slide_type": "subslide"
    },
    "tags": []
   },
   "source": [
    "## Looping flow control: the `break` statement\n",
    "Sometimes you need to `break` out of a loop completely, before you've reached the last iteration:"
   ]
  },
  {
   "cell_type": "code",
   "execution_count": null,
   "metadata": {},
   "outputs": [],
   "source": [
    "i = 100\n",
    "\n",
    "while i > 0:\n",
    "    print(i)\n",
    "    if i % 7 == 0:\n",
    "        break\n",
    "\n",
    "    i -= 1  # Decrement operator, equivalent to i = i - 1\n",
    "\n",
    "print(f\"The biggest multiple of 7 less than 100 is {i}.\")"
   ]
  },
  {
   "cell_type": "markdown",
   "metadata": {
    "slideshow": {
     "slide_type": "slide"
    }
   },
   "source": [
    "## List comprehension\n",
    "`for` loops are handy for populating lists. Let's say we want a list of integers from 0 to 9 squared. You could write this as"
   ]
  },
  {
   "cell_type": "code",
   "execution_count": null,
   "metadata": {},
   "outputs": [],
   "source": [
    "squared_integers = []\n",
    "for i in range(0, 10):\n",
    "    squared_integers.append(i**2)\n",
    "print(squared_integers)"
   ]
  },
  {
   "cell_type": "markdown",
   "metadata": {},
   "source": [
    "However, it is also possible to write this loop in one line:"
   ]
  },
  {
   "cell_type": "code",
   "execution_count": null,
   "metadata": {},
   "outputs": [],
   "source": [
    "squared_integers = [i**2 for i in range(0, 10)]\n",
    "print(squared_integers)"
   ]
  },
  {
   "cell_type": "markdown",
   "metadata": {},
   "source": [
    "This is \"list comprehension,\" first introduced in Python version 2.0.\n",
    "For more details, see the [Python tutorial](https://docs.python.org/3/tutorial/datastructures.html#list-comprehensions \"Python Tutorial\"). List comprehension can also include simple `if` statements:"
   ]
  },
  {
   "cell_type": "code",
   "execution_count": null,
   "metadata": {},
   "outputs": [],
   "source": [
    "values = [-100, -50, 50, 100]\n",
    "\n",
    "negative_values = [\n",
    "    value\n",
    "    for value in values\n",
    "    if value < 0\n",
    "]\n",
    "\n",
    "descriptive_strings = [\n",
    "    \"negative\" if value < 0\n",
    "    else \"positive\"\n",
    "    for value in values\n",
    "]\n",
    "\n",
    "print(negative_values)\n",
    "print(descriptive_strings)"
   ]
  },
  {
   "cell_type": "markdown",
   "metadata": {
    "slideshow": {
     "slide_type": "slide"
    },
    "tags": []
   },
   "source": [
    "## Iterators\n",
    "For loops can iterate across a variety of objects, such as strings, lists, `range()` objects, or open files. These objects are all iterators. More on iterators [here](https://docs.python.org/3/tutorial/classes.html#iterators \"Python Tutorial\")."
   ]
  },
  {
   "cell_type": "code",
   "execution_count": null,
   "metadata": {
    "scrolled": true
   },
   "outputs": [],
   "source": [
    "for letter in \"ABC\":\n",
    "    print(letter)\n",
    "\n",
    "for vowel in ['a', 'e', 'i', 'o', 'u']:\n",
    "    print(vowel)\n",
    "\n",
    "for number in range(0, 5):\n",
    "    print(number)\n",
    "\n",
    "with open(\"../static/popular_dog_names.txt\", \"r\") as dog_file:\n",
    "    for line in dog_file:\n",
    "        if line.startswith('M'):\n",
    "            print(line.strip())"
   ]
  },
  {
   "cell_type": "markdown",
   "metadata": {
    "slideshow": {
     "slide_type": "slide"
    }
   },
   "source": [
    "<div style=\"padding: 1.5em; margin-top: 1em; border-radius: 0.5em; box-shadow: 0 0 0.5em #ced4da;\">\n",
    "\n",
    "<img src=\"../../images/exercise.svg\" style=\"height: 2.5em; margin-bottom: -1em;\" />\n",
    "\n",
    "## Exercise: Dog name finder\n",
    "The file \"popular_dog_names.txt\" lists the 10 most popular names for female and male dogs in 2016 (according to the [American Kennel Club](https://www.akc.org/expert-advice/news/popular-dog-names-2016/)). Write a function that accepts a proposed dog name and checks the popular_dog_names.txt file to see whether that name is popular. If it is, print that the proposed name is popular, its rank, and for what gender of dog. If the proposed name is not found, print that the name wasn't found.\n",
    "\n",
    "</div>"
   ]
  },
  {
   "cell_type": "code",
   "execution_count": null,
   "metadata": {},
   "outputs": [],
   "source": []
  },
  {
   "cell_type": "markdown",
   "metadata": {},
   "source": [
    "<a style=\"background-color: #e2e6e6; color: black !important; text-decoration: none; padding: 1em 2em; margin-top: 2em; margin-right: 0.5em; border-radius: 0.5em; display: inline-block; font-weight: bold;\" href=\"./08_file_input_and_output.ipynb\">Previous notebook</a>\n",
    "<a style=\"background-color: #be0000; color: white !important; text-decoration: none; padding: 1em 2em; margin-top: 2em; border-radius: 0.5em; display: inline-block; font-weight: bold;\" href=\"./10_modules.ipynb\">Next notebook</a>"
   ]
  }
 ],
 "metadata": {
  "kernelspec": {
   "display_name": "Python 3 (ipykernel)",
   "language": "python",
   "name": "python3"
  },
  "language_info": {
   "codemirror_mode": {
    "name": "ipython",
    "version": 3
   },
   "file_extension": ".py",
   "mimetype": "text/x-python",
   "name": "python",
   "nbconvert_exporter": "python",
   "pygments_lexer": "ipython3",
   "version": "3.13.2"
  },
  "toc-autonumbering": false,
  "toc-showmarkdowntxt": false,
  "toc-showtags": false
 },
 "nbformat": 4,
 "nbformat_minor": 4
}
