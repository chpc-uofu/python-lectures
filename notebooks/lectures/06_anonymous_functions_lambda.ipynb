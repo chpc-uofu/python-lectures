{
 "cells": [
  {
   "cell_type": "markdown",
   "metadata": {
    "slideshow": {
     "slide_type": "slide"
    }
   },
   "source": [
    "<img src=\"../../images/lambda.svg\" style=\"width: 10em;\" />\n",
    "\n",
    "# Anonymous functions (lambda expressions)\n",
    "Functions are objects, like everything else in Python. Most functions are associated with an identifier, like `hello_world()`. There are situations where we want to pass a function as an argument to another function, and one way to do that is with the function's name. Here is an example using the `map()` function, which applies a function to each element of a list:"
   ]
  },
  {
   "cell_type": "code",
   "execution_count": null,
   "metadata": {
    "scrolled": true
   },
   "outputs": [],
   "source": [
    "def divide_by_ten(x):\n",
    "    \"This function takes a number as an argument and returns that number divided by 10\"\n",
    "    return x / 10.0\n",
    "\n",
    "\n",
    "# Here is a list of numbers we want to divide by 10:\n",
    "numbers = [0, 1, 2, 3, 4, 5, 6, 7, 8, 9]\n",
    "\n",
    "# Now we use the map() statement to apply the divide_by_ten() function to each element in the list:\n",
    "tenths = list(map(divide_by_ten, numbers))\n",
    "\n",
    "# Print out the original numbers, and those numbers divided by 10:\n",
    "print(numbers)\n",
    "print(tenths)"
   ]
  },
  {
   "cell_type": "markdown",
   "metadata": {},
   "source": [
    "But defining a new function for something so trivial, that may only be used once, is unnecessary. Instead, we can use a \"lambda expression\" to create an anonymous function right where we need it:"
   ]
  },
  {
   "cell_type": "code",
   "execution_count": null,
   "metadata": {
    "scrolled": true
   },
   "outputs": [],
   "source": [
    "numbers = [0, 1, 2, 3, 4, 5, 6, 7, 8, 9]\n",
    "\n",
    "# As above, use map() on the list of numbers\n",
    "# Note the extra whitespace here, which is added for clarity\n",
    "# This is possible, even though Python is whitespace-dependent, because Python will look for a ) to close (\n",
    "tenths = list(\n",
    "    map(\n",
    "        lambda x: x / 10.0,  # An unnamed function of x\n",
    "        numbers\n",
    "    )\n",
    ")\n",
    "\n",
    "print(numbers)\n",
    "print(tenths)"
   ]
  },
  {
   "cell_type": "markdown",
   "metadata": {
    "slideshow": {
     "slide_type": "subslide"
    }
   },
   "source": [
    "## Assigning a lambda expression to an identifier"
   ]
  },
  {
   "cell_type": "code",
   "execution_count": null,
   "metadata": {},
   "outputs": [],
   "source": [
    "divide_by_ten = lambda x: x / 10.0\n",
    "divide_by_ten(3)"
   ]
  },
  {
   "cell_type": "markdown",
   "metadata": {},
   "source": [
    "<div style=\"margin-top: 1em; border-radius: 0.5em; box-shadow: 0 0 0.5em #ced4da; display: flex; flex-wrap: nowrap; overflow: hidden;\">\n",
    "  <div style=\"background-color: #be0000; width: 10%; flex-shrink: 0; display: flex; justify-content: center; align-items: center;\"><img src=\"../../images/tutorial.svg\" style=\"width: 100%; height: auto; max-height: 100%; object-fit: contain; display: block;\"></div>\n",
    "  <div style=\"padding: 1.5em;\">\n",
    "    <p style=\"font-weight: bold; margin: 0; font-size: 1.2em; color: #be0000;\">Tutorial</p>\n",
    "    <p style=\"margin: 0;\">More information about lambda expressions is available in the Python tutorial.</p>\n",
    "    <a style=\"background-color: #be0000; color: white !important; text-decoration: none; padding: 0.5em 1em; margin-top: 1em; margin-bottom: 0; border-radius: 0.25em; display: inline-block; font-weight: bold;\" href=\"https://docs.python.org/3/tutorial/controlflow.html#lambda-expressions\">Read more about lambda expressions&nbsp;&rarr;</a>\n",
    "  </div>\n",
    "</div>"
   ]
  },
  {
   "cell_type": "markdown",
   "metadata": {},
   "source": [
    "<a style=\"background-color: #e2e6e6; color: black !important; text-decoration: none; padding: 1em 2em; margin-top: 2em; margin-right: 0.5em; border-radius: 0.5em; display: inline-block; font-weight: bold;\" href=\"./05_functions.ipynb\">&larr;&nbsp;Previous notebook</a>\n",
    "<a style=\"background-color: #be0000; color: white !important; text-decoration: none; padding: 1em 2em; margin-top: 2em; border-radius: 0.5em; display: inline-block; font-weight: bold;\" href=\"./07_flow_control.ipynb\">Next notebook&nbsp;&rarr;</a>"
   ]
  }
 ],
 "metadata": {
  "kernelspec": {
   "display_name": "Python 3 (ipykernel)",
   "language": "python",
   "name": "python3"
  },
  "language_info": {
   "codemirror_mode": {
    "name": "ipython",
    "version": 3
   },
   "file_extension": ".py",
   "mimetype": "text/x-python",
   "name": "python",
   "nbconvert_exporter": "python",
   "pygments_lexer": "ipython3",
   "version": "3.12.9"
  },
  "toc-autonumbering": false,
  "toc-showmarkdowntxt": false,
  "toc-showtags": false
 },
 "nbformat": 4,
 "nbformat_minor": 4
}
