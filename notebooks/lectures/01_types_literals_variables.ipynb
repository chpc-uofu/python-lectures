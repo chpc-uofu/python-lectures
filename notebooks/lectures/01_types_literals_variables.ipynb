{
 "cells": [
  {
   "cell_type": "markdown",
   "metadata": {
    "slideshow": {
     "slide_type": "slide"
    }
   },
   "source": [
    "<img src=\"../../images/variables.svg\" style=\"width: 5em;\" />\n",
    "\n",
    "# Types, literals, and variables\n",
    "We will look more closely at different types as we proceed through the course. You don't need to try to memorize all of this information right now!\n",
    "\n",
    "There are different types of information in Python:\n",
    "\n",
    "* Simple values\n",
    "  * **Numbers** (integers like `1`, real numbers like `1.0`, complex numbers like `1+2.5j`)\n",
    "  * **Character strings** like `\"Hello, world!\"`\n",
    "  * **Boolean values** `True` and `False`\n",
    "  * `None` (the empty/unknown value)\n",
    "* Compound values\n",
    "  * **Lists** like `[1, 2.0, \"three\"]`\n",
    "    * Lists are *ordered*; the order of the elements in a list will be the same every time you iterate over it, and you can choose to add elements to the beginning, middle, or end of a list\n",
    "  * **Dictionaries** like `{\"cat\": \"Felis catus\", \"dog\": \"Canis lupus familiaris\"}`\n",
    "  * **Sets** like `{1, 2.0, \"three\"}`\n",
    "    * Like a list, but *without repeats* and *unordered* (for pedants: sets *are* ordered, but not in a way that is particularly useful to humans)\n",
    "  * **Tuples** like `(1, 2.0, \"three\")`\n",
    "    * Like a list, but *immutable* (tuples can't be changed after they are created)\n",
    "  * Complex or custom objects that we design"
   ]
  },
  {
   "cell_type": "markdown",
   "metadata": {
    "slideshow": {
     "slide_type": "slide"
    }
   },
   "source": [
    "## Let's create some variables!"
   ]
  },
  {
   "cell_type": "code",
   "execution_count": null,
   "metadata": {
    "scrolled": true
   },
   "outputs": [],
   "source": [
    "# Let's define some variables using the assignment operator \"=\", then print their values and types.\n",
    "x = 1\n",
    "y = \"Here is a character string\"\n",
    "\n",
    "# What are the values assigned to x and y, what are the types of data assigned to x and y?\n",
    "print(\"The value of x is\", x, \"and its type is\", type(x))\n",
    "print(\"The value of y is\", y, \"and its type is\", type(y))\n",
    "\n",
    "# Assign the value of True or False to a variable. What data type is assigned to the variable?\n",
    "z = True\n",
    "print(\"The type of z is\", type(z))"
   ]
  },
  {
   "cell_type": "code",
   "execution_count": null,
   "metadata": {
    "scrolled": true
   },
   "outputs": [],
   "source": [
    "# Now assign the value \"Hello, world!\" to x. What is the type of x now?\n",
    "x = \"Hello, world!\"\n",
    "print(\"The type of data assigned to x is\", type(x))"
   ]
  },
  {
   "cell_type": "markdown",
   "metadata": {},
   "source": [
    "Notice how the type of value assigned to `x` has changed. Python is a **dynamically typed** language."
   ]
  },
  {
   "cell_type": "markdown",
   "metadata": {
    "slideshow": {
     "slide_type": "slide"
    }
   },
   "source": [
    "<div style=\"padding: 1.5em; margin-top: 1em; border-radius: 0.5em; box-shadow: 0 0 0.5em #ced4da;\">\n",
    "\n",
    "<img src=\"../../images/exercise.svg\" style=\"height: 2.5em; margin-bottom: -1em;\" />\n",
    "\n",
    "## Exercise: Now it's your turn!\n",
    "In the cell below, create the variables `major` and `graduation_year`, then assign your major to `major` and your graduation year (or expected graduation year) to `graduation_year`. Then, print them using the `print()` function to produce the output `My major is … and I graduated (or expect to graduate) in …`.\n",
    "\n",
    "</div>"
   ]
  },
  {
   "cell_type": "code",
   "execution_count": null,
   "metadata": {},
   "outputs": [],
   "source": []
  },
  {
   "cell_type": "markdown",
   "metadata": {},
   "source": [
    "<a style=\"background-color: #e2e6e6; color: black !important; text-decoration: none; padding: 1em 2em; margin-top: 2em; margin-right: 0.5em; border-radius: 0.5em; display: inline-block; font-weight: bold;\" href=\"./00_introduction.ipynb\">Previous notebook</a>\n",
    "<a style=\"background-color: #be0000; color: white !important; text-decoration: none; padding: 1em 2em; margin-top: 2em; border-radius: 0.5em; display: inline-block; font-weight: bold;\" href=\"./02_operators.ipynb\">Next notebook</a>"
   ]
  }
 ],
 "metadata": {
  "kernelspec": {
   "display_name": "Python 3 (ipykernel)",
   "language": "python",
   "name": "python3"
  },
  "language_info": {
   "codemirror_mode": {
    "name": "ipython",
    "version": 3
   },
   "file_extension": ".py",
   "mimetype": "text/x-python",
   "name": "python",
   "nbconvert_exporter": "python",
   "pygments_lexer": "ipython3",
   "version": "3.9.6"
  },
  "toc-autonumbering": false,
  "toc-showmarkdowntxt": false,
  "toc-showtags": false
 },
 "nbformat": 4,
 "nbformat_minor": 4
}
