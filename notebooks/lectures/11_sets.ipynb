{
 "cells": [
  {
   "cell_type": "markdown",
   "metadata": {
    "slideshow": {
     "slide_type": "slide"
    },
    "tags": []
   },
   "source": [
    "<img src=\"../../images/sets.svg\" style=\"width: 5em;\" />\n",
    "\n",
    "# Sets\n",
    "* A set is a collection of *unique* objects\n",
    "* You can create sets with the `set()` command or with the `{` and `}` (**curly brace**) symbols\n",
    "* You can also do set comprehensions\n",
    "* Sets have all the methods and operators you'd expect: union, intersect, difference, etc.\n",
    "* More on sets [here](https://docs.python.org/3/tutorial/datastructures.html#sets)"
   ]
  },
  {
   "cell_type": "code",
   "execution_count": null,
   "metadata": {},
   "outputs": [],
   "source": [
    "vowels = set(['a', 'e', 'i', 'o', 'u'])\n",
    "\n",
    "import random, string\n",
    "\n",
    "# What does this next line do?\n",
    "random_letters = {\n",
    "    random.choice(string.ascii_lowercase)\n",
    "    for i in range(20)\n",
    "}\n",
    "\n",
    "print(f\"The random_letters set contains {len(random_letters)} unique letters.\")\n",
    "print(f\"random_letters contains these vowels: {random_letters.intersection(vowels)}.\")\n",
    "print(f\"random_letters contains these consonants: {random_letters.difference(vowels)}.\")"
   ]
  },
  {
   "cell_type": "markdown",
   "metadata": {
    "slideshow": {
     "slide_type": "slide"
    },
    "tags": []
   },
   "source": [
    "<div style=\"padding: 1.5em; margin-top: 1em; border-radius: 0.5em; box-shadow: 0 0 0.5em #ced4da;\">\n",
    "\n",
    "<img src=\"../../images/exercise.svg\" style=\"height: 2.5em; margin-bottom: -1em;\" />\n",
    "\n",
    "## Exercise: Password generator\n",
    "Write a function named `random_password()` that uses the string and random modules, and returns a string of 10 random letters, numbers, and symbols. If you want to get fancy, you could give your function an optional password length argument.\n",
    "\n",
    "\n",
    "*Please note that this is intended only as an exercise. If you want to create cryptographically secure passwords in Python, you will want to use the [secrets module](https://docs.python.org/3/library/secrets.html). It is a better idea to use an existing, well tested password manager.*\n",
    "\n",
    "</div>"
   ]
  },
  {
   "cell_type": "code",
   "execution_count": null,
   "metadata": {},
   "outputs": [],
   "source": []
  },
  {
   "cell_type": "markdown",
   "metadata": {},
   "source": [
    "**Extra credit!** Make a copy of your original `random_password()` function, and rewrite it to make it as compact as you can. Check its performance against the original version using the `%timeit` feature ([described on this page](https://ipython.readthedocs.io/en/stable/interactive/magics.html#line-magics)) of Jupyter Notebook. Does your compact code run any faster?"
   ]
  },
  {
   "cell_type": "markdown",
   "metadata": {},
   "source": [
    "<a style=\"background-color: #e2e6e6; color: black !important; text-decoration: none; padding: 1em 2em; margin-top: 2em; margin-right: 0.5em; border-radius: 0.5em; display: inline-block; font-weight: bold;\" href=\"./10_modules.ipynb\">Previous notebook</a>\n",
    "<a style=\"background-color: #be0000; color: white !important; text-decoration: none; padding: 1em 2em; margin-top: 2em; border-radius: 0.5em; display: inline-block; font-weight: bold;\" href=\"./12_tuples.ipynb\">Next notebook</a>"
   ]
  }
 ],
 "metadata": {
  "kernelspec": {
   "display_name": "Python 3 (ipykernel)",
   "language": "python",
   "name": "python3"
  },
  "language_info": {
   "codemirror_mode": {
    "name": "ipython",
    "version": 3
   },
   "file_extension": ".py",
   "mimetype": "text/x-python",
   "name": "python",
   "nbconvert_exporter": "python",
   "pygments_lexer": "ipython3",
   "version": "3.13.2"
  },
  "toc-autonumbering": false,
  "toc-showmarkdowntxt": false,
  "toc-showtags": false
 },
 "nbformat": 4,
 "nbformat_minor": 4
}
