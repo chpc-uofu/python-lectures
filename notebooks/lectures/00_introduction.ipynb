{
 "cells": [
  {
   "cell_type": "markdown",
   "metadata": {
    "editable": true,
    "slideshow": {
     "slide_type": "slide"
    },
    "tags": []
   },
   "source": [
    "<h1 style=\"color: #be0000; font-weight: bold; font-size: 4em;\">Hands-on Introduction to Python</h1>\n",
    "\n",
    "Welcome to the Hands-on Introduction to Python course from the Center for High Performance Computing at the University of Utah. This is an introduction to the Python language for beginners, written by Brett Milash, Wim Cardoen, and Robben Migacz.\n",
    "\n",
    "Solutions to exercises in this notebook are available in [hands_on_solutions.ipynb](../solutions/hands_on_solutions.ipynb). We recommend attempting exercises yourself before looking at solutions; you will learn best by practicing."
   ]
  },
  {
   "cell_type": "code",
   "execution_count": null,
   "metadata": {
    "editable": true,
    "scrolled": true,
    "slideshow": {
     "slide_type": ""
    },
    "tags": []
   },
   "outputs": [],
   "source": [
    "def hands_on_intro_to_python():\n",
    "    \"\"\"\n",
    "    This is a hands-on introduction to the Python language from the Center for\n",
    "    High Performance Computing. You can run this code cell by typing Shift+Return.\n",
    "    \"\"\"\n",
    "    import sys\n",
    "    print(\"We will use Python version\", sys.version)\n",
    "    \n",
    "hands_on_intro_to_python()"
   ]
  },
  {
   "cell_type": "code",
   "execution_count": null,
   "metadata": {},
   "outputs": [],
   "source": [
    "help(hands_on_intro_to_python)"
   ]
  },
  {
   "cell_type": "markdown",
   "metadata": {
    "editable": true,
    "slideshow": {
     "slide_type": ""
    },
    "tags": []
   },
   "source": [
    "<div style=\"padding: 1em; border-radius: 0.5em; border: 0.1em solid #be0000; border-left: 1em solid #be0000;\">\n",
    "\n",
    "## Basics of Jupyter Notebooks\n",
    "\n",
    "**We are running Python scripts in a Jupyter Notebook. This is not a built-in feature of the Python language, but it is a common way to use Python. There are a few additional concepts we need to learn to use Jupyter Notebooks effectively.**\n",
    "\n",
    "Jupyter Notebooks (.ipynb files) have a series of cells, one of which is active, and that cell has a blue bar on the left. Notebooks have a modal user interface; depending on the mode, the keyboard operates in two different ways:\n",
    "\n",
    "1. In **command mode**, you manipulate cells using menus, toolbars, or keyboard shortcuts\n",
    "    * arrow keys (or <kbd>j</kbd>, <kbd>k</kbd>) to move up and down\n",
    "    * <kbd>s</kbd> saves the notebook\n",
    "    * <kbd>a</kbd> creates a cell above, <kbd>b</kbd> below\n",
    "    * <kbd>c</kbd> copies a cell, <kbd>x</kbd> cuts it, <kbd>v</kbd> pastes it\n",
    "    * <kbd>dd</kbd> deletes a cell\n",
    "    * <kbd>z</kbd> undeletes it\n",
    "    * change cell type to Markdown (<kbd>m</kbd>), code (<kbd>c</kbd>), or raw (<kbd>r</kbd>)\n",
    "2. In **edit mode**, you change cell contents; double-click to enter edit mode and press <kbd>Esc</kbd> or <kbd>Shift</kbd>+<kbd>Return</kbd> to exit\n",
    "    * in code cells, the cell acts as a Python syntax-aware editor\n",
    "    * in Markdown cells, the cell is a Markdown-aware editor\n",
    "\n",
    "</div>"
   ]
  },
  {
   "cell_type": "markdown",
   "metadata": {
    "editable": true,
    "jp-MarkdownHeadingCollapsed": true,
    "slideshow": {
     "slide_type": "slide"
    },
    "tags": []
   },
   "source": [
    "## Characteristics of the Python language\n",
    "* **Interpreted**\n",
    "* **Object-oriented**\n",
    "  * Data and functions (called \"methods\") are packaged together into objects\n",
    "  * An object's methods are used to manipulate that object's data\n",
    "  * Objects are organized into \"classes,\" which define the objects' methods and data\n",
    "  * \"Inheritance\" makes it easy to create new classes from existing ones\n",
    "  * Great way to organize your code (and your thinking!)\n",
    "* **Modular**\n",
    "  * A lot of Python's functionality is found in *modules*\n",
    "    * We need to `import` those modules to use them\n",
    "  * Python comes installed with many modules; many, many more can be installed later\n",
    "* **Leading white space (indentation) is significant**\n",
    "  * Level of indentation defines \"blocks\" of code\n",
    "  * Either tabs *or* spaces; choose one *or* the other!\n",
    "  * Some editors take care of this for you"
   ]
  },
  {
   "cell_type": "markdown",
   "metadata": {
    "slideshow": {
     "slide_type": "slide"
    }
   },
   "source": [
    "## Running Python code\n",
    "* **Interactively** (typing Python statements at the interpreter)\n",
    "* In a **script**\n",
    "    * Run the interpreter with your script as an argument: `python scriptname.py` from the command line\n",
    "    * As an executable script\n",
    "        * Add `#!/usr/bin/env python` at the top of the script\n",
    "        * Make sure the script is executable: `chmod +x scriptname.py`\n",
    "        * Run the script from the command line: `./scriptname.py`\n",
    "* In a cell in a **Jupyter Notebook** (when you type <kbd>Shift</kbd>+<kbd>Return</kbd> or <kbd>Shift</kbd>+<kbd>Enter</kbd>)"
   ]
  },
  {
   "cell_type": "code",
   "execution_count": null,
   "metadata": {},
   "outputs": [],
   "source": [
    "# This is a comment; it doesn't get executed by Python!\n",
    "import math\n",
    "\n",
    "radius = 1.0\n",
    "area = math.pi * radius * radius\n",
    "print(\"The area of a circle with radius\", radius, \"unit is\", area, \"square units\")"
   ]
  },
  {
   "cell_type": "markdown",
   "metadata": {
    "editable": true,
    "slideshow": {
     "slide_type": "slide"
    },
    "tags": []
   },
   "source": [
    "## Big concepts in Python\n",
    "* **Variables** are names for data, which can be\n",
    "  * a simple object like a number or a character string\n",
    "  * a complex object like a list of values or a dictionary of values\n",
    "* **Statements** (and **operators**), which are like are the verbs of the language and act on data\n",
    "* **Functions**, which are reusable blocks of code\n",
    "* **Classes**, which define all the different types of objects, including data and *methods* (more on this later)\n",
    "* **Modules**, which are entire files of Python code, containing variables, functions, and classes"
   ]
  },
  {
   "cell_type": "markdown",
   "metadata": {},
   "source": [
    "<a style=\"background-color: #be0000; color: white !important; text-decoration: none; padding: 1em 2em; margin-top: 2em; border-radius: 0.5em; display: inline-block; font-weight: bold;\" href=\"./01_types_literals_variables.ipynb\">Next notebook</a>"
   ]
  }
 ],
 "metadata": {
  "kernelspec": {
   "display_name": "Python 3 (ipykernel)",
   "language": "python",
   "name": "python3"
  },
  "language_info": {
   "codemirror_mode": {
    "name": "ipython",
    "version": 3
   },
   "file_extension": ".py",
   "mimetype": "text/x-python",
   "name": "python",
   "nbconvert_exporter": "python",
   "pygments_lexer": "ipython3",
   "version": "3.9.6"
  },
  "toc-autonumbering": false,
  "toc-showmarkdowntxt": false,
  "toc-showtags": false
 },
 "nbformat": 4,
 "nbformat_minor": 4
}
