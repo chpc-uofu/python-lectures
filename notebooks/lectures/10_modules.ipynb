{
 "cells": [
  {
   "cell_type": "markdown",
   "metadata": {
    "slideshow": {
     "slide_type": "slide"
    },
    "tags": []
   },
   "source": [
    "<img src=\"../../images/module.svg\" style=\"width: 10em;\" />\n",
    "\n",
    "# Modules\n",
    "* Modules are files of Python code (functions, classes, etc.) with names that end in \".py\"\n",
    "* Modules are a great mechanism for code re-use\n",
    "* To use a module, you must `import` it:"
   ]
  },
  {
   "cell_type": "code",
   "execution_count": null,
   "metadata": {},
   "outputs": [],
   "source": [
    "# Assume we want to use the cos function from the math module (within Python Standard Library)\n",
    "import math\n",
    "print(f\"The cosine of pi is: {math.cos(math.pi)}\")\n",
    "\n",
    "# Renaming the module name\n",
    "import math as m\n",
    "print(f\"Euler's constant e has the following value: {m.e}\")\n",
    "\n",
    "# We can also proceed as follows (rather dangerous)\n",
    "from math import sin, pi\n",
    "print(f\"The sine of pi/4 is: {sin(pi / 4)}\")\n",
    "\n",
    "# And almost never do this:\n",
    "from math import *"
   ]
  },
  {
   "cell_type": "markdown",
   "metadata": {
    "slideshow": {
     "slide_type": "subslide"
    }
   },
   "source": [
    "## Where does Python find the modules my code imports?\n",
    "* `sys.path`, a list of directories that are searched for modules\n",
    "* This path is defined when Python installed, and is augmented by the `PYTHONPATH` environment variable"
   ]
  },
  {
   "cell_type": "code",
   "execution_count": null,
   "metadata": {
    "scrolled": true
   },
   "outputs": [],
   "source": [
    "import sys\n",
    "\n",
    "for directory in sys.path:\n",
    "    print(directory)"
   ]
  },
  {
   "cell_type": "markdown",
   "metadata": {
    "slideshow": {
     "slide_type": "subslide"
    },
    "tags": []
   },
   "source": [
    "## The Python Standard Library\n",
    "* Extensive collection of modules that is installed with Python\n",
    "* Most commonly used:\n",
    "    * `sys`, especially `sys.argv` (the list of command-line arguments)\n",
    "    * `os`, especially `os.path` (tools for manipulating file names)\n",
    "    * `time` (tools for getting and formatting the system time)\n",
    "    * `math`\n",
    "    * `string`\n",
    "    * `random`\n",
    "* Documented here: https://docs.python.org/3/library/index.html"
   ]
  },
  {
   "cell_type": "markdown",
   "metadata": {},
   "source": [
    "If that isn't overwhelming enough, take a look at the [Python Package Index](https://pypi.org/)."
   ]
  },
  {
   "cell_type": "markdown",
   "metadata": {
    "slideshow": {
     "slide_type": "subslide"
    }
   },
   "source": [
    "## What modules are available on my system?\n",
    "```python\n",
    "help(\"modules\")\n",
    "```"
   ]
  },
  {
   "cell_type": "markdown",
   "metadata": {
    "slideshow": {
     "slide_type": "slide"
    }
   },
   "source": [
    "## Module or script?\n",
    "* Is a .py file a module that I import or a script that I run? *It can be both!*\n",
    "* Common practice: include test code in your modules, such that\n",
    "  * if the file is executed as a script, the test code will run\n",
    "  * if the file is imported, the test code will not run\n",
    "* Has file been executed as script or imported as a module? *The `__name__` variable will tell you.*"
   ]
  },
  {
   "cell_type": "markdown",
   "metadata": {},
   "source": [
    "```python\n",
    "# Example module code\n",
    "\n",
    "# Imports go here\n",
    "\n",
    "# Function definitions\n",
    "# Maybe some class or variable definitions\n",
    "\n",
    "if __name__ == \"__main__\":\n",
    "    # This .py file is getting executed as a script, not imported as a module\n",
    "    execute_test_code_here()\n",
    "```"
   ]
  },
  {
   "cell_type": "markdown",
   "metadata": {},
   "source": [
    "<a style=\"background-color: #e2e6e6; color: black !important; text-decoration: none; padding: 1em 2em; margin-top: 2em; margin-right: 0.5em; border-radius: 0.5em; display: inline-block; font-weight: bold;\" href=\"./09_looping.ipynb\">&larr;&nbsp;Previous notebook</a>\n",
    "<a style=\"background-color: #be0000; color: white !important; text-decoration: none; padding: 1em 2em; margin-top: 2em; border-radius: 0.5em; display: inline-block; font-weight: bold;\" href=\"./11_sets.ipynb\">Next notebook&nbsp;&rarr;</a>"
   ]
  }
 ],
 "metadata": {
  "kernelspec": {
   "display_name": "Python 3 (ipykernel)",
   "language": "python",
   "name": "python3"
  },
  "language_info": {
   "codemirror_mode": {
    "name": "ipython",
    "version": 3
   },
   "file_extension": ".py",
   "mimetype": "text/x-python",
   "name": "python",
   "nbconvert_exporter": "python",
   "pygments_lexer": "ipython3",
   "version": "3.12.9"
  },
  "toc-autonumbering": false,
  "toc-showmarkdowntxt": false,
  "toc-showtags": false
 },
 "nbformat": 4,
 "nbformat_minor": 4
}
