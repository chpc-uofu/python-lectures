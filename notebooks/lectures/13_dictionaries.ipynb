{
 "cells": [
  {
   "cell_type": "markdown",
   "metadata": {
    "slideshow": {
     "slide_type": "slide"
    }
   },
   "source": [
    "<img src=\"../../images/dictionaries.svg\" style=\"width: 10em;\" />\n",
    "\n",
    "# Dictionaries\n",
    "* A dictionary (also known as a \"hash\" or \"associative array\") is a collection of `key:value` pairs\n",
    "* You can create dictionaries with the `dict()` command or with `key:value` pairs between the `{`and `}` (**curly brace**) symbols\n",
    "  * Recall that `{` and `}` were also used to define a set; dictionaries and sets are distinct, and you can tell them apart because dictionaries *always* have pairs of associated values separated by `:`\n",
    "    * `{1, 2, 3, 4}` is a set\n",
    "    * `{1: 2, 3: 4}` is a dictionary\n",
    "* The keys in a dictionary must be unique\n",
    "* The values can be of any type\n",
    "* The lookup on a key is **extremely** fast"
   ]
  },
  {
   "cell_type": "code",
   "execution_count": null,
   "metadata": {},
   "outputs": [],
   "source": [
    "elements = {\n",
    "    'H': 'hydrogen',\n",
    "    'He': 'helium',\n",
    "    'Li': 'lithium',\n",
    "    'Be': 'berylium'\n",
    "}\n",
    "elements['B'] = 'boron'\n",
    "print(f\"The element whose symbol is H is {elements['H']}.\")\n",
    "print(f\"Does the dictionary include carbon? {'C' in elements}.\")\n",
    "print(\"Here are the symbols:\", list(elements.keys()))\n",
    "print(f\"The element name for symbol 'Po' is: {elements.get('Po', 'unknown')}.\")"
   ]
  },
  {
   "cell_type": "markdown",
   "metadata": {
    "slideshow": {
     "slide_type": "subslide"
    }
   },
   "source": [
    "## What if the key isn't in the dictionary?"
   ]
  },
  {
   "cell_type": "code",
   "execution_count": null,
   "metadata": {},
   "outputs": [],
   "source": [
    "print(f\"The element whose symbol is N is {elements['N']}.\")"
   ]
  },
  {
   "cell_type": "markdown",
   "metadata": {},
   "source": [
    "An attempt to access a missing key generates a `KeyError` exception. We'll learn about exception handling next.\n",
    "\n",
    "<div style=\"margin-top: 1em; border-radius: 0.5em; box-shadow: 0 0 0.5em #ced4da; display: flex; flex-wrap: nowrap; overflow: hidden;\">\n",
    "  <div style=\"background-color: #be0000; width: 10%; flex-shrink: 0; display: flex; justify-content: center; align-items: center;\"><img src=\"../../images/tutorial.svg\" style=\"width: 100%; height: auto; max-height: 100%; object-fit: contain; display: block;\"></div>\n",
    "  <div style=\"padding: 1.5em;\">\n",
    "    <p style=\"font-weight: bold; margin: 0; font-size: 1.2em; color: #be0000;\">Tutorial</p>\n",
    "    <p style=\"margin: 0;\">More information about dictionaries is available in the Python tutorial.</p>\n",
    "    <a style=\"background-color: #be0000; color: white !important; text-decoration: none; padding: 0.5em 1em; margin-top: 1em; margin-bottom: 0; border-radius: 0.25em; display: inline-block; font-weight: bold;\" href=\"https://docs.python.org/3/tutorial/datastructures.html#dictionaries\">Read more about dictionaries&nbsp;&rarr;</a>\n",
    "  </div>\n",
    "</div>"
   ]
  },
  {
   "cell_type": "markdown",
   "metadata": {
    "slideshow": {
     "slide_type": "slide"
    }
   },
   "source": [
    "<div style=\"padding: 1.5em; margin-top: 1em; border-radius: 0.5em; box-shadow: 0 0 0.5em #ced4da;\">\n",
    "\n",
    "<img src=\"../../images/exercise.svg\" style=\"height: 2.5em; margin-bottom: -1em;\" />\n",
    "\n",
    "## Exercise: Improved *Hello, world* function\n",
    "\n",
    "Revise this `hello_world()` function so that it can greet you in several different languages. Your function must accept one argument, which is the name of the language to use for the greeting, and that argument should default to some language if no value is given. \n",
    "\n",
    "*Hint: this is a nice use case for a dictionary.*\n",
    "\n",
    "</div>"
   ]
  },
  {
   "cell_type": "code",
   "execution_count": null,
   "metadata": {},
   "outputs": [],
   "source": [
    "def hello_world():\n",
    "    print(\"Hello, world!\")"
   ]
  },
  {
   "cell_type": "markdown",
   "metadata": {
    "slideshow": {
     "slide_type": "slide"
    }
   },
   "source": [
    "<div style=\"padding: 1.5em; margin-top: 1em; border-radius: 0.5em; box-shadow: 0 0 0.5em #ced4da;\">\n",
    "\n",
    "<img src=\"../../images/exercise.svg\" style=\"height: 2.5em; margin-bottom: -1em;\" />\n",
    "\n",
    "## Exercise: Bioinformatics! DNA to protein translation\n",
    "This exercise puts it all together: functions, strings, modules, and dictionaries.\n",
    "\n",
    "The [genetic code](https://en.wikipedia.org/wiki/Genetic_code \"Wikipedia\") provides a mapping from the 4-letter alphabet of DNA (A, C, G, and T) to the 20-letter code of amino acids, that make up proteins. Three consecutive DNA \"letters,\" called a codon, maps onto a single amino acid letter. For example, the DNA string \"ATG\" maps onto the amino acid letter \"M.\" Using the provided module geneticcode.py, which defines the genetic code as a dictionary named `codons`, write a function that translates a DNA string to its amino acid sequence.\n",
    "\n",
    "</div>"
   ]
  },
  {
   "cell_type": "code",
   "execution_count": null,
   "metadata": {},
   "outputs": [],
   "source": [
    "# Here's a DNA sequence to translate:\n",
    "dna_sequence = \"ATGGAGGAGCCGCAGTCAGATCCTAGCGTCGAGCCC\"\n",
    "# Write a function that translates this into an amino acid sequence using the codons dictionary from the \n",
    "# geneticcode module and call your function with this sequence. This 36-letter DNA sequence should translate\n",
    "# into a 12-letter amino acid sequence."
   ]
  },
  {
   "cell_type": "code",
   "execution_count": null,
   "metadata": {},
   "outputs": [],
   "source": []
  },
  {
   "cell_type": "markdown",
   "metadata": {},
   "source": [
    "<a style=\"background-color: #e2e6e6; color: black !important; text-decoration: none; padding: 1em 2em; margin-top: 2em; margin-right: 0.5em; border-radius: 0.5em; display: inline-block; font-weight: bold;\" href=\"./12_tuples.ipynb\">&larr;&nbsp;Previous notebook</a>\n",
    "<a style=\"background-color: #be0000; color: white !important; text-decoration: none; padding: 1em 2em; margin-top: 2em; border-radius: 0.5em; display: inline-block; font-weight: bold;\" href=\"./14_exceptions.ipynb\">Next notebook&nbsp;&rarr;</a>"
   ]
  }
 ],
 "metadata": {
  "kernelspec": {
   "display_name": "Python 3 (ipykernel)",
   "language": "python",
   "name": "python3"
  },
  "language_info": {
   "codemirror_mode": {
    "name": "ipython",
    "version": 3
   },
   "file_extension": ".py",
   "mimetype": "text/x-python",
   "name": "python",
   "nbconvert_exporter": "python",
   "pygments_lexer": "ipython3",
   "version": "3.12.9"
  },
  "toc-autonumbering": false,
  "toc-showmarkdowntxt": false,
  "toc-showtags": false
 },
 "nbformat": 4,
 "nbformat_minor": 4
}
