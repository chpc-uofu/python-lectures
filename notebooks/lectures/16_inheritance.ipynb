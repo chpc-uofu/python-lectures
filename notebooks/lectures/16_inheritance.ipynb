{
 "cells": [
  {
   "cell_type": "markdown",
   "metadata": {
    "slideshow": {
     "slide_type": "subslide"
    }
   },
   "source": [
    "<img src=\"../../images/inheritance.svg\" style=\"width: 5em;\" />\n",
    "\n",
    "# Inheritance\n",
    "- Inheritance lets you create a new class using an existing class as a foundation\n",
    "  - The new class \"inherits\" data and methods from the existing class\n",
    "  - This new class is a \"child\" class derived from a \"parent\" class\n",
    "- Parent classes are also called \"base\" classes or \"super\" classes\n",
    "  - You can add or replace methods and data values of the parent class in the child class\n",
    "  - A child class can be derived from one (single inheritance) or several (multiple inheritance) base classes"
   ]
  },
  {
   "cell_type": "markdown",
   "metadata": {
    "jp-MarkdownHeadingCollapsed": true
   },
   "source": [
    "## Import the `Person` class from the previous lecture to allow examples from this lecture to work"
   ]
  },
  {
   "cell_type": "code",
   "execution_count": null,
   "metadata": {},
   "outputs": [],
   "source": [
    "import time\n",
    "\n",
    "\n",
    "class Person:\n",
    "    \"Here's an improved Person example.\"\n",
    "    def __init__(\n",
    "        self,  # This is a required argument!\n",
    "        first_name,\n",
    "        last_name,\n",
    "        year_of_birth\n",
    "    ):\n",
    "        \"Constructor method of the class Person. (This is the docstring for this method.)\"\n",
    "        self.first_name = first_name\n",
    "        self.last_name = last_name\n",
    "        self.year_of_birth = year_of_birth\n",
    "\n",
    "    def __str__(self):\n",
    "        \"Returns the string representation of the object\"\n",
    "        return f\"{self.last_name}, {self.first_name}: born {self.year_of_birth}\"\n",
    "\n",
    "    def __lt__(self, other):\n",
    "        \"Used to compare this Person object with another Person object for sorting.\"\n",
    "        return self.last_name < other.last_name\n",
    "    \n",
    "    def approximate_age(self):\n",
    "        \"Returns person's (approximate) age in years\"\n",
    "        # Calculate the current year.\n",
    "        current_year = time.localtime(time.time()).tm_year\n",
    "        # Calculate this person's age by subtracting the year they were born from\n",
    "        # the current year. (Not exactly right, but close enough for our purposes.)\n",
    "        return current_year - self.year_of_birth\n",
    "\n",
    "\n",
    "rockstars = [\n",
    "    Person(\"Lou\",   \"Reed\",  1942),\n",
    "    Person(\"Iggy\",  \"Pop\",   1947),\n",
    "    Person(\"David\", \"Bowie\", 1947)\n",
    "]\n",
    "rockstars.sort()\n",
    "\n",
    "for musician in rockstars:\n",
    "    print(f\"{musician}, (approximate) age {musician.approximate_age()} years\")"
   ]
  },
  {
   "cell_type": "markdown",
   "metadata": {
    "slideshow": {
     "slide_type": "subslide"
    }
   },
   "source": [
    "## Inheritance example"
   ]
  },
  {
   "cell_type": "code",
   "execution_count": null,
   "metadata": {
    "scrolled": true
   },
   "outputs": [],
   "source": [
    "class Student(Person):\n",
    "    \"A Student is a Person with a GPA.\"\n",
    "    def __init__(self, first_name, last_name, year_of_birth, grade_point_average):\n",
    "        # Call the parent class constructor.\n",
    "        Person.__init__(self, first_name, last_name, year_of_birth) \n",
    "        # You can also do it like this:\n",
    "        # super().__init__(first_name, last_name, year_of_birth)\n",
    "        self.gpa = grade_point_average\n",
    "\n",
    "    def __str__(self):\n",
    "        return f\"{self.last_name}, {self.first_name}: born {self.year_of_birth}, GPA {self.gpa}\"\n",
    "\n",
    "\n",
    "s = Student(\"Alice\", \"Pythoncoder\", 2001, 4.0)\n",
    "print(s)\n",
    "print(f\"{s.first_name} is {s.approximate_age()} years old.\")"
   ]
  },
  {
   "cell_type": "markdown",
   "metadata": {},
   "source": [
    "Notice that the `Student` class definition replaces only the base class (`Person`) methods that need to be modified.  \n",
    "\n",
    "Also notice that `Student` class objects have an `age()` method; where does that come from?"
   ]
  },
  {
   "cell_type": "markdown",
   "metadata": {},
   "source": [
    "## Other uses for inheritance\n",
    "Besides creating new classes from our own base classes, inheritance is essential in some other situations:"
   ]
  },
  {
   "cell_type": "markdown",
   "metadata": {
    "jp-MarkdownHeadingCollapsed": true,
    "slideshow": {
     "slide_type": "subslide"
    },
    "tags": []
   },
   "source": [
    "### The Python Standard Library and inheritance\n",
    "The Python Standard Library includes many modules that define base classes from which you derive new classes:\n",
    "* thread (for multithreaded parallel programming)\n",
    "* xml.sax (for parsing XML documents)\n",
    "* html.parser (for parsing HTML documents)\n",
    "* httpserver (for writing your own web server)\n",
    "* unittest (for implementing testing frameworks)"
   ]
  },
  {
   "cell_type": "markdown",
   "metadata": {
    "slideshow": {
     "slide_type": "subslide"
    },
    "tags": []
   },
   "source": [
    "### User-defined exceptions\n",
    "Python defines [lots of exceptions](https://docs.python.org/3/library/exceptions.html), but you can create your own custom exceptions too:"
   ]
  },
  {
   "cell_type": "code",
   "execution_count": null,
   "metadata": {},
   "outputs": [],
   "source": [
    "class MyException(Exception):\n",
    "    pass\n",
    "\n",
    "\n",
    "raise MyException(\"Something bad happened. Here's some information to help you sort it out.\")"
   ]
  },
  {
   "cell_type": "markdown",
   "metadata": {},
   "source": [
    "The `pass` statement is used when you want a block of code that does nothing at all. Here, we are creating a new class named `MyException` which is derived from the Python class `Exception`."
   ]
  },
  {
   "cell_type": "markdown",
   "metadata": {
    "slideshow": {
     "slide_type": "subslide"
    },
    "tags": []
   },
   "source": [
    "<div style=\"padding: 1.5em; margin-top: 1em; border-radius: 0.5em; box-shadow: 0 0 0.5em #ced4da;\">\n",
    "\n",
    "<img src=\"../../images/exercise.svg\" style=\"height: 2.5em; margin-bottom: -1em;\" />\n",
    "\n",
    "## Exercise: Classes and inheritance\n",
    "1. In the cell below, create a class named `Dog` that represents dogs. The constructor, `__init__()`, should take one argument in addition to `self`: the dog's name. The class should implement one additional method, which is `speak()`. The `speak()` method should `return` some dog-appropriate sound, for example `\"Arf!\"`.\n",
    "2. Create a list of several instances of the `Dog` class, and iterate through the list printing each dog's name and the sound they return when you call the `speak()` method.\n",
    "3. Derive a `Poodle` class from the `Dog` class such that instances of the `Poodle` class return a more poodle-appropriate sound, like `\"Yip!\"`, when you call the `speak()` method.\n",
    "4. Add some instances of the `Poodle` class to your list of dogs, so list contains some `Dog` instances and some `Poodle` instances, and then re-run the code that iterates through the list.\n",
    "\n",
    "</div>"
   ]
  },
  {
   "cell_type": "code",
   "execution_count": null,
   "metadata": {},
   "outputs": [],
   "source": []
  },
  {
   "cell_type": "markdown",
   "metadata": {},
   "source": [
    "<a style=\"background-color: #e2e6e6; color: black !important; text-decoration: none; padding: 1em 2em; margin-top: 2em; margin-right: 0.5em; border-radius: 0.5em; display: inline-block; font-weight: bold;\" href=\"./15_classes.ipynb\">Previous notebook</a>\n",
    "<a style=\"background-color: #be0000; color: white !important; text-decoration: none; padding: 1em 2em; margin-top: 2em; border-radius: 0.5em; display: inline-block; font-weight: bold;\" href=\"./17_conclusion.ipynb\">Next notebook</a>"
   ]
  }
 ],
 "metadata": {
  "kernelspec": {
   "display_name": "Python 3 (ipykernel)",
   "language": "python",
   "name": "python3"
  },
  "language_info": {
   "codemirror_mode": {
    "name": "ipython",
    "version": 3
   },
   "file_extension": ".py",
   "mimetype": "text/x-python",
   "name": "python",
   "nbconvert_exporter": "python",
   "pygments_lexer": "ipython3",
   "version": "3.9.6"
  },
  "toc-autonumbering": false,
  "toc-showmarkdowntxt": false,
  "toc-showtags": false
 },
 "nbformat": 4,
 "nbformat_minor": 4
}
