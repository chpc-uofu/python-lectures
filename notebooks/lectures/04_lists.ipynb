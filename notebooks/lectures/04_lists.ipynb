{
 "cells": [
  {
   "cell_type": "markdown",
   "metadata": {
    "slideshow": {
     "slide_type": "slide"
    },
    "tags": []
   },
   "source": [
    "<img src=\"../../images/lists.svg\" style=\"width: 10em;\" />\n",
    "\n",
    "# Lists\n",
    "Lists are denoted with square brackets, `[` and `]`.\n",
    "\n",
    "* Lists are an *ordered* collection of 0 or more elements\n",
    "    * `[]` is a valid list\n",
    "* Elements in a list don't have to be unique\n",
    "    * `[1, 1, 1]` is a valid list \n",
    "* Elements in a list can be various types—even other lists\n",
    "    * `[[1, 2, 3], [\"a\", \"b\", \"c\"]]` is a valid list of lists: <pre style=\"display: inline-block; color: black !important;\"><span style=\"padding: 0.2em; background-color: #e7f5ff; border-radius: 0.2em; border: 0.1em solid #a5d8ff;\">[<span style=\"padding: 0.05em; background-color: #fff9db; border-radius: 0.2em; border: 0.1em solid #ffec99;\">[1, 2, 3]</span>, <span style=\"padding: 0.05em; background-color: #fff0f6; border-radius: 0.2em; border: 0.1em solid #fcc2d7;\">[\"a\", \"b\", \"c\"]</span>]</span></pre>\n",
    "* Lists are mutable (you can change the order of elements and add and remove elements)\n",
    "* To create a list, you can use\n",
    "  * **Square brackets**, `[` and `]`, which denote a list\n",
    "  * `list()`, which turns its single argument into a list\n",
    "  * List comprehension, which we'll cover later\n",
    "* Lists are *very flexible* but can be *slow*"
   ]
  },
  {
   "cell_type": "markdown",
   "metadata": {
    "slideshow": {
     "slide_type": "subslide"
    }
   },
   "source": [
    "## List operators"
   ]
  },
  {
   "cell_type": "code",
   "execution_count": null,
   "metadata": {
    "slideshow": {
     "slide_type": "-"
    }
   },
   "outputs": [],
   "source": [
    "# Let's create some lists:\n",
    "a1 = ['a', 'x', 'b', 'w', 'd', 'e']\n",
    "a2 = list('z')\n",
    "print(f\"List a1 is: {a1}\")\n",
    "print(f\"List a2 is: {a2}\")\n",
    "\n",
    "# Lists have a length:\n",
    "print(f\"Length of a1 is {len(a1)}.\")\n",
    "\n",
    "# Some operators work on lists:\n",
    "print(f\"a1 + a2 = {a1 + a2}, a2 * 3 = {a2 * 3}\")"
   ]
  },
  {
   "cell_type": "code",
   "execution_count": null,
   "metadata": {},
   "outputs": [],
   "source": [
    "# And some operators don't:\n",
    "print(f\"a1 / 2 = {a1 / 2}\")"
   ]
  },
  {
   "cell_type": "markdown",
   "metadata": {
    "slideshow": {
     "slide_type": "subslide"
    }
   },
   "source": [
    "## List objects have some methods"
   ]
  },
  {
   "cell_type": "code",
   "execution_count": null,
   "metadata": {
    "scrolled": true
   },
   "outputs": [],
   "source": [
    "l = ['a', 'x', 'b', 'w', 'd', 'e']\n",
    "\n",
    "l.remove('a')\n",
    "print(\"With 'a' removed:\", l)\n",
    "\n",
    "l.sort()\n",
    "print(\"Sorted:\", l)\n",
    "\n",
    "l.reverse()\n",
    "print(\"Reversed:\", l)\n",
    "\n",
    "l.append('p')\n",
    "print(\"With 'p' appended:\", l)\n",
    "\n",
    "print(\"Last element (which has been removed):\", l.pop())\n",
    "print(\"First element (which has been removed):\", l.pop(0))"
   ]
  },
  {
   "cell_type": "markdown",
   "metadata": {},
   "source": [
    "## A note on performance\n",
    "Suppose you want to add an element to list l above. You could do it like this:\n",
    "```python\n",
    "l = l + ['x']\n",
    "```\n",
    "or you could do it like this:\n",
    "```python\n",
    "l.append('x')\n",
    "```\n",
    "Both lines of code accomplish the same thing, but the second is **much** faster.\n",
    "\n",
    "<div style=\"margin-top: 1em; border-radius: 0.5em; box-shadow: 0 0 0.5em #ced4da; display: flex; flex-wrap: nowrap; overflow: hidden;\">\n",
    "  <div style=\"background-color: #be0000; width: 10%; flex-shrink: 0; display: flex; justify-content: center; align-items: center;\"><img src=\"../../images/tutorial.svg\" style=\"width: 100%; height: auto; max-height: 100%; object-fit: contain; display: block;\"></div>\n",
    "  <div style=\"padding: 1.5em;\">\n",
    "    <p style=\"font-weight: bold; margin: 0; font-size: 1.2em; color: #be0000;\">Tutorial</p>\n",
    "    <p style=\"margin: 0;\">More information about lists is available in the Python tutorial.</p>\n",
    "    <a style=\"background-color: #be0000; color: white !important; text-decoration: none; padding: 0.5em 1em; margin-top: 1em; margin-bottom: 0; border-radius: 0.25em; display: inline-block; font-weight: bold;\" href=\"https://docs.python.org/3/tutorial/datastructures.html#more-on-lists\">Read more about lists&nbsp;&rarr;</a>\n",
    "  </div>\n",
    "</div>"
   ]
  },
  {
   "cell_type": "markdown",
   "metadata": {
    "slideshow": {
     "slide_type": "slide"
    },
    "tags": []
   },
   "source": [
    "# Accessing sequence elements by index\n",
    "* Strings and lists are examples of **sequences**\n",
    "  * You can access one or more elements of a sequence with index numbers in square brackets, `[]` (this is contextual; square brackets mean *create a list* in some contexts and *get the element at a given index* in others)\n",
    "    * Indexes range from `0` up to `sequence length - 1`\n",
    "    * Negative indexes count backwards from the end: `-1` is the last element, `-2` the second from last, etc.\n",
    "    * Within the brackets, you can provide information as `[start:end + 1:stepsize]`, where `start` defaults to `0`, `end + 1` defaults to the end of the list, and `stepsize` defaults to `1`"
   ]
  },
  {
   "cell_type": "code",
   "execution_count": null,
   "metadata": {},
   "outputs": [],
   "source": [
    "letters = ['a', 'b', 'c', 'd', 'e', 'f', 'g', 'h', 'i', 'j', 'k', 'l', 'm']\n",
    "print(letters)\n",
    "print(letters[0])\n",
    "print(letters[-1])\n",
    "print(letters[0:3])\n",
    "print(letters[3:12:2])\n",
    "\n",
    "# You can use the default for one or more fields by omitting a value:\n",
    "print(letters[::3])  # Use the default start and end position, but use a step size of 3"
   ]
  },
  {
   "cell_type": "markdown",
   "metadata": {},
   "source": [
    "<a style=\"background-color: #e2e6e6; color: black !important; text-decoration: none; padding: 1em 2em; margin-top: 2em; margin-right: 0.5em; border-radius: 0.5em; display: inline-block; font-weight: bold;\" href=\"./03_strings.ipynb\">&larr;&nbsp;Previous notebook</a>\n",
    "<a style=\"background-color: #be0000; color: white !important; text-decoration: none; padding: 1em 2em; margin-top: 2em; border-radius: 0.5em; display: inline-block; font-weight: bold;\" href=\"./05_functions.ipynb\">Next notebook&nbsp;&rarr;</a>"
   ]
  }
 ],
 "metadata": {
  "kernelspec": {
   "display_name": "Python 3 (ipykernel)",
   "language": "python",
   "name": "python3"
  },
  "language_info": {
   "codemirror_mode": {
    "name": "ipython",
    "version": 3
   },
   "file_extension": ".py",
   "mimetype": "text/x-python",
   "name": "python",
   "nbconvert_exporter": "python",
   "pygments_lexer": "ipython3",
   "version": "3.12.9"
  },
  "toc-autonumbering": false,
  "toc-showmarkdowntxt": false,
  "toc-showtags": false
 },
 "nbformat": 4,
 "nbformat_minor": 4
}
