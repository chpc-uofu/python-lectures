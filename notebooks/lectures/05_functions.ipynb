{
 "cells": [
  {
   "cell_type": "markdown",
   "metadata": {
    "slideshow": {
     "slide_type": "slide"
    },
    "tags": []
   },
   "source": [
    "<img src=\"../../images/functions.svg\" style=\"width: 5em;\" />\n",
    "\n",
    "# Functions\n",
    "Functions are reusable chunks of Python code. They (usually) have a name, they can take zero or more arguments, and they return a value. If you don't explicitly return a value, a function returns `None`.\n",
    "\n",
    "This is the general layout of a function definition in Python:"
   ]
  },
  {
   "cell_type": "code",
   "execution_count": null,
   "metadata": {},
   "outputs": [],
   "source": [
    "def test_function(argument1, argument2, argumentn=\"default_value\"):\n",
    "    \"This is the documentation string (or docstring) for the function\"\n",
    "    # The body of the function goes here:\n",
    "    print(\"Value of argument1:\", argument1)\n",
    "    print(\"Value of argument2:\", argument2)\n",
    "    print(\"Value of argumentn:\", argumentn)\n",
    "\n",
    "\n",
    "x = test_function('a', 2)\n",
    "print(\"test_function returned\", x)\n",
    "help(test_function)"
   ]
  },
  {
   "cell_type": "markdown",
   "metadata": {
    "slideshow": {
     "slide_type": "-"
    }
   },
   "source": [
    "\n",
    "1. The function is announced with the `def` keyword;\n",
    "2. followed by the function name;\n",
    "3. followed by 0 or more arguments (inputs) in parentheses, `(…)`;\n",
    "   * positional arguments must come before \"keyword arguments\"; keyword arguments specify a default value and are optional when calling the function\n",
    "5. followed by a colon, `:`;\n",
    "6. followed by an optional (but recommended) documentation string;\n",
    "7. followed by the body of the function, indented relative to the `def` statement, which will\n",
    "    * `return` a value if specified, or\n",
    "    * `return None` automatically if no `return` statement is given"
   ]
  },
  {
   "cell_type": "markdown",
   "metadata": {},
   "source": [
    "## A quick note on *scope*"
   ]
  },
  {
   "cell_type": "code",
   "execution_count": null,
   "metadata": {},
   "outputs": [],
   "source": [
    "subject = \"The quick brown fox\"\n",
    "action = \"jumps over the lazy dog\"\n",
    "\n",
    "\n",
    "def tell_story(subject):\n",
    "    \"Tell a little story\"\n",
    "    note = \"This variable only exists within this function!\"\n",
    "    print(f\"{subject} {action}\")\n",
    "\n",
    "\n",
    "tell_story(subject=\"The slow tortoise\")  # What does \"subject=…\" do?\n",
    "tell_story(subject)                      # Did we reassign the variable subject?\n",
    "tell_story(subject=subject)              # … what? Python doesn't make any sense!"
   ]
  },
  {
   "cell_type": "code",
   "execution_count": null,
   "metadata": {},
   "outputs": [],
   "source": [
    "# Let's confirm the statement in the \"note\" variable!\n",
    "print(note)"
   ]
  },
  {
   "cell_type": "markdown",
   "metadata": {},
   "source": [
    "Wait! Didn't we *change* the value of `subject` when we called the function the first time? What happened here? This is related to the **scope** of the variables.\n",
    "\n",
    "<code style=\"line-height: 2em; color: black !important;\">\n",
    "<div style=\"display: inline-block; border: 0.1em solid #228be6; border-left: 0.2em solid #228be6; margin: 0.2em 0; background-color: #e7f5ff; box-sizing: border-box; padding: 1em; border-radius: 0.2em;\"><span style=\"border-left: 0.2em solid #228be6; background-color: #a5d8ff; border-radius: 0.2em; padding: 0.1em 0.2em;\">subject</span> = \"The quick brown fox\"\n",
    "<span style=\"border-left: 0.2em solid #228be6; background-color: #a5d8ff; border-radius: 0.2em; padding: 0.1em 0.2em;\">action</span> = \"jumps over the lazy dog\"<br>\n",
    "def <span style=\"border-left: 0.2em solid #228be6; background-color: #a5d8ff; border-radius: 0.2em; padding: 0.1em 0.2em;\">tell_story</span>(<span style=\"border-left: 0.2em dashed #fab005; background-color: #ffec99; border-radius: 0.2em; padding: 0.1em 0.2em;\">subject</span>):\n",
    "<div style=\"display: inline-block; border: 0.1em solid #fab005; border-left: 0.2em dashed #fab005; margin: 0.2em 0; background-color: #fff9db; width: 100%; box-sizing: border-box; padding: 1em; border-radius: 0.2em;\">\"Tell a little story\"\n",
    "<span style=\"border-left: 0.2em dashed #fab005; background-color: #ffec99; border-radius: 0.2em; padding: 0.1em 0.2em;\">note</span> = \"This variable only exists within this function!\"\n",
    "print(f\"{<span style=\"border-left: 0.2em dashed #fab005; background-color: #ffec99; border-radius: 0.2em; padding: 0.1em 0.2em;\">subject</span>} {<span style=\"border-left: 0.2em solid #228be6; background-color: #a5d8ff; border-radius: 0.2em; padding: 0.1em 0.2em;\">action</span>}\")</div><br>\n",
    "<span style=\"border-left: 0.2em solid #228be6; background-color: #a5d8ff; border-radius: 0.2em; padding: 0.1em 0.2em;\">tell_story</span>(<span style=\"border-left: 0.2em dashed #fab005; background-color: #ffec99; border-radius: 0.2em; padding: 0.1em 0.2em;\">subject</span>=\"The slow tortoise\")\n",
    "<span style=\"border-left: 0.2em solid #228be6; background-color: #a5d8ff; border-radius: 0.2em; padding: 0.1em 0.2em;\">tell_story</span>(<span style=\"border-left: 0.2em solid #228be6; background-color: #a5d8ff; border-radius: 0.2em; padding: 0.1em 0.2em;\">subject</span>)\n",
    "<span style=\"border-left: 0.2em solid #228be6; background-color: #a5d8ff; border-radius: 0.2em; padding: 0.1em 0.2em;\">tell_story</span>(<span style=\"border-left: 0.2em dashed #fab005; background-color: #ffec99; border-radius: 0.2em; padding: 0.1em 0.2em;\">subject</span>=<span style=\"border-left: 0.2em solid #228be6; background-color: #a5d8ff; border-radius: 0.2em; padding: 0.1em 0.2em;\">subject</span>)\n",
    "</div>\n",
    "</code>"
   ]
  },
  {
   "cell_type": "markdown",
   "metadata": {},
   "source": [
    "Since `subject` is a variable *within* `tell_story()`, its value is the argument passed to the function, but *only within the scope of the function*. Note that this does *not* overwrite the `subject` variable outside of the function. **In the above example, the variable `action` *is* accessible in the scope of the function; however, the variable `note` *is not* accessible outside of the scope of the function. This is a one-way relationship.** The inner scope is aware of variables defined in the outer scope, but the outer scope is not aware of variables defined in the inner scope. (The keywords `global` and `nonlocal` can change this behavior, but they can also make programs more confusing—especially for new programmers—so we recommend avoiding these for now.)\n",
    "\n",
    "This concept of scope applies to **functions** and **classes**; we'll talk about classes later! The concept of scope does not apply to loops or `if` statements.\n",
    "\n",
    "<span style=\"border-left: 0.2em solid #228be6; background-color: #a5d8ff; color: black !important; border-radius: 0.2em; padding: 0.1em 0.2em;\">tell_story</span>(<span style=\"border-left: 0.2em dashed #fab005; background-color: #ffec99; color: black !important; border-radius: 0.2em; padding: 0.1em 0.2em;\">subject</span>=<span style=\"border-left: 0.2em solid #228be6; background-color: #a5d8ff; color: black !important; border-radius: 0.2em; padding: 0.1em 0.2em;\">subject</span>) is something you might see; it may look a little strange, but it is perfectly valid in Python for managing scope. It's assigning the value of <span style=\"border-left: 0.2em solid #228be6; background-color: #a5d8ff; color: black !important; border-radius: 0.2em; padding: 0.1em 0.2em;\">subject</span> to the variable <span style=\"border-left: 0.2em dashed #fab005; background-color: #ffec99; color: black !important; border-radius: 0.2em; padding: 0.1em 0.2em;\">subject</span>, which is used in the other scope.\n",
    "\n",
    "Note that this concept of scope also means that\n",
    "\n",
    "<code style=\"line-height: 2em; color: black !important;\">\n",
    "<div style=\"display: inline-block; border: 0.1em solid #228be6; border-left: 0.2em solid #228be6; margin: 0.2em 0; background-color: #e7f5ff; box-sizing: border-box; padding: 1em; border-radius: 0.2em;\">def <span style=\"border-left: 0.2em solid #228be6; background-color: #a5d8ff; border-radius: 0.2em; padding: 0.1em 0.2em;\">x</span>():\n",
    "<div style=\"display: inline-block; border: 0.1em solid #fab005; border-left: 0.2em dashed #fab005; margin: 0.2em 0; background-color: #fff9db; width: 100%; box-sizing: border-box; padding: 1em; border-radius: 0.2em;\"><span style=\"border-left: 0.2em dashed #fab005; background-color: #ffec99; border-radius: 0.2em; padding: 0.1em 0.2em;\">message</span> = \"Hello!\"\n",
    "def <span style=\"border-left: 0.2em dashed #fab005; background-color: #ffec99; border-radius: 0.2em; padding: 0.1em 0.2em;\">y</span>():\n",
    "<div style=\"display: inline-block; border: 0.1em solid #fa5252; border-left: 0.2em dotted #fa5252; margin: 0.2em 0; background-color: #fff5f5; width: 100%; box-sizing: border-box; padding: 1em; border-radius: 0.2em;\">print(<span style=\"border-left: 0.2em dashed #fab005; background-color: #ffec99; border-radius: 0.2em; padding: 0.1em 0.2em;\">message</span>)</div>\n",
    "</div>\n",
    "<span style=\"border-left: 0.2em dashed #fab005; background-color: #ffec99; border-radius: 0.2em; padding: 0.1em 0.2em;\">y</span>()\n",
    "</div>\n",
    "</code>\n",
    "\n",
    "will not work because `y` is out of scope on the last line:"
   ]
  },
  {
   "cell_type": "code",
   "execution_count": null,
   "metadata": {},
   "outputs": [],
   "source": [
    "def x():\n",
    "    message = \"Hello!\"\n",
    "    def y():\n",
    "        print(message)\n",
    "y()"
   ]
  },
  {
   "cell_type": "markdown",
   "metadata": {},
   "source": [
    "However,\n",
    "\n",
    "<code style=\"line-height: 2em; color: black !important;\">\n",
    "<div style=\"display: inline-block; border: 0.1em solid #228be6; border-left: 0.2em solid #228be6; margin: 0.2em 0; background-color: #e7f5ff; box-sizing: border-box; padding: 1em; border-radius: 0.2em;\">def <span style=\"border-left: 0.2em solid #228be6; background-color: #a5d8ff; border-radius: 0.2em; padding: 0.1em 0.2em;\">x</span>():\n",
    "<div style=\"display: inline-block; border: 0.1em solid #fab005; border-left: 0.2em dashed #fab005; margin: 0.2em 0; background-color: #fff9db; width: 100%; box-sizing: border-box; padding: 1em; border-radius: 0.2em;\"><span style=\"border-left: 0.2em dashed #fab005; background-color: #ffec99; border-radius: 0.2em; padding: 0.1em 0.2em;\">message</span> = \"Hello!\"\n",
    "def <span style=\"border-left: 0.2em dashed #fab005; background-color: #ffec99; border-radius: 0.2em; padding: 0.1em 0.2em;\">y</span>():\n",
    "<div style=\"display: inline-block; border: 0.1em solid #fa5252; border-left: 0.2em dotted #fa5252; margin: 0.2em 0; background-color: #fff5f5; width: 100%; box-sizing: border-box; padding: 1em; border-radius: 0.2em;\">print(<span style=\"border-left: 0.2em dashed #fab005; background-color: #ffec99; border-radius: 0.2em; padding: 0.1em 0.2em;\">message</span>)</div>\n",
    "<span style=\"border-left: 0.2em dashed #fab005; background-color: #ffec99; border-radius: 0.2em; padding: 0.1em 0.2em;\">y</span>()\n",
    "</div>\n",
    "<span style=\"border-left: 0.2em solid #228be6; background-color: #a5d8ff; border-radius: 0.2em; padding: 0.1em 0.2em;\">x</span>()\n",
    "</div>\n",
    "</code>\n",
    "\n",
    "will work:"
   ]
  },
  {
   "cell_type": "code",
   "execution_count": null,
   "metadata": {},
   "outputs": [],
   "source": [
    "def x():\n",
    "    message = \"Hello!\"\n",
    "    def y():\n",
    "        print(message)\n",
    "    y()\n",
    "x()"
   ]
  },
  {
   "cell_type": "markdown",
   "metadata": {
    "slideshow": {
     "slide_type": "slide"
    },
    "tags": []
   },
   "source": [
    "## `return` statement\n",
    "You will often want to return one or more values from a function back to the code that called it. To do this, we use the `return` statement:"
   ]
  },
  {
   "cell_type": "markdown",
   "metadata": {},
   "source": [
    "```python\n",
    "# Return a single value:\n",
    "return x\n",
    "\n",
    "# Return multiple values as a tuple (more on tuples later):\n",
    "return (mean, std_deviation)\n",
    "\n",
    "# Return the outcome of a logical test as a True or False value:\n",
    "return x < 5\n",
    "```"
   ]
  },
  {
   "cell_type": "markdown",
   "metadata": {},
   "source": [
    "You have probably seen functions before in your math classes, even if you didn't have a name for them. For example, perhaps you've seen something like $y=f(x)$, where $f(x)=x^2$. In this example, $f$ is the *function*, $x$ is the *argument* (the input), and $x^2$ is the value the function outputs or *returns*. Python functions are a little different than the functions from your math classes because they can do things like read from or write to files and print results to the screen, like `test_function()` above. Otherwise, they're quite similar. In Python, the example $y=f(x)$ where $f(x)=x^2$ and $x=5$ might look like"
   ]
  },
  {
   "cell_type": "code",
   "execution_count": null,
   "metadata": {},
   "outputs": [],
   "source": [
    "def f(x):\n",
    "    \"This function squares the argument\"\n",
    "    return x**2\n",
    "\n",
    "\n",
    "y = f(x=5)\n",
    "print(y)"
   ]
  },
  {
   "cell_type": "markdown",
   "metadata": {},
   "source": [
    "This is a trivial function, but it illustrates that functions may be something you've seen before in another context."
   ]
  },
  {
   "cell_type": "markdown",
   "metadata": {},
   "source": [
    "For more on functions and the `return` statement, see the [Python tutorial](https://docs.python.org/3/tutorial/controlflow.html#defining-functions)."
   ]
  },
  {
   "cell_type": "markdown",
   "metadata": {
    "slideshow": {
     "slide_type": "slide"
    },
    "tags": []
   },
   "source": [
    "<div style=\"padding: 1.5em; margin-top: 1em; border-radius: 0.5em; box-shadow: 0 0 0.5em #ced4da;\">\n",
    "\n",
    "<img src=\"../../images/exercise.svg\" style=\"height: 2.5em; margin-bottom: -1em;\" />\n",
    "\n",
    "## Exercise: *Hello, world* function\n",
    "In the following cell, create a function named `hello_world()` that takes no arguments. It should print `\"Hello, world!\"` when you call the function.\n",
    "\n",
    "Then, modify your function to take one optional argument that defaults to `\"world\"`. If called without an argument, your function should print `\"Hello, world!\"`. If you pass a value to the function, like `\"Bob\"`, your function should print `\"Hello, Bob!\"`.\n",
    "\n",
    "</div>"
   ]
  },
  {
   "cell_type": "code",
   "execution_count": null,
   "metadata": {},
   "outputs": [],
   "source": []
  },
  {
   "cell_type": "markdown",
   "metadata": {},
   "source": [
    "<a style=\"background-color: #e2e6e6; color: black !important; text-decoration: none; padding: 1em 2em; margin-top: 2em; margin-right: 0.5em; border-radius: 0.5em; display: inline-block; font-weight: bold;\" href=\"./04_lists.ipynb\">Previous notebook</a>\n",
    "<a style=\"background-color: #be0000; color: white !important; text-decoration: none; padding: 1em 2em; margin-top: 2em; border-radius: 0.5em; display: inline-block; font-weight: bold;\" href=\"./06_anonymous_functions_lambda.ipynb\">Next notebook</a>"
   ]
  }
 ],
 "metadata": {
  "kernelspec": {
   "display_name": "Python 3 (ipykernel)",
   "language": "python",
   "name": "python3"
  },
  "language_info": {
   "codemirror_mode": {
    "name": "ipython",
    "version": 3
   },
   "file_extension": ".py",
   "mimetype": "text/x-python",
   "name": "python",
   "nbconvert_exporter": "python",
   "pygments_lexer": "ipython3",
   "version": "3.13.2"
  },
  "toc-autonumbering": false,
  "toc-showmarkdowntxt": false,
  "toc-showtags": false
 },
 "nbformat": 4,
 "nbformat_minor": 4
}
