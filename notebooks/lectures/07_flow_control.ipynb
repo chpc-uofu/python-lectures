{
 "cells": [
  {
   "cell_type": "markdown",
   "metadata": {
    "slideshow": {
     "slide_type": "slide"
    }
   },
   "source": [
    "<img src=\"../../images/flow_control.svg\" style=\"width: 5em;\" />\n",
    "\n",
    "# Flow control: `if`, `elif`, and `else`\n",
    "\n",
    "It is imperative that your code can *branch* depending on certain critera, so you can handle different situations in different ways. The `if` statement lets you do this:"
   ]
  },
  {
   "cell_type": "code",
   "execution_count": null,
   "metadata": {},
   "outputs": [],
   "source": [
    "animal = 'dog'\n",
    "\n",
    "if animal == 'dog':\n",
    "    print(\"The animal is a dog\")\n",
    "elif animal == 'cat':\n",
    "    print(\"The animal is a cat\")\n",
    "else:\n",
    "    print(\"The animal is neither dog nor cat!\")"
   ]
  },
  {
   "cell_type": "markdown",
   "metadata": {},
   "source": [
    "Both the `elif` (a contraction of \"else if\") and `else` clauses are optional. Note the whitespace before the `print` statements; that indentation is significant!"
   ]
  },
  {
   "cell_type": "markdown",
   "metadata": {
    "slideshow": {
     "slide_type": "slide"
    }
   },
   "source": [
    "<div style=\"padding: 1.5em; margin-top: 1em; border-radius: 0.5em; box-shadow: 0 0 0.5em #ced4da;\">\n",
    "\n",
    "<img src=\"../../images/exercise.svg\" style=\"height: 2.5em; margin-bottom: -1em;\" />\n",
    "\n",
    "## Exercise: *Odd or even* function\n",
    "Create a function that takes one argument and returns the string `\"odd\"` or `\"even\"`, depending on whether the argument is an odd number or an even number. Assume for now that the argument is a positive integer.\n",
    "\n",
    "</div>"
   ]
  },
  {
   "cell_type": "code",
   "execution_count": null,
   "metadata": {},
   "outputs": [],
   "source": []
  },
  {
   "cell_type": "markdown",
   "metadata": {},
   "source": [
    "<a style=\"background-color: #e2e6e6; color: black !important; text-decoration: none; padding: 1em 2em; margin-top: 2em; margin-right: 0.5em; border-radius: 0.5em; display: inline-block; font-weight: bold;\" href=\"./06_anonymous_functions_lambda.ipynb\">Previous notebook</a>\n",
    "<a style=\"background-color: #be0000; color: white !important; text-decoration: none; padding: 1em 2em; margin-top: 2em; border-radius: 0.5em; display: inline-block; font-weight: bold;\" href=\"./08_file_input_and_output.ipynb\">Next notebook</a>"
   ]
  }
 ],
 "metadata": {
  "kernelspec": {
   "display_name": "Python 3 (ipykernel)",
   "language": "python",
   "name": "python3"
  },
  "language_info": {
   "codemirror_mode": {
    "name": "ipython",
    "version": 3
   },
   "file_extension": ".py",
   "mimetype": "text/x-python",
   "name": "python",
   "nbconvert_exporter": "python",
   "pygments_lexer": "ipython3",
   "version": "3.13.2"
  },
  "toc-autonumbering": false,
  "toc-showmarkdowntxt": false,
  "toc-showtags": false
 },
 "nbformat": 4,
 "nbformat_minor": 4
}
