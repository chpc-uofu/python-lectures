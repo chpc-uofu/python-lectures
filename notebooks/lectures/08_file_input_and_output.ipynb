{
 "cells": [
  {
   "cell_type": "markdown",
   "metadata": {
    "slideshow": {
     "slide_type": "slide"
    }
   },
   "source": [
    "<img src=\"../../images/io.svg\" style=\"width: 10em;\" />\n",
    "\n",
    "# File input/output (I/O)\n",
    "It is useful to read data from files or write data to files. This is done through file objects, which are created using the `open()` function. Files can be opened for reading (`\"r\"`), writing (`\"w\"`), or appending (`\"a\"`):"
   ]
  },
  {
   "cell_type": "code",
   "execution_count": null,
   "metadata": {},
   "outputs": [],
   "source": [
    "input_file = open(\"../static/popular_dog_names.txt\", \"r\")  # Open a file for reading.\n",
    "first_line = input_file.readline()                         # Read one line.\n",
    "input_file.close()                                         # Close the input file.\n",
    "print(f\"Read this data from the file: '{first_line}'\")\n",
    "\n",
    "output_file = open(\"../static/tmpfile.txt\", \"w\")           # Open another file for writing. This overwrites the file if it exists.\n",
    "output_file.write(first_line)\n",
    "output_file.close()"
   ]
  },
  {
   "cell_type": "markdown",
   "metadata": {},
   "source": [
    "You can also read all the lines of a file into a list with `input_file.readlines()`, but be careful! The file might be big!\n",
    "\n",
    "If you are working with binary data files (rather than text files) you need to open them in the `\"rb\"`, `\"wb\"`, or `\"ab\"` modes, and you may find the [struct](https://docs.python.org/3/library/struct.html) library helpful.\n",
    "\n",
    "<div style=\"margin-top: 1em; border-radius: 0.5em; box-shadow: 0 0 0.5em #ced4da; display: flex; flex-wrap: nowrap; overflow: hidden;\">\n",
    "  <div style=\"background-color: #be0000; width: 10%; flex-shrink: 0; display: flex; justify-content: center; align-items: center;\"><img src=\"../../images/tutorial.svg\" style=\"width: 100%; height: auto; max-height: 100%; object-fit: contain; display: block;\"></div>\n",
    "  <div style=\"padding: 1.5em;\">\n",
    "    <p style=\"font-weight: bold; margin: 0; font-size: 1.2em; color: #be0000;\">Tutorial</p>\n",
    "    <p style=\"margin: 0;\">More information about file input and output is available in the Python tutorial.</p>\n",
    "    <a style=\"background-color: #be0000; color: white !important; text-decoration: none; padding: 0.5em 1em; margin-top: 1em; margin-bottom: 0; border-radius: 0.25em; display: inline-block; font-weight: bold;\" href=\"https://docs.python.org/3/tutorial/inputoutput.html#reading-and-writing-files\">Read more about file input and output&nbsp;&rarr;</a>\n",
    "  </div>\n",
    "</div>"
   ]
  },
  {
   "cell_type": "markdown",
   "metadata": {
    "slideshow": {
     "slide_type": "subslide"
    },
    "tags": []
   },
   "source": [
    "## File I/O and the `with` statement\n",
    "A common pattern in Python is\n",
    "\n",
    "```\n",
    "1. Try to open a file; if that works,\n",
    "   2. Read from or write to the file\n",
    "   3. Close the file\n",
    "```\n",
    "\n",
    "This pattern is so common that Python provides a statement to simplify this: the `with` statement does everything!"
   ]
  },
  {
   "cell_type": "code",
   "execution_count": null,
   "metadata": {
    "scrolled": true
   },
   "outputs": [],
   "source": [
    "with open(\"../static/popular_dog_names.txt\", \"r\") as input_file:\n",
    "    all_lines = input_file.readlines()\n",
    "    print(f\"The file contains {len(all_lines)} lines of data.\")\n",
    "    print(f\"The first line is '{all_lines[0]}'\")\n",
    "    print(f\"The last line is '{all_lines[-1]}'\")"
   ]
  },
  {
   "cell_type": "markdown",
   "metadata": {},
   "source": [
    "At the end of the `with` clause, the file is closed.\n",
    "\n",
    "You can use `with` for more than just file I/O. For all this to work, the object created in the `with` statement must have the methods `__enter__()` and `__exit__()`. See the documentation [here](https://docs.python.org/3/reference/compound_stmts.html#with)."
   ]
  },
  {
   "cell_type": "markdown",
   "metadata": {},
   "source": [
    "<a style=\"background-color: #e2e6e6; color: black !important; text-decoration: none; padding: 1em 2em; margin-top: 2em; margin-right: 0.5em; border-radius: 0.5em; display: inline-block; font-weight: bold;\" href=\"./07_flow_control.ipynb\">&larr;&nbsp;Previous notebook</a>\n",
    "<a style=\"background-color: #be0000; color: white !important; text-decoration: none; padding: 1em 2em; margin-top: 2em; border-radius: 0.5em; display: inline-block; font-weight: bold;\" href=\"./09_looping.ipynb\">Next notebook&nbsp;&rarr;</a>"
   ]
  }
 ],
 "metadata": {
  "kernelspec": {
   "display_name": "Python 3 (ipykernel)",
   "language": "python",
   "name": "python3"
  },
  "language_info": {
   "codemirror_mode": {
    "name": "ipython",
    "version": 3
   },
   "file_extension": ".py",
   "mimetype": "text/x-python",
   "name": "python",
   "nbconvert_exporter": "python",
   "pygments_lexer": "ipython3",
   "version": "3.12.9"
  },
  "toc-autonumbering": false,
  "toc-showmarkdowntxt": false,
  "toc-showtags": false
 },
 "nbformat": 4,
 "nbformat_minor": 4
}
