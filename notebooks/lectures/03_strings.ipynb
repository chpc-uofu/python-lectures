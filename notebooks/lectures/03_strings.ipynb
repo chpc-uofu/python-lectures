{
 "cells": [
  {
   "cell_type": "markdown",
   "metadata": {
    "slideshow": {
     "slide_type": "slide"
    }
   },
   "source": [
    "<img src=\"../../images/strings.svg\" style=\"width: 5em;\" />\n",
    "\n",
    "# Strings\n",
    "\n",
    "* A string is a sequence of characters enclosed in single quotes like `'…'` or double quotes like `\"…\"`\n",
    "  * The quotation marks themselves are not part of the string\n",
    "* \"Short\" strings fit onto one line, like `\"here is a string\"`\n",
    "* \"Long\" strings don't fit on one line, and are enclosed in triple quotes, `\"\"\"` and `\"\"\"`"
   ]
  },
  {
   "cell_type": "code",
   "execution_count": null,
   "metadata": {
    "editable": true,
    "slideshow": {
     "slide_type": ""
    },
    "tags": []
   },
   "outputs": [],
   "source": [
    "s1 = 'Here is a short string.'\n",
    "\n",
    "s2 = \"Here's another short string. Note that it contains a single quote (an apostrophe).\"\n",
    "\n",
    "s3 = 'Here\\'s another short string. It contains a single quote, but it has been \"escaped\" so it doesn\\'t end the string.'\n",
    "\n",
    "s4 = \"\"\"This is a long string.\n",
    "Its content includes multiple lines of text.\"\"\"\n",
    "\n",
    "print(s1 + s2 + s3)\n",
    "print(s4)"
   ]
  },
  {
   "cell_type": "markdown",
   "metadata": {
    "editable": true,
    "slideshow": {
     "slide_type": "slide"
    },
    "tags": []
   },
   "source": [
    "## Strings have some useful operators and methods"
   ]
  },
  {
   "cell_type": "code",
   "execution_count": null,
   "metadata": {},
   "outputs": [],
   "source": [
    "# You can multiply and add them:\n",
    "s1 = \"abc-\" * 3 + \"xyz\"\n",
    "print(\"s1:\", s1)\n",
    "\n",
    "# You can split them by some delimiter character using the string's split method:\n",
    "print(\"s1 split by - characters:\", s1.split(\"-\"))\n",
    "print(\"s1 converted to uppercase:\", s1.upper())\n",
    "\n",
    "# Strings have a length:\n",
    "print(\"s1 is\", len(s1), \"characters long\")\n",
    "print(\"s1 contains\", s1.count('a'), \"a characters\")"
   ]
  },
  {
   "cell_type": "code",
   "execution_count": null,
   "metadata": {},
   "outputs": [],
   "source": [
    "# help on class str shows all the methods available:\n",
    "help(str)"
   ]
  },
  {
   "cell_type": "code",
   "execution_count": null,
   "metadata": {},
   "outputs": [],
   "source": [
    "# You can also reveal the object's methods with the Tab key in a Jupyter Notebook:\n",
    "s1."
   ]
  },
  {
   "cell_type": "markdown",
   "metadata": {},
   "source": [
    "For more on strings, see the [Python documentation](https://docs.python.org/3/tutorial/introduction.html#strings)."
   ]
  },
  {
   "cell_type": "markdown",
   "metadata": {},
   "source": [
    "## f-strings\n",
    "f-strings provide a simple way to format text, and were introduced in Python version 3.6. f-strings are convenient, easy to read, and fast."
   ]
  },
  {
   "cell_type": "code",
   "execution_count": null,
   "metadata": {},
   "outputs": [],
   "source": [
    "# f-strings are an easy way to format text.\n",
    "version_number = 3.6\n",
    "s4 = f\"It's easy to format text with f-strings, which were added in Python {version_number}.\"\n",
    "print(s4)\n",
    "\n",
    "role = \"student\"\n",
    "organization = \"the University of Utah\"\n",
    "print(f\"I am a {role} at {organization}.\")"
   ]
  },
  {
   "cell_type": "markdown",
   "metadata": {},
   "source": [
    "Any Python expression can appear within the curly braces; you can call functions, use operators, and so on. More information on formatting is available on the [Python documentation](https://docs.python.org/3/tutorial/inputoutput.html)."
   ]
  },
  {
   "cell_type": "markdown",
   "metadata": {},
   "source": [
    "<a style=\"background-color: #e2e6e6; color: black !important; text-decoration: none; padding: 1em 2em; margin-top: 2em; margin-right: 0.5em; border-radius: 0.5em; display: inline-block; font-weight: bold;\" href=\"./02_operators.ipynb\">Previous notebook</a>\n",
    "<a style=\"background-color: #be0000; color: white !important; text-decoration: none; padding: 1em 2em; margin-top: 2em; border-radius: 0.5em; display: inline-block; font-weight: bold;\" href=\"./04_lists.ipynb\">Next notebook</a>"
   ]
  }
 ],
 "metadata": {
  "kernelspec": {
   "display_name": "Python 3 (ipykernel)",
   "language": "python",
   "name": "python3"
  },
  "language_info": {
   "codemirror_mode": {
    "name": "ipython",
    "version": 3
   },
   "file_extension": ".py",
   "mimetype": "text/x-python",
   "name": "python",
   "nbconvert_exporter": "python",
   "pygments_lexer": "ipython3",
   "version": "3.13.2"
  },
  "toc-autonumbering": false,
  "toc-showmarkdowntxt": false,
  "toc-showtags": false
 },
 "nbformat": 4,
 "nbformat_minor": 4
}
