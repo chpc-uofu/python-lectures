{
 "cells": [
  {
   "cell_type": "markdown",
   "metadata": {
    "slideshow": {
     "slide_type": "slide"
    },
    "tags": []
   },
   "source": [
    "<img src=\"../../images/classes.svg\" style=\"width: 5em;\" />\n",
    "\n",
    "# Classes\n",
    "\n",
    "* A class is the definition of a data type\n",
    "* **Every** object in Python belongs to a class\n",
    "* Each class is a collection of data values and methods\n",
    "* A single object that belongs to a class is an *instance* of that class\n",
    "* Classes provide\n",
    "  * a namespace inside which your code is isolated from outside complexity \n",
    "  * a mechanism for code reuse through *inheritance* (more on this later)"
   ]
  },
  {
   "cell_type": "markdown",
   "metadata": {
    "jp-MarkdownHeadingCollapsed": true,
    "tags": []
   },
   "source": [
    "## Creating new instances of a class\n",
    "When a class is defined, Python creates a function with the same name as the class, and that function creates new objects belonging to that class. For example, the function `list()` creates new `list` objects. Typically, the arguments to that function provide the data that is stored within the new object. Initializing the new object with that data is handled by a special method named `__init__()`.\n",
    "\n",
    "When we write the code for our own classes we need to provide that `__init__()` method to do the initialization, and it looks like this:"
   ]
  },
  {
   "cell_type": "markdown",
   "metadata": {
    "slideshow": {
     "slide_type": "subslide"
    }
   },
   "source": [
    "## Class example\n",
    "Let's write a simple class that represents a person:"
   ]
  },
  {
   "cell_type": "code",
   "execution_count": null,
   "metadata": {},
   "outputs": [],
   "source": [
    "class Person:\n",
    "    \"This class represents a person. (This is the docstring for the whole class.)\"\n",
    "    def __init__(self, first_name, last_name, year_of_birth):\n",
    "        \"Initialization method of the class Person. (This is the docstring for this method.)\"\n",
    "        self.first_name = first_name\n",
    "        self.last_name = last_name\n",
    "        self.year_of_birth = year_of_birth\n",
    "\n",
    "\n",
    "p = Person(\"George\", \"Washington\", 1732)  # Creating an instance of class Person by calling the Person() function.\n",
    "print(p.first_name)\n",
    "print(type(p))\n",
    "print(p)"
   ]
  },
  {
   "cell_type": "markdown",
   "metadata": {},
   "source": [
    "Note the first argument to the `__init__()` method: `self`. Every method (with the exception of [staticmethods](https://docs.python.org/3/library/functions.html#staticmethod), not discussed here) will have an argument like this, and that argument refers to the object that is getting initialized or otherwise operated on by the method."
   ]
  },
  {
   "cell_type": "markdown",
   "metadata": {
    "slideshow": {
     "slide_type": "subslide"
    },
    "tags": []
   },
   "source": [
    "## Special class methods\n",
    "Objects have a variety of special methods that are called behind the scenes:\n",
    "* `__init__()`: class constructor, or initializer\n",
    "* `__str__()`: provides string representation of object, used when printing an object\n",
    "* `__lt__()`: required for the `<` operator, used when comparing objects for sorting\n",
    "* `__add__()`: required for the `+` operator\n",
    "* `__del__()`: class deconstructor. Called during garbage collection, or when using `del`\n",
    "* `__enter__()`: Context manager enter function, used by `with` statement\n",
    "* `__exit__()`: Conect manager exit function, used by `with` statement\n",
    "* `__iter__()`: Required for an object to be an iterator\n",
    "* `__next__()`: Required for an object to be an iterator\n",
    "\n",
    "`__enter__` and `__exit__` are not provided; you need to write these if you intend to use your object in a `with` statement.\n",
    "\n",
    "`__iter__` and `__next__` are not provided; you must write these if you intend to use your object as an iterator.\n",
    "\n",
    "These methods are all detailed [on the Python documentation](https://docs.python.org/3.7/reference/datamodel.html#special-method-names).\n",
    "\n",
    "Let's improve on our `Person` class:"
   ]
  },
  {
   "cell_type": "code",
   "execution_count": null,
   "metadata": {
    "scrolled": true,
    "slideshow": {
     "slide_type": "subslide"
    }
   },
   "outputs": [],
   "source": [
    "import time\n",
    "\n",
    "\n",
    "class Person:\n",
    "    \"Here's an improved Person example.\"\n",
    "    def __init__(\n",
    "        self,  # This is a required argument!\n",
    "        first_name,\n",
    "        last_name,\n",
    "        year_of_birth\n",
    "    ):\n",
    "        \"Constructor method of the class Person. (This is the docstring for this method.)\"\n",
    "        self.first_name = first_name\n",
    "        self.last_name = last_name\n",
    "        self.year_of_birth = year_of_birth\n",
    "\n",
    "    def __str__(self):\n",
    "        \"Returns the string representation of the object\"\n",
    "        return f\"{self.last_name}, {self.first_name}: born {self.year_of_birth}\"\n",
    "\n",
    "    def __lt__(self, other):\n",
    "        \"Used to compare this Person object with another Person object for sorting.\"\n",
    "        return self.last_name < other.last_name\n",
    "    \n",
    "    def approximate_age(self):\n",
    "        \"Returns person's (approximate) age in years\"\n",
    "        # Calculate the current year.\n",
    "        current_year = time.localtime(time.time()).tm_year\n",
    "        # Calculate this person's age by subtracting the year they were born from\n",
    "        # the current year. (Not exactly right, but close enough for our purposes.)\n",
    "        return current_year - self.year_of_birth\n",
    "\n",
    "\n",
    "rockstars = [\n",
    "    Person(\"Lou\",   \"Reed\",  1942),\n",
    "    Person(\"Iggy\",  \"Pop\",   1947),\n",
    "    Person(\"David\", \"Bowie\", 1947)\n",
    "]\n",
    "rockstars.sort()\n",
    "\n",
    "for musician in rockstars:\n",
    "    print(f\"{musician}, (approximate) age {musician.approximate_age()} years\")"
   ]
  },
  {
   "cell_type": "markdown",
   "metadata": {},
   "source": [
    "How does this work? The lines with `Person(…)` inside of the `rockstars` list call the `__init__()` function of the `Person` class. Here, we create a few different *instances* of the class:\n",
    "\n",
    "<code style=\"line-height: 2em; color: black !important;\">\n",
    "<div style=\"display: inline-block; border: 0.1em solid #be0000; border-left: 0.2em solid #be0000; margin: 0.2em 0; background-color: #fff5f5; box-sizing: border-box; border-radius: 0.2em;\"><div style=\"width: 100%; padding: 1em; box-sizing: border-box; background-color: #be0000; color: #ffffff;\">Person</div><div style=\"padding: 1em;\">def <span style=\"border-left: 0.2em solid #be0000; background-color: #ffc9c9; border-radius: 0.2em; padding: 0.1em 0.2em;\">__init__</span>(<span style=\"border-left: 0.2em dashed #228be6; background-color: #a5d8ff; border-radius: 0.2em; padding: 0.1em 0.2em;\">self</span>, …): <span style=\"border: 0.1em solid #228be6; border-left: 0.2em dashed #228be6; margin: 0.2em 0; background-color: #e7f5ff; padding: 0.1em 0.2em; border-radius: 0.2em;\">…</span>\n",
    "def <span style=\"border-left: 0.2em solid #be0000; background-color: #ffc9c9; border-radius: 0.2em; padding: 0.1em 0.2em;\">__str__</span>(<span style=\"border-left: 0.2em dashed #228be6; background-color: #a5d8ff; border-radius: 0.2em; padding: 0.1em 0.2em;\">self</span>): <span style=\"border: 0.1em solid #228be6; border-left: 0.2em dashed #228be6; margin: 0.2em 0; background-color: #e7f5ff; padding: 0.1em 0.2em; border-radius: 0.2em;\">…</span>\n",
    "def <span style=\"border-left: 0.2em solid #be0000; background-color: #ffc9c9; border-radius: 0.2em; padding: 0.1em 0.2em;\">__lt__</span>(<span style=\"border-left: 0.2em dashed #228be6; background-color: #a5d8ff; border-radius: 0.2em; padding: 0.1em 0.2em;\">self</span>, …): <span style=\"border: 0.1em solid #228be6; border-left: 0.2em dashed #228be6; margin: 0.2em 0; background-color: #e7f5ff; padding: 0.1em 0.2em; border-radius: 0.2em;\">…</span>\n",
    "def <span style=\"border-left: 0.2em solid #be0000; background-color: #ffc9c9; border-radius: 0.2em; padding: 0.1em 0.2em;\">approximate_age</span>(<span style=\"border-left: 0.2em dashed #228be6; background-color: #a5d8ff; border-radius: 0.2em; padding: 0.1em 0.2em;\">self</span>): <span style=\"border: 0.1em solid #228be6; border-left: 0.2em dashed #228be6; margin: 0.2em 0; background-color: #e7f5ff; padding: 0.1em 0.2em; border-radius: 0.2em;\">…</span>\n",
    "<span style=\"border-left: 0.2em solid #be0000; background-color: #ffc9c9; border-radius: 0.2em; padding: 0.1em 0.2em;\">first_name</span> = \"Lou\"\n",
    "<span style=\"border-left: 0.2em solid #be0000; background-color: #ffc9c9; border-radius: 0.2em; padding: 0.1em 0.2em;\">last_name</span> = \"Reed\"\n",
    "<span style=\"border-left: 0.2em solid #be0000; background-color: #ffc9c9; border-radius: 0.2em; padding: 0.1em 0.2em;\">year_of_birth</span> = 1942</div></div>\n",
    "<div style=\"display: inline-block; border: 0.1em solid #be0000; border-left: 0.2em solid #be0000; margin: 0.2em 0; background-color: #fff5f5; box-sizing: border-box; border-radius: 0.2em;\"><div style=\"width: 100%; padding: 1em; box-sizing: border-box; background-color: #be0000; color: #ffffff;\">Person</div><div style=\"padding: 1em;\">def <span style=\"border-left: 0.2em solid #be0000; background-color: #ffc9c9; border-radius: 0.2em; padding: 0.1em 0.2em;\">__init__</span>(<span style=\"border-left: 0.2em dashed #228be6; background-color: #a5d8ff; border-radius: 0.2em; padding: 0.1em 0.2em;\">self</span>, …): <span style=\"border: 0.1em solid #228be6; border-left: 0.2em dashed #228be6; margin: 0.2em 0; background-color: #e7f5ff; padding: 0.1em 0.2em; border-radius: 0.2em;\">…</span>\n",
    "def <span style=\"border-left: 0.2em solid #be0000; background-color: #ffc9c9; border-radius: 0.2em; padding: 0.1em 0.2em;\">__str__</span>(<span style=\"border-left: 0.2em dashed #228be6; background-color: #a5d8ff; border-radius: 0.2em; padding: 0.1em 0.2em;\">self</span>): <span style=\"border: 0.1em solid #228be6; border-left: 0.2em dashed #228be6; margin: 0.2em 0; background-color: #e7f5ff; padding: 0.1em 0.2em; border-radius: 0.2em;\">…</span>\n",
    "def <span style=\"border-left: 0.2em solid #be0000; background-color: #ffc9c9; border-radius: 0.2em; padding: 0.1em 0.2em;\">__lt__</span>(<span style=\"border-left: 0.2em dashed #228be6; background-color: #a5d8ff; border-radius: 0.2em; padding: 0.1em 0.2em;\">self</span>, …): <span style=\"border: 0.1em solid #228be6; border-left: 0.2em dashed #228be6; margin: 0.2em 0; background-color: #e7f5ff; padding: 0.1em 0.2em; border-radius: 0.2em;\">…</span>\n",
    "def <span style=\"border-left: 0.2em solid #be0000; background-color: #ffc9c9; border-radius: 0.2em; padding: 0.1em 0.2em;\">approximate_age</span>(<span style=\"border-left: 0.2em dashed #228be6; background-color: #a5d8ff; border-radius: 0.2em; padding: 0.1em 0.2em;\">self</span>): <span style=\"border: 0.1em solid #228be6; border-left: 0.2em dashed #228be6; margin: 0.2em 0; background-color: #e7f5ff; padding: 0.1em 0.2em; border-radius: 0.2em;\">…</span>\n",
    "<span style=\"border-left: 0.2em solid #be0000; background-color: #ffc9c9; border-radius: 0.2em; padding: 0.1em 0.2em;\">first_name</span> = \"Iggy\"\n",
    "<span style=\"border-left: 0.2em solid #be0000; background-color: #ffc9c9; border-radius: 0.2em; padding: 0.1em 0.2em;\">last_name</span> = \"Pop\"\n",
    "<span style=\"border-left: 0.2em solid #be0000; background-color: #ffc9c9; border-radius: 0.2em; padding: 0.1em 0.2em;\">year_of_birth</span> = 1947</div></div>\n",
    "<div style=\"display: inline-block; border: 0.1em solid #be0000; border-left: 0.2em solid #be0000; margin: 0.2em 0; background-color: #fff5f5; box-sizing: border-box; border-radius: 0.2em;\"><div style=\"width: 100%; padding: 1em; box-sizing: border-box; background-color: #be0000; color: #ffffff;\">Person</div><div style=\"padding: 1em;\">def <span style=\"border-left: 0.2em solid #be0000; background-color: #ffc9c9; border-radius: 0.2em; padding: 0.1em 0.2em;\">__init__</span>(<span style=\"border-left: 0.2em dashed #228be6; background-color: #a5d8ff; border-radius: 0.2em; padding: 0.1em 0.2em;\">self</span>, …): <span style=\"border: 0.1em solid #228be6; border-left: 0.2em dashed #228be6; margin: 0.2em 0; background-color: #e7f5ff; padding: 0.1em 0.2em; border-radius: 0.2em;\">…</span>\n",
    "def <span style=\"border-left: 0.2em solid #be0000; background-color: #ffc9c9; border-radius: 0.2em; padding: 0.1em 0.2em;\">__str__</span>(<span style=\"border-left: 0.2em dashed #228be6; background-color: #a5d8ff; border-radius: 0.2em; padding: 0.1em 0.2em;\">self</span>): <span style=\"border: 0.1em solid #228be6; border-left: 0.2em dashed #228be6; margin: 0.2em 0; background-color: #e7f5ff; padding: 0.1em 0.2em; border-radius: 0.2em;\">…</span>\n",
    "def <span style=\"border-left: 0.2em solid #be0000; background-color: #ffc9c9; border-radius: 0.2em; padding: 0.1em 0.2em;\">__lt__</span>(<span style=\"border-left: 0.2em dashed #228be6; background-color: #a5d8ff; border-radius: 0.2em; padding: 0.1em 0.2em;\">self</span>, …): <span style=\"border: 0.1em solid #228be6; border-left: 0.2em dashed #228be6; margin: 0.2em 0; background-color: #e7f5ff; padding: 0.1em 0.2em; border-radius: 0.2em;\">…</span>\n",
    "def <span style=\"border-left: 0.2em solid #be0000; background-color: #ffc9c9; border-radius: 0.2em; padding: 0.1em 0.2em;\">approximate_age</span>(<span style=\"border-left: 0.2em dashed #228be6; background-color: #a5d8ff; border-radius: 0.2em; padding: 0.1em 0.2em;\">self</span>): <span style=\"border: 0.1em solid #228be6; border-left: 0.2em dashed #228be6; margin: 0.2em 0; background-color: #e7f5ff; padding: 0.1em 0.2em; border-radius: 0.2em;\">…</span>\n",
    "<span style=\"border-left: 0.2em solid #be0000; background-color: #ffc9c9; border-radius: 0.2em; padding: 0.1em 0.2em;\">first_name</span> = \"David\"\n",
    "<span style=\"border-left: 0.2em solid #be0000; background-color: #ffc9c9; border-radius: 0.2em; padding: 0.1em 0.2em;\">last_name</span> = \"Bowie\"\n",
    "<span style=\"border-left: 0.2em solid #be0000; background-color: #ffc9c9; border-radius: 0.2em; padding: 0.1em 0.2em;\">year_of_birth</span> = 1947</div></div></code>\n",
    "\n",
    "These are bundles of methods (functions) and data. When we loop through the `rockstars` list (`for musician in rockstars`), we are addressing each of the instances we created, one by one; in the example, we call the `approximate_age()` method of each instance. Notably, we didn't need to pass it any arguments, even though the function is defined as `approximate_age(self)`. The first argument to a method like this is the object itself, and since we called this function as `musician.approximate_age()`, Python knows that `self` is `musician` here. This is a quirk of the language and its object-oriented nature, and it will take some time to learn. With practice, you won't need to think twice about it.\n",
    "\n",
    "The variable `self` could actually be named something else entirely; however, [the name `self` is used in this context by convention](https://docs.python.org/3/tutorial/controlflow.html#intermezzo-coding-style), and almost all Python programmers use it.\n",
    "\n",
    "Classes are probably confusing if you haven't used an object-oriented language before, but they are very powerful tools. We recommend [reading the Python tutorial on classes](https://docs.python.org/3/tutorial/classes.html) to learn more."
   ]
  },
  {
   "cell_type": "markdown",
   "metadata": {},
   "source": [
    "<a style=\"background-color: #e2e6e6; color: black !important; text-decoration: none; padding: 1em 2em; margin-top: 2em; margin-right: 0.5em; border-radius: 0.5em; display: inline-block; font-weight: bold;\" href=\"./14_exceptions.ipynb\">Previous notebook</a>\n",
    "<a style=\"background-color: #be0000; color: white !important; text-decoration: none; padding: 1em 2em; margin-top: 2em; border-radius: 0.5em; display: inline-block; font-weight: bold;\" href=\"./16_inheritance.ipynb\">Next notebook</a>"
   ]
  }
 ],
 "metadata": {
  "kernelspec": {
   "display_name": "Python 3 (ipykernel)",
   "language": "python",
   "name": "python3"
  },
  "language_info": {
   "codemirror_mode": {
    "name": "ipython",
    "version": 3
   },
   "file_extension": ".py",
   "mimetype": "text/x-python",
   "name": "python",
   "nbconvert_exporter": "python",
   "pygments_lexer": "ipython3",
   "version": "3.13.2"
  },
  "toc-autonumbering": false,
  "toc-showmarkdowntxt": false,
  "toc-showtags": false
 },
 "nbformat": 4,
 "nbformat_minor": 4
}
