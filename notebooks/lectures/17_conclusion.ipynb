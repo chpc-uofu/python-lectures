{
 "cells": [
  {
   "cell_type": "markdown",
   "metadata": {},
   "source": [
    "<img src=\"../../images/thanks.svg\" style=\"width: 5em;\" />\n",
    "\n",
    "# Wrapping up\n",
    "\n",
    "We've made it to the end of the course!"
   ]
  },
  {
   "cell_type": "markdown",
   "metadata": {},
   "source": [
    "## What *haven't* we discussed?\n",
    "* Creating iterators and generators (see more_on_iterators.ipynb)\n",
    "* Decorators (touched on here: https://github.com/bmilash/dataclasses-and-yaml)\n",
    "* Type checking in Python ([good article here](https://realpython.com/python-type-checking))\n",
    "* IDEs (integrated development environments)\n",
    "* Debugging\n",
    "* Benchmarking\n",
    "* Unit testing\n",
    "* Defining functions using `*args` and `**kwargs`\n",
    "* Parallel programming"
   ]
  },
  {
   "cell_type": "markdown",
   "metadata": {
    "slideshow": {
     "slide_type": "slide"
    },
    "tags": []
   },
   "source": [
    "## Programming advice\n",
    "* Don't rely on the operating system's Python; it's old, and you don't control it\n",
    "    * At the CHPC, load a `python` module with, for example, `module load python/3.10.3`\n",
    "* Use Python 3; Python 2 support ended on January 1, 2020\n",
    "* When editing, save early and save often\n",
    "* Save versions of your scripts with [Git](https://www.chpc.utah.edu/documentation/software/git-scm.php) locally, and ideally into a remote software repository\n",
    "* Write test code and consider using testing frameworks\n",
    "* Learn to use a debugger ([pdb](https://docs.python.org/3/library/pdb.html), [PyCharm](https://www.jetbrains.com/pycharm/), [IDLE](https://docs.python.org/3.10/library/idle.html), [Jupyter Lab](https://jupyterlab.readthedocs.io/en/stable/user/debugger.html), [VSCode](https://www.chpc.utah.edu/documentation/software/vscode.php)); this can be much quicker than `print()` statements!"
   ]
  },
  {
   "cell_type": "markdown",
   "metadata": {
    "slideshow": {
     "slide_type": "slide"
    },
    "tags": []
   },
   "source": [
    "## Resources\n",
    "* Python Tutorial: https://docs.python.org/3/tutorial/index.html\n",
    "* Python Standard Library: https://docs.python.org/3/library/index.html\n",
    "* PyCon: excellent meeting! \n",
    "  - https://us.pycon.org\n",
    "  - YouTube channel: https://www.youtube.com/@PyConUS\n",
    "\n",
    "## Questions?\n",
    "Please contact us at helpdesk@chpc.utah.edu if you have any questions.\n",
    "\n",
    "**Have fun coding, and thank you for attending!**"
   ]
  },
  {
   "cell_type": "markdown",
   "metadata": {},
   "source": [
    "<a style=\"background-color: #e2e6e6; color: black !important; text-decoration: none; padding: 1em 2em; margin-top: 2em; margin-right: 0.5em; border-radius: 0.5em; display: inline-block; font-weight: bold;\" href=\"./16_inheritance.ipynb\">Previous notebook</a>"
   ]
  }
 ],
 "metadata": {
  "kernelspec": {
   "display_name": "Python 3 (ipykernel)",
   "language": "python",
   "name": "python3"
  },
  "language_info": {
   "codemirror_mode": {
    "name": "ipython",
    "version": 3
   },
   "file_extension": ".py",
   "mimetype": "text/x-python",
   "name": "python",
   "nbconvert_exporter": "python",
   "pygments_lexer": "ipython3",
   "version": "3.13.2"
  },
  "toc-autonumbering": false,
  "toc-showmarkdowntxt": false,
  "toc-showtags": false
 },
 "nbformat": 4,
 "nbformat_minor": 4
}
