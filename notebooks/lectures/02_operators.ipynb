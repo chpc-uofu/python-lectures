{
 "cells": [
  {
   "cell_type": "markdown",
   "metadata": {
    "slideshow": {
     "slide_type": "slide"
    },
    "tags": []
   },
   "source": [
    "<img src=\"../../images/operators.svg\" style=\"width: 5em;\" />\n",
    "\n",
    "# Operators\n",
    "\n",
    "Python has all the operators you typically find in a programming language. **We will use most of these as we learn more about the language, so you don't need to try to memorize them now.**\n",
    "\n",
    "* Assignment operator `=`\n",
    "* Arithmetic operators `+`, `-`, `*`, `/`, `+=`, `-=`, `*=`, `/=`, `**` (exponentiation), `%` (modulo), and `//` (floor division)\n",
    "* Comparison operators `==`, `!=`, `<`, `>`, `<=`, and `>=`\n",
    "* Logical operators `and`, `or`, and `not`\n",
    "  * the `and` and `or` operators use [short-circuit evaluation](https://en.wikipedia.org/wiki/Short-circuit_evaluation)\n",
    "* Operator precedence with parentheses `(` and `)` (see https://docs.python.org/3/reference/expressions.html#operator-precedence)\n",
    "* Identity/membership operators: `is` and `in`\n",
    "* Bitwise operators `<<` (left shift), `>>` (right shift), `|` (bitwise or), `&` (bitwise and), and `^` (complement)\n",
    "* Assignment expressions with `:=`  (new in Python 3.8; see [the release notes](https://docs.python.org/3/whatsnew/3.8.html))\n",
    "\n",
    "<div style=\"margin-top: 1em; border-radius: 0.5em; box-shadow: 0 0 0.5em #ced4da; display: flex; flex-wrap: nowrap; overflow: hidden;\">\n",
    "  <div style=\"background-color: #be0000; width: 10%; flex-shrink: 0; display: flex; justify-content: center; align-items: center;\"><img src=\"../../images/documentation.svg\" style=\"width: 100%; height: auto; max-height: 100%; object-fit: contain; display: block;\"></div>\n",
    "  <div style=\"padding: 1.5em;\">\n",
    "    <p style=\"font-weight: bold; margin: 0; font-size: 1.2em; color: #be0000;\">Documentation</p>\n",
    "    <p style=\"margin: 0;\">A list of operators is available on the Python documentation.</p>\n",
    "    <a style=\"background-color: #be0000; color: white !important; text-decoration: none; padding: 0.5em 1em; margin-top: 1em; margin-bottom: 0; border-radius: 0.25em; display: inline-block; font-weight: bold;\" href=\"https://docs.python.org/3/library/stdtypes.html\">Read more about operators&nbsp;&rarr;</a>\n",
    "  </div>\n",
    "</div>"
   ]
  },
  {
   "cell_type": "markdown",
   "metadata": {},
   "source": [
    "<a style=\"background-color: #e2e6e6; color: black !important; text-decoration: none; padding: 1em 2em; margin-top: 2em; margin-bottom: 2em; margin-right: 0.5em; border-radius: 0.5em; display: inline-block; font-weight: bold;\" href=\"./01_types_literals_variables.ipynb\">Previous notebook</a>\n",
    "<a style=\"background-color: #be0000; color: white !important; text-decoration: none; padding: 1em 2em; margin-top: 2em; margin-bottom: 2em; border-radius: 0.5em; display: inline-block; font-weight: bold;\" href=\"./03_strings.ipynb\">Next notebook</a>"
   ]
  },
  {
   "cell_type": "markdown",
   "metadata": {
    "jp-MarkdownHeadingCollapsed": true
   },
   "source": [
    "## Supplemental material: Examples of using operators in practice\n",
    "\n",
    "The examples below use features of Python that we haven't seen yet. We'll learn more about operators as we use them, but if you're not sure what they're used for, looking at some of the examples here may help contextualize them."
   ]
  },
  {
   "cell_type": "code",
   "execution_count": null,
   "metadata": {},
   "outputs": [],
   "source": [
    "# Assignment\n",
    "my_variable = 12345"
   ]
  },
  {
   "cell_type": "code",
   "execution_count": null,
   "metadata": {},
   "outputs": [],
   "source": [
    "# Arithmetic operators\n",
    "my_variable = 1 + 1    # similar for - (subtraction), * (multiplication), / (division)\n",
    "my_variable += 1       # similar for -= (subtract from current value), *= (multiply current value by), /= (divide current value by)\n",
    "#           ^ shorthand for my_variable = my_variable + 1\n",
    "my_variable = 5**2\n",
    "my_variable = 23 % 5   # 23 / 5 = 4 remainder 3, and % keeps only the remainder, so 23 % 5 is 3\n",
    "my_variable = 23 // 5  # 23 / 5 = 4 remainder 3, and // drops the remainder, so 23 // 5 is 4"
   ]
  },
  {
   "cell_type": "code",
   "execution_count": null,
   "metadata": {},
   "outputs": [],
   "source": [
    "# Comparison operators\n",
    "my_variable = True and True       # True and True == True\n",
    "my_variable = True and not False  # True and (True) == True\n",
    "my_variable = True or not True    # True or (False) == True\n",
    "# See https://en.wikipedia.org/wiki/Boolean_algebra#Basic_operations for more information\n",
    "\n",
    "def infinite_loop():\n",
    "    while True:\n",
    "        pass\n",
    "\n",
    "my_variable = True or infinite_loop()  # This has been \"short-circuited\" to True because \"True or …\" will always be True\n",
    "                                       # The infinite loop never runs"
   ]
  },
  {
   "cell_type": "code",
   "execution_count": null,
   "metadata": {},
   "outputs": [],
   "source": [
    "# Bitwise operators\n",
    "# Unless you know you will be working with individual bits, you can likely ignore these altogether\n",
    "# Most new Python users, and perhaps most Python users more generally, do not need to know how to use bitwise operators\n",
    "my_variable = 1 << 5   # 1 * 2**5 = 32\n",
    "my_variable = 64 >> 1  # 64 // 2**1 = 32\n",
    "my_variable = 1 | 1    # 1 or 1 = 1\n",
    "my_variable = 1 & 1    # 1 and 1 = 1\n",
    "my_variable = 1 ^ 1    # 1 xor 1 = 0 (exclusive or)"
   ]
  },
  {
   "cell_type": "code",
   "execution_count": null,
   "metadata": {},
   "outputs": [],
   "source": [
    "my_variable = \"hello\"\n",
    "my_variable = \"h\" in my_variable  # \"h\" is in \"hello\", so this is True\n",
    "\n",
    "# Be careful! \"is\" tests whether two objects are the exact same object\n",
    "# Use == to test for equality\n",
    "a = (1,)\n",
    "b = (1,)\n",
    "print(\"a:\", a)\n",
    "print(\"b:\", b)\n",
    "print(\"a is b:\", a is b)\n",
    "print(\"a == b:\", a == b)\n",
    "print(\"id(a):\", id(a))\n",
    "print(\"id(b):\", id(b))\n",
    "\n",
    "b = a\n",
    "print(\"a:\", a)\n",
    "print(\"b:\", b)\n",
    "print(\"a is b:\", a is b)\n",
    "print(\"a == b:\", a == b)\n",
    "print(\"id(a):\", id(a))\n",
    "print(\"id(b):\", id(b))"
   ]
  },
  {
   "cell_type": "code",
   "execution_count": null,
   "metadata": {},
   "outputs": [],
   "source": [
    "my_variable = \"The quick brown fox jumps over the lazy dog\"\n",
    "\n",
    "# The walrus operator, :=, can be used to set a variable in the middle of an expression\n",
    "# It can make some scripts more concise, but it is never necessary to use the walrus operator (see example below*)\n",
    "if (index := my_variable.find(\"fox\")) != -1:  # -1 is the index .find() returns if there are no matches\n",
    "    print(my_variable[index:])\n",
    "\n",
    "# *This is identical to doing the following:\n",
    "index = my_variable.find(\"fox\")\n",
    "if index != -1:\n",
    "    print(my_variable[index:])\n",
    "\n",
    "# Note that parentheses are essential when using the walrus operator:\n",
    "if (a := True) and (b := False):\n",
    "    pass\n",
    "\n",
    "# Without the parentheses, Python doesn't know where the inline definition ends\n",
    "if a := True and b := False:\n",
    "    pass"
   ]
  },
  {
   "cell_type": "code",
   "execution_count": null,
   "metadata": {},
   "outputs": [],
   "source": [
    "# Operator precedence\n",
    "print(\"(2 * 3) + 1 is\", (2 * 3) + 1)\n",
    "print(\"2 * (3 + 1) is\", 2 * (3 + 1))"
   ]
  }
 ],
 "metadata": {
  "kernelspec": {
   "display_name": "Python 3 (ipykernel)",
   "language": "python",
   "name": "python3"
  },
  "language_info": {
   "codemirror_mode": {
    "name": "ipython",
    "version": 3
   },
   "file_extension": ".py",
   "mimetype": "text/x-python",
   "name": "python",
   "nbconvert_exporter": "python",
   "pygments_lexer": "ipython3",
   "version": "3.13.2"
  },
  "toc-autonumbering": false,
  "toc-showmarkdowntxt": false,
  "toc-showtags": false
 },
 "nbformat": 4,
 "nbformat_minor": 4
}
