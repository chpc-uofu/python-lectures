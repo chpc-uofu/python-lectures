{
 "cells": [
  {
   "cell_type": "markdown",
   "metadata": {
    "slideshow": {
     "slide_type": "slide"
    },
    "tags": []
   },
   "source": [
    "<img src=\"../../images/exceptions.svg\" style=\"width: 10em;\" />\n",
    "\n",
    "# Exceptions\n",
    "When something goes wrong, Python \"raises\" an `Exception` object."
   ]
  },
  {
   "cell_type": "code",
   "execution_count": null,
   "metadata": {},
   "outputs": [],
   "source": [
    "elements = {'H': 'hydrogen', 'He': 'helium', 'Li': 'lithium', 'Be': 'berylium'}\n",
    "elements"
   ]
  },
  {
   "cell_type": "code",
   "execution_count": null,
   "metadata": {},
   "outputs": [],
   "source": [
    "# Depending on the value of 'symbol' this code might raise an exception:\n",
    "for symbol in ('H', 'S'):\n",
    "    print(f\"The name of element {symbol} is {elements[symbol]}.\")"
   ]
  },
  {
   "cell_type": "code",
   "execution_count": null,
   "metadata": {},
   "outputs": [],
   "source": [
    "# Rather than testing \"if symbol in elements\", just wrap the code in a try / except statement:\n",
    "for symbol in ('H', 'S'):\n",
    "    try:\n",
    "        print(f\"The name of element {symbol} is {elements[symbol]}.\")\n",
    "    except KeyError:\n",
    "        print(f\"Symbol {symbol} not found in elements dictionary!\")"
   ]
  },
  {
   "cell_type": "markdown",
   "metadata": {
    "slideshow": {
     "slide_type": "subslide"
    }
   },
   "source": [
    "## Generic exceptions\n",
    "Python defines [lots of exceptions](https://docs.python.org/3/library/exceptions.html), but you may not know what kind of exception to handle, so you can do it \"generically\":"
   ]
  },
  {
   "cell_type": "code",
   "execution_count": null,
   "metadata": {},
   "outputs": [],
   "source": [
    "try:\n",
    "    quotient = 17 / 0\n",
    "except Exception as e:\n",
    "    print(f\"Whoa, just caught unexpected exception: {type(e)}, '{e}'!\")"
   ]
  },
  {
   "cell_type": "markdown",
   "metadata": {},
   "source": [
    "You can also define your own custom exceptions; we will discuss this later."
   ]
  },
  {
   "cell_type": "markdown",
   "metadata": {},
   "source": [
    "<a style=\"background-color: #e2e6e6; color: black !important; text-decoration: none; padding: 1em 2em; margin-top: 2em; margin-right: 0.5em; border-radius: 0.5em; display: inline-block; font-weight: bold;\" href=\"./13_dictionaries.ipynb\">&larr;&nbsp;Previous notebook</a>\n",
    "<a style=\"background-color: #be0000; color: white !important; text-decoration: none; padding: 1em 2em; margin-top: 2em; border-radius: 0.5em; display: inline-block; font-weight: bold;\" href=\"./15_classes.ipynb\">Next notebook&nbsp;&rarr;</a>"
   ]
  }
 ],
 "metadata": {
  "kernelspec": {
   "display_name": "Python 3 (ipykernel)",
   "language": "python",
   "name": "python3"
  },
  "language_info": {
   "codemirror_mode": {
    "name": "ipython",
    "version": 3
   },
   "file_extension": ".py",
   "mimetype": "text/x-python",
   "name": "python",
   "nbconvert_exporter": "python",
   "pygments_lexer": "ipython3",
   "version": "3.12.9"
  },
  "toc-autonumbering": false,
  "toc-showmarkdowntxt": false,
  "toc-showtags": false
 },
 "nbformat": 4,
 "nbformat_minor": 4
}
