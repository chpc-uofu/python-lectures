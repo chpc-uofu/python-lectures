{
 "cells": [
  {
   "cell_type": "markdown",
   "metadata": {
    "slideshow": {
     "slide_type": "slide"
    }
   },
   "source": [
    "<img src=\"../../images/tuples.svg\" style=\"width: 10em;\" />\n",
    "\n",
    "# Tuples\n",
    "* Tuples are immutable ordered collections of objects\n",
    "* The objects can be of various types\n",
    "* You can create them with the `(` and `)` symbols (**parentheses**), or with the `tuple()` function\n",
    "* Tuples are sequences, so we can\n",
    "   * iterate through them\n",
    "   * access elements by index"
   ]
  },
  {
   "cell_type": "code",
   "execution_count": null,
   "metadata": {},
   "outputs": [],
   "source": [
    "days_of_the_week = ('Sunday', 'Monday', 'Tuesday', 'Wednesday', 'Thursday', 'Friday', 'Saturday')\n",
    "print(f\"Day 6 is {days_of_the_week[6]}\")\n",
    "\n",
    "# Tuples are immutable! We can't change them.\n",
    "days_of_the_week[3] = 'Mittwoch'"
   ]
  },
  {
   "cell_type": "markdown",
   "metadata": {},
   "source": [
    "These are handy for returning multiple values from a function: `return (mean + sd, mean - sd)`\n",
    "\n",
    "One oddity about tuple syntax: A tuple with a single element must be defined using a comma, such as `(5,)`. The expression `(5)` is the same as `5`, whereas `(5,)` is a tuple with the single element `5`. In other words, a comma is necessary to initialize a tuple, as parentheses are used *both* to define operation precedence and to initialize tuples."
   ]
  },
  {
   "cell_type": "markdown",
   "metadata": {},
   "source": [
    "<a style=\"background-color: #e2e6e6; color: black !important; text-decoration: none; padding: 1em 2em; margin-top: 2em; margin-right: 0.5em; border-radius: 0.5em; display: inline-block; font-weight: bold;\" href=\"./11_sets.ipynb\">&larr;&nbsp;Previous notebook</a>\n",
    "<a style=\"background-color: #be0000; color: white !important; text-decoration: none; padding: 1em 2em; margin-top: 2em; border-radius: 0.5em; display: inline-block; font-weight: bold;\" href=\"./13_dictionaries.ipynb\">Next notebook&nbsp;&rarr;</a>"
   ]
  }
 ],
 "metadata": {
  "kernelspec": {
   "display_name": "Python 3 (ipykernel)",
   "language": "python",
   "name": "python3"
  },
  "language_info": {
   "codemirror_mode": {
    "name": "ipython",
    "version": 3
   },
   "file_extension": ".py",
   "mimetype": "text/x-python",
   "name": "python",
   "nbconvert_exporter": "python",
   "pygments_lexer": "ipython3",
   "version": "3.12.9"
  },
  "toc-autonumbering": false,
  "toc-showmarkdowntxt": false,
  "toc-showtags": false
 },
 "nbformat": 4,
 "nbformat_minor": 4
}
