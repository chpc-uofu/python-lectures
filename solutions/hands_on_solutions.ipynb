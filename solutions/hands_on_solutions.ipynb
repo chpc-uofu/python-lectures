{
 "cells": [
  {
   "cell_type": "markdown",
   "metadata": {
    "slideshow": {
     "slide_type": "slide"
    }
   },
   "source": [
    "## Exercise: Hello World function\n",
    "In the following cell, create a function named `hello_world()` that takes no arguments, prints `\"Hello, world!\"`, and doesn't return anything. Then, call your function."
   ]
  },
  {
   "cell_type": "code",
   "execution_count": null,
   "metadata": {},
   "outputs": [],
   "source": [
    "def hello_world():\n",
    "    print(\"Hello, world!\")\n",
    "hello_world()"
   ]
  },
  {
   "cell_type": "markdown",
   "metadata": {},
   "source": [
    "## Improved Hello World function"
   ]
  },
  {
   "cell_type": "code",
   "execution_count": null,
   "metadata": {},
   "outputs": [],
   "source": [
    "def hello_world(name=\"world\"):\n",
    "    print(f\"Hello, {name}!\")\n",
    "hello_world()\n",
    "hello_world(\"Bob\")"
   ]
  },
  {
   "cell_type": "markdown",
   "metadata": {
    "slideshow": {
     "slide_type": "slide"
    }
   },
   "source": [
    "## Exercise: Odd or Even function\n",
    "Create a function that takes one argument and returns the string `\"odd\"` or `\"even\"`, depending on whether the argument is an odd number or an even number. Assume for now that the argument is a positive integer."
   ]
  },
  {
   "cell_type": "code",
   "execution_count": null,
   "metadata": {},
   "outputs": [],
   "source": [
    "def odd_or_even(n):\n",
    "    if n % 2 == 0:\n",
    "        return \"even\"\n",
    "    else:\n",
    "        return \"odd\"\n",
    "\n",
    "print(f\"1 is {odd_or_even(1)}\")\n",
    "print(f\"26 is {odd_or_even(26)}\")"
   ]
  },
  {
   "cell_type": "code",
   "execution_count": null,
   "metadata": {},
   "outputs": [],
   "source": [
    "# How does this work? Hint: The square brackets are used for indexing here.\n",
    "def odd_or_even(n):\n",
    "    return (\"even\", \"odd\")[n % 2]\n",
    "\n",
    "print(f\"1 is {odd_or_even(1)}\")\n",
    "print(f\"26 is {odd_or_even(26)}\")"
   ]
  },
  {
   "cell_type": "markdown",
   "metadata": {
    "slideshow": {
     "slide_type": "slide"
    }
   },
   "source": [
    "## Exercise: Factorial function\n",
    "Create a function named `factorial()` that takes one argument, `n`, and returns $n!$ (that is, $n \\times (n - 1) \\times (n - 2) \\times \\ldots \\times 2 \\times 1$). Try implementing this as a recursive function (a function that calls itself). Make sure your code tests when to end the recursion!"
   ]
  },
  {
   "cell_type": "code",
   "execution_count": null,
   "metadata": {},
   "outputs": [],
   "source": [
    "def factorial(n):\n",
    "    \"Here is a factorial function that uses a for loop.\"\n",
    "    product = 1\n",
    "    for i in range(1, n + 1):\n",
    "        product *= i\n",
    "    return product\n",
    "factorial(3)"
   ]
  },
  {
   "cell_type": "code",
   "execution_count": null,
   "metadata": {},
   "outputs": [],
   "source": [
    "def factorial(n):\n",
    "    \"Here is a recursive implementation of factorial()\"\n",
    "    if n <= 1:\n",
    "        return 1\n",
    "    else:\n",
    "        return n * factorial(n - 1)\n",
    "\n",
    "factorial(8)"
   ]
  },
  {
   "cell_type": "markdown",
   "metadata": {},
   "source": [
    "## Exercise: Password generator\n",
    "Write a function named `random_password()` that uses the string and random modules, and returns a string of 10 random letters, numbers, and symbols. If you want to get fancy, you could give your function an optional password length argument."
   ]
  },
  {
   "cell_type": "code",
   "execution_count": null,
   "metadata": {},
   "outputs": [],
   "source": [
    "# Here's an implementation of random_password using a for loop:\n",
    "import random\n",
    "import string\n",
    "\n",
    "def random_password(length=10):\n",
    "    password = \"\"\n",
    "    letters = string.ascii_letters + string.digits + string.punctuation\n",
    "    for i in range(0, length):\n",
    "        password += random.choice(letters)\n",
    "    return password\n",
    "\n",
    "random_password()"
   ]
  },
  {
   "cell_type": "code",
   "execution_count": null,
   "metadata": {},
   "outputs": [],
   "source": [
    "# Here's an implementation of random_password using a while loop:\n",
    "import random\n",
    "import string\n",
    "\n",
    "def random_password(length=10):\n",
    "    password = \"\"\n",
    "    letters = string.ascii_letters + string.digits + string.punctuation\n",
    "    while len(password) < length:\n",
    "        password += random.choice(letters)\n",
    "    return password\n",
    "\n",
    "random_password(15)"
   ]
  },
  {
   "cell_type": "markdown",
   "metadata": {},
   "source": [
    "## Exercise: Dog name finder\n",
    "The file \"popular_dog_names.txt\" lists the 10 most popular names for female and male dogs in 2016 (according to the [American Kennel Club](https://www.akc.org/expert-advice/news/popular-dog-names-2016/)). Write a function that accepts a proposed dog name, and checks the popular_dog_names.txt file to see if that name is popular. If it is, print that the proposed name is popular, its rank, and for what gender of dog. If the proposed name is not found, print that the name wasn't found."
   ]
  },
  {
   "cell_type": "code",
   "execution_count": null,
   "metadata": {},
   "outputs": [],
   "source": [
    "def check_name(proposed_name):\n",
    "    # Open the file of dog names.\n",
    "    with open(\"popular_dog_names.txt\") as input_file:\n",
    "        # Iterate through the file, one line at a time.\n",
    "        for line in input_file:\n",
    "            # Remove the newline character from the line, then break it into comma-\n",
    "            # separated pieces.\n",
    "            details = line.strip().split(',')\n",
    "            # Compare the proposed name against the first field of the line.\n",
    "            if proposed_name == details[0]:\n",
    "                # Found it!\n",
    "                print(f\"{proposed_name} is popular, and ranks {details[2]} among {details[1]} dogs.\")\n",
    "                # Return from the function - no need to search anymore.\n",
    "                return\n",
    "    # If we got this far, the proposed name must not be popular.\n",
    "    print(f\"{proposed_name} is not popular, but is interesting and unique!\")\n",
    "\n",
    "check_name(\"Maggie\")\n",
    "check_name(\"Fido\")"
   ]
  },
  {
   "cell_type": "markdown",
   "metadata": {
    "slideshow": {
     "slide_type": "slide"
    }
   },
   "source": [
    "## Exercise: Improved Hello World function"
   ]
  },
  {
   "cell_type": "code",
   "execution_count": null,
   "metadata": {
    "scrolled": true
   },
   "outputs": [],
   "source": [
    "# Revise this hello_world function so that it can greet you in several different languages. \n",
    "# Your function must accept one argument, which is the language to use for the greeting, \n",
    "# and that argument should default to some language if no value is given. \n",
    "# Hint: this is a nice use case for a dictionary.\n",
    "def hello_world(language=\"English\"):\n",
    "    greetings = {'English': 'Hello, world!', 'French': 'Bonjour, monde!'}\n",
    "    greeting = greetings.get(language,f\"Howdy! Sorry, I don't speak {language}.\")\n",
    "    print(greeting)\n",
    "\n",
    "hello_world()\n",
    "hello_world('French')\n",
    "hello_world('Japanese')"
   ]
  },
  {
   "cell_type": "code",
   "execution_count": null,
   "metadata": {
    "scrolled": true
   },
   "outputs": [],
   "source": [
    "# Here's another solution to the improved hello_world function. Rather than using the \"get\" method\n",
    "# of the dictionary, this version uses the \"in\" operator.\n",
    "def hello_world(language=\"English\"):\n",
    "    greetings = {'English': 'Hello, world!', 'French': 'Bonjour, monde!'}\n",
    "    # Check if the language is one of the keys in the dictionary:\n",
    "    if language in greetings:\n",
    "        print(greetings[language])\n",
    "    else:\n",
    "        print(f\"Howdy! Sorry, I don't speak {language}.\")\n",
    "\n",
    "hello_world()\n",
    "hello_world('French')\n",
    "hello_world('Japanese')"
   ]
  },
  {
   "cell_type": "code",
   "execution_count": null,
   "metadata": {},
   "outputs": [],
   "source": [
    "# Here's yet another solution to the improved hello_world function. This version uses\n",
    "# exception handling:\n",
    "def hello_world(language=\"English\"):\n",
    "    greetings = {'English': 'Hello, world!', 'french': 'Bonjour, monde!'}\n",
    "    # This uses the try/except clause to handle a potential KeyError exception:\n",
    "    try:\n",
    "        print(greetings[language])\n",
    "    except KeyError:\n",
    "        print(f\"Howdy! Sorry, I don't speak {language}.\")\n",
    "\n",
    "hello_world()\n",
    "hello_world('French')\n",
    "hello_world('Japanese')"
   ]
  },
  {
   "cell_type": "markdown",
   "metadata": {},
   "source": [
    "## Exercise: Bioinformatics! DNA to protein translation\n",
    "This exercise puts it all together: functions, strings, modules, and dictionaries.\n",
    "\n",
    "The genetic code provides a mapping from the 4-letter alphabet of DNA (A, C, G, and T) to the 20-letter code of amino acids, that make up proteins. Three consecutive DNA \"letters\" map onto a single amino acid letter. For example, the DNA string \"ATG\" maps onto the amino acid letter \"M.\" Using the provided module \"geneticcode.py\" which defines the genetic code as a dictionary named \"codons,\" write a function that translates a DNA string to its amino acid sequence."
   ]
  },
  {
   "cell_type": "code",
   "execution_count": null,
   "metadata": {},
   "outputs": [],
   "source": [
    "# Here's a sequence to translate:\n",
    "dna_sequence = \"ATGGAGGAGCCGCAGTCAGATCCTAGCGTCGAGCCC\"\n",
    "# Create a function that translates this to an amino acid sequence, and call your function with this sequence.\n",
    "\n",
    "import geneticcode as gc\n",
    "def translate(dna):\n",
    "    \"\"\"translate() takes a DNA sequence as a character string argument, and returns its translation as an amino \n",
    "    acid sequence.\"\"\"\n",
    "    protein = ''\n",
    "    for start_position in range(0,len(dna),3):\n",
    "        codon = dna[start_position:start_position+3]\n",
    "        protein += gc.codons[codon]\n",
    "    return protein\n",
    "\n",
    "translate(dna_sequence)"
   ]
  },
  {
   "cell_type": "code",
   "execution_count": null,
   "metadata": {},
   "outputs": [],
   "source": [
    "# Here is a little more concise function that uses list comprehension.\n",
    "import geneticcode as gc\n",
    "def translate(dna):\n",
    "    \"\"\"translate() takes a DNA sequence as a character string argument, and returns its translation as an amino \n",
    "    acid sequence.\"\"\"    \n",
    "    protein_seq = ''\n",
    "    for codon in [dna[i:i + 3] for i in range(0, len(dna), 3)]:\n",
    "        protein_seq += gc.codons[codon]\n",
    "    return protein_seq\n",
    "\n",
    "translate(dna_sequence)"
   ]
  },
  {
   "cell_type": "code",
   "execution_count": null,
   "metadata": {},
   "outputs": [],
   "source": [
    "# Here is a one-line solution using map, a lambda expression, a list comprehension, and the string.join method.\n",
    "# It's very concise, but its readability suffers.\n",
    "import geneticcode as gc\n",
    "def translate(dnaseq):\n",
    "    \"\"\"translate() takes a DNA sequence as a character string argument, and returns its translation as an amino \n",
    "    acid sequence.\"\"\"\n",
    "    return ''.join(\n",
    "        map(\n",
    "            lambda x: gc.codons[x],\n",
    "            [\n",
    "                dnaseq[i:i + 3]\n",
    "                for i in range(0, len(dnaseq), 3)\n",
    "            ]\n",
    "        )\n",
    "    )\n",
    "\n",
    "translate(dna_sequence)"
   ]
  },
  {
   "cell_type": "markdown",
   "metadata": {
    "slideshow": {
     "slide_type": "subslide"
    }
   },
   "source": [
    "## Exercise: classes and inheritance\n",
    "1. In the cell below, create a class named `Dog` that describes dogs. The constructor (`__init__()`) should take one argument in addition to self: the dog's name. The class should implement one additional method, which is `speak()`. The `speak()` method should `return` some dog-appropriate sound like `\"Arf!\"`.\n",
    "2. Derive a `Poodle` class from the `Dog` class such that instances of the `Poodle` class make a more poodle-appropriate sound, like `\"Yip!\"`.\n",
    "3. Create a list with several instances of both the `Dog` and the `Poodle` class, and then iterate through the list printing their names and the return value of the `speak()` method."
   ]
  },
  {
   "cell_type": "code",
   "execution_count": null,
   "metadata": {},
   "outputs": [],
   "source": [
    "class Dog:\n",
    "    \"Class Dog defines a generic dog.\"\n",
    "    def __init__(self,name):\n",
    "        self.name = name\n",
    "    def speak(self):\n",
    "        return \"Arf!\"\n",
    "\n",
    "class Poodle(Dog):\n",
    "    \"\"\"Class Poodle defines a special kind of dog, and is derived from\n",
    "    the Dog class.\"\"\"\n",
    "    def speak(self):\n",
    "        return \"Yip!\" \n",
    "\n",
    "# Create an empty list.\n",
    "s=list()\n",
    "# Add some dogs to the list.\n",
    "s.append(Dog(\"Rex\"))\n",
    "s.append(Poodle(\"Fifi\"))\n",
    "s.append(Dog(\"Spot\"))\n",
    "s.append(Poodle(\"Spike\"))\n",
    "# For each dog ...\n",
    "for dog in s:\n",
    "    # ... print the dogs name and what it says.\n",
    "    print(dog.name, \"says\", dog.speak())"
   ]
  }
 ],
 "metadata": {
  "kernelspec": {
   "display_name": "Python 3 (ipykernel)",
   "language": "python",
   "name": "python3"
  },
  "language_info": {
   "codemirror_mode": {
    "name": "ipython",
    "version": 3
   },
   "file_extension": ".py",
   "mimetype": "text/x-python",
   "name": "python",
   "nbconvert_exporter": "python",
   "pygments_lexer": "ipython3",
   "version": "3.13.0"
  }
 },
 "nbformat": 4,
 "nbformat_minor": 4
}
